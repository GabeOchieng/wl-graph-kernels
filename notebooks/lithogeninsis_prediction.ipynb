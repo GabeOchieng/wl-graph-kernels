{
 "cells": [
  {
   "cell_type": "code",
   "execution_count": 64,
   "metadata": {},
   "outputs": [],
   "source": [
    "import sys\n",
    "sys.path.insert(0, '../')"
   ]
  },
  {
   "cell_type": "code",
   "execution_count": 65,
   "metadata": {},
   "outputs": [],
   "source": [
    "from collections import Counter\n",
    "\n",
    "import rdflib\n",
    "import numpy as np\n",
    "from pprint import pprint\n",
    "from sklearn import svm\n",
    "from sklearn.metrics import accuracy_score\n",
    "from sklearn.metrics import f1_score\n",
    "from sklearn.model_selection import train_test_split, cross_val_score\n",
    "\n",
    "import wlkernel"
   ]
  },
  {
   "cell_type": "code",
   "execution_count": 66,
   "metadata": {},
   "outputs": [],
   "source": [
    "rdf_graph = rdflib.Graph().parse('../data/Lexicon_NamedRockUnit.nt', format='nt')"
   ]
  },
  {
   "cell_type": "code",
   "execution_count": 67,
   "metadata": {},
   "outputs": [
    {
     "name": "stdout",
     "output_type": "stream",
     "text": [
      "Most common classes with predicate equal to 'hasLithogenesis':\n",
      "[('http://data.bgs.ac.uk/id/Lexicon/LithogeneticType/FLUV', 93),\n",
      " ('http://data.bgs.ac.uk/id/Lexicon/LithogeneticType/GLACI', 53)]\n"
     ]
    }
   ],
   "source": [
    "hasLithogenesis_most_common = Counter( str(o) for s, p, o in rdf_graph if 'hasLithogenesis' in str(p) ).most_common(2)\n",
    "print(\"Most common classes with predicate equal to 'hasLithogenesis':\")\n",
    "pprint(hasLithogenesis_most_common)\n",
    "classes = { c for c, _ in hasLithogenesis_most_common }"
   ]
  },
  {
   "cell_type": "code",
   "execution_count": 68,
   "metadata": {},
   "outputs": [],
   "source": [
    "instances_class_map = { str(s): str(o) for s, p, o in rdf_graph if str(o) in classes }\n",
    "assert len(instances_class_map) == 146\n",
    "instances = list(instances_class_map.keys())\n",
    "assert len(instances) == len(set(instances))\n",
    "y = np.array(list(instances_class_map.values()))"
   ]
  },
  {
   "cell_type": "code",
   "execution_count": 69,
   "metadata": {},
   "outputs": [
    {
     "data": {
      "text/plain": [
       "313901"
      ]
     },
     "execution_count": 69,
     "metadata": {},
     "output_type": "execute_result"
    }
   ],
   "source": [
    "triples = list( (str(s), str(p), str(o)) for s, p, o in rdf_graph if 'hasLithogenesis' not in str(p) )\n",
    "len(triples)"
   ]
  },
  {
   "cell_type": "code",
   "execution_count": 70,
   "metadata": {},
   "outputs": [],
   "source": [
    "depth_values = [1, 2, 3]\n",
    "iteration_values =  [0, 2, 4, 6]\n",
    "C_values = [0.001, 0.01, 0.1, 1., 10., 100.]"
   ]
  },
  {
   "cell_type": "code",
   "execution_count": null,
   "metadata": {},
   "outputs": [],
   "source": [
    "from collections import OrderedDict\n",
    "from sklearn.model_selection import cross_validate\n",
    "RANDOM_STATE = 42\n",
    "\n",
    "results = OrderedDict()\n",
    "\n",
    "for d in depth_values:\n",
    "    for it in iteration_values:\n",
    "        wlrdf_graph = wlkernel.WLRDFGraph(triples, instances, max_depth=d)\n",
    "        kernel_matrix = wlkernel.wlrdf_kernel_matrix(wlrdf_graph, instances, iterations=it)\n",
    "        kernel_matrix = wlkernel.kernel_normalization(kernel_matrix)\n",
    "        \n",
    "        results[(d, it)] = [0, 0, 0]\n",
    "        for c in C_values:\n",
    "            classifier = svm.SVC(C=1.0, kernel='precomputed', class_weight='balanced', random_state=RANDOM_STATE)\n",
    "            scores = cross_validate(classifier, kernel_matrix, y, cv=10, scoring=('accuracy', 'f1_macro'))\n",
    "            \n",
    "            acc_mean = scores['test_accuracy'].mean()\n",
    "            f1_mean = scores['test_f1_macro'].mean()\n",
    "            \n",
    "            if acc_mean > results[(d, it)][0]:\n",
    "                results[(d, it)] = [acc_mean, f1_mean, c]"
   ]
  },
  {
   "cell_type": "code",
   "execution_count": null,
   "metadata": {},
   "outputs": [],
   "source": [
    "import pandas as pd\n",
    "\n",
    "fn = 'lithogenesis_results_with_normalization'\n",
    "\n",
    "df_res = pd.DataFrame(index=list(results.keys()))\n",
    "df_res['accuracy'] = [t[0] for t in results.values()]\n",
    "df_res['f1'] = [t[1] for t in results.values()]\n",
    "df_res['C'] = [t[2] for t in results.values()]\n",
    "df_res = df.set_index(pd.MultiIndex.from_tuples(df_res.index, names=['depth', 'iterations']))\n",
    "df_res.to_csv(f'./{fn}.csv')\n",
    "df_res_test = pd.read_csv(f'./{fn}.csv', index_col=['depth', 'iterations'])\n",
    "df_test.to_html(f'{fn}.html')\n",
    "df_res_test"
   ]
  }
 ],
 "metadata": {
  "kernelspec": {
   "display_name": "Python 3",
   "language": "python",
   "name": "python3"
  },
  "language_info": {
   "codemirror_mode": {
    "name": "ipython",
    "version": 3
   },
   "file_extension": ".py",
   "mimetype": "text/x-python",
   "name": "python",
   "nbconvert_exporter": "python",
   "pygments_lexer": "ipython3",
   "version": "3.7.3"
  }
 },
 "nbformat": 4,
 "nbformat_minor": 2
}
