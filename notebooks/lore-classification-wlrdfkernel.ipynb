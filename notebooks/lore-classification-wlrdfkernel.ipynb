{
 "cells": [
  {
   "cell_type": "code",
   "execution_count": 1,
   "metadata": {},
   "outputs": [],
   "source": [
    "import sys\n",
    "sys.path.insert(0, '../') "
   ]
  },
  {
   "cell_type": "code",
   "execution_count": 2,
   "metadata": {},
   "outputs": [],
   "source": [
    "import rdflib\n",
    "from wlkernel import *\n",
    "import random\n",
    "from itertools import chain\n",
    "from pathlib import Path\n",
    "from pprint import pprint\n",
    "from collections import Counter"
   ]
  },
  {
   "cell_type": "code",
   "execution_count": 3,
   "metadata": {},
   "outputs": [],
   "source": [
    "rdf_graph = rdflib.Graph().parse('../tests/resources/aifbfixed_complete.n3', format='n3')"
   ]
  },
  {
   "cell_type": "code",
   "execution_count": 4,
   "metadata": {},
   "outputs": [],
   "source": [
    "# there is only one instance that belong to the class id5instance, then we remove it\n",
    "#Counter([t[1] for t in all_instances]).most_common()  # command to verify it, use it after all_instances definition\n",
    "rdf_graph.remove( (\n",
    "    rdflib.term.URIRef('http://www.aifb.uni-karlsruhe.de/Personen/viewPersonOWL/id1959instance'),\n",
    "    rdflib.term.URIRef('http://swrc.ontoware.org/ontology#affiliation'),\n",
    "    rdflib.term.URIRef('http://www.aifb.uni-karlsruhe.de/Forschungsgruppen/viewForschungsgruppeOWL/id5instance')\n",
    "))"
   ]
  },
  {
   "cell_type": "code",
   "execution_count": 5,
   "metadata": {},
   "outputs": [],
   "source": [
    "affiliation_uri = rdflib.URIRef('http://swrc.ontoware.org/ontology#affiliation')\n",
    "all_instances = [ (t[0], t[2]) for t in rdf_graph.triples( (None, affiliation_uri, None) ) ]\n",
    "assert len(all_instances) == len(set(all_instances))"
   ]
  },
  {
   "cell_type": "code",
   "execution_count": 6,
   "metadata": {},
   "outputs": [],
   "source": [
    "n = 40\n",
    "random.seed(42)\n",
    "instances = random.sample(all_instances, n)\n",
    "instances_id = [x[0] for x in instances]\n",
    "instances_class = [x[1] for x in instances]\n",
    "# print('Amount of the values of the classes:\\n\\t')\n",
    "# pprint(Counter(instances_class).most_common())"
   ]
  },
  {
   "cell_type": "code",
   "execution_count": 7,
   "metadata": {},
   "outputs": [],
   "source": [
    "employs_uri = rdflib.term.URIRef('http://swrc.ontoware.org/ontology#employs')\n",
    "head_uri = rdflib.term.URIRef('http://swrc.ontoware.org/ontology#head')\n",
    "member_uri = rdflib.term.URIRef('http://swrc.ontoware.org/ontology#member')\n",
    "predicates_to_remove = [employs_uri, head_uri, member_uri, affiliation_uri]\n",
    "for predicate in predicates_to_remove:\n",
    "    rdf_graph.remove( (None, predicate, None) )"
   ]
  },
  {
   "cell_type": "code",
   "execution_count": 8,
   "metadata": {},
   "outputs": [],
   "source": [
    "instances_id = [str(x) for x in instances_id]\n",
    "instances_class = [str(x) for x in instances_class]"
   ]
  },
  {
   "cell_type": "code",
   "execution_count": 9,
   "metadata": {},
   "outputs": [],
   "source": [
    "######## number of cores: 12 | max_depth: 2 | iterations: 1 | seed: 42\n",
    "########\n",
    "#### number of instances: 5\n",
    "########\n",
    "# SEQ: 29.8 s ± 382 ms per loop (mean ± std. dev. of 7 runs, 1 loop each)\n",
    "# PAR: 10.9 s ± 272 ms per loop (mean ± std. dev. of 7 runs, 1 loop each)\n",
    "# SPEEDUP: 2.7339\n",
    "########\n",
    "#### number of instances: 10\n",
    "########\n",
    "# SEQ: 1min 6s ± 501 ms per loop (mean ± std. dev. of 7 runs, 1 loop each)\n",
    "# PAR:   28.5s ± 161 ms per loop (mean ± std. dev. of 7 runs, 1 loop each)\n",
    "# SPEEDUP: 2.3571\n",
    "########\n",
    "#### number of instances: 20\n",
    "########\n",
    "# SEQ: 4min 30s ± 0 ns per loop (mean ± std. dev. of 1 run, 1 loop each)\n",
    "# PAR: 1min 51s ± 0 ns per loop (mean ± std. dev. of 1 run, 1 loop each)\n",
    "# SEEPDUP: 2.4324\n",
    "########\n",
    "#### number of instances: 30\n",
    "########\n",
    "# SEQ: 14min 32s ± 0 ns per loop (mean ± std. dev. of 1 run, 1 loop each)\n",
    "# PAR: 5min 12s ± 0 ns per loop (mean ± std. dev. of 1 run, 1 loop each)\n",
    "# SPEEDUP: 2.7949\n",
    "########\n",
    "#### number of instances: 40\n",
    "########\n",
    "# SEQ: ???\n",
    "# PAR: 8min 7s ± 0 ns per loop (mean ± std. dev. of 1 run, 1 loop each)\n",
    "# SPEEDUP: ???\n",
    "########\n"
   ]
  },
  {
   "cell_type": "code",
   "execution_count": 10,
   "metadata": {},
   "outputs": [
    {
     "name": "stdout",
     "output_type": "stream",
     "text": [
      "14min 32s ± 0 ns per loop (mean ± std. dev. of 1 run, 1 loop each)\n"
     ]
    }
   ],
   "source": [
    "# %timeit -n 1 -r 1 kernel_matrix = compute_kernel_matrix(rdf_graph, instances_id, 2, 1)"
   ]
  },
  {
   "cell_type": "code",
   "execution_count": 11,
   "metadata": {},
   "outputs": [
    {
     "name": "stderr",
     "output_type": "stream",
     "text": [
      "[Parallel(n_jobs=-1)]: Using backend LokyBackend with 12 concurrent workers.\n",
      "[Parallel(n_jobs=-1)]: Done   1 tasks      | elapsed:    1.5s\n",
      "[Parallel(n_jobs=-1)]: Done   8 tasks      | elapsed:    5.4s\n",
      "[Parallel(n_jobs=-1)]: Done  17 tasks      | elapsed:   11.5s\n",
      "[Parallel(n_jobs=-1)]: Done  26 tasks      | elapsed:   16.3s\n",
      "[Parallel(n_jobs=-1)]: Done  37 tasks      | elapsed:   23.6s\n",
      "[Parallel(n_jobs=-1)]: Done  48 tasks      | elapsed:   28.7s\n",
      "[Parallel(n_jobs=-1)]: Done  61 tasks      | elapsed:   36.9s\n",
      "[Parallel(n_jobs=-1)]: Done  74 tasks      | elapsed:   45.4s\n",
      "[Parallel(n_jobs=-1)]: Done  89 tasks      | elapsed:   53.8s\n",
      "[Parallel(n_jobs=-1)]: Done 104 tasks      | elapsed:  1.1min\n",
      "[Parallel(n_jobs=-1)]: Done 121 tasks      | elapsed:  1.2min\n",
      "[Parallel(n_jobs=-1)]: Done 138 tasks      | elapsed:  1.4min\n",
      "[Parallel(n_jobs=-1)]: Done 157 tasks      | elapsed:  1.6min\n",
      "[Parallel(n_jobs=-1)]: Done 176 tasks      | elapsed:  1.7min\n",
      "[Parallel(n_jobs=-1)]: Done 197 tasks      | elapsed:  2.0min\n",
      "[Parallel(n_jobs=-1)]: Done 218 tasks      | elapsed:  2.2min\n",
      "[Parallel(n_jobs=-1)]: Done 241 tasks      | elapsed:  2.4min\n",
      "[Parallel(n_jobs=-1)]: Done 264 tasks      | elapsed:  2.6min\n",
      "[Parallel(n_jobs=-1)]: Done 289 tasks      | elapsed:  2.9min\n",
      "[Parallel(n_jobs=-1)]: Done 314 tasks      | elapsed:  3.1min\n",
      "[Parallel(n_jobs=-1)]: Done 341 tasks      | elapsed:  3.4min\n",
      "[Parallel(n_jobs=-1)]: Done 368 tasks      | elapsed:  3.7min\n",
      "[Parallel(n_jobs=-1)]: Done 397 tasks      | elapsed:  4.0min\n",
      "[Parallel(n_jobs=-1)]: Done 426 tasks      | elapsed:  4.3min\n",
      "[Parallel(n_jobs=-1)]: Done 457 tasks      | elapsed:  4.6min\n",
      "[Parallel(n_jobs=-1)]: Done 488 tasks      | elapsed:  4.9min\n",
      "[Parallel(n_jobs=-1)]: Done 521 tasks      | elapsed:  5.4min\n",
      "[Parallel(n_jobs=-1)]: Done 554 tasks      | elapsed:  5.7min\n",
      "[Parallel(n_jobs=-1)]: Done 589 tasks      | elapsed:  6.1min\n",
      "[Parallel(n_jobs=-1)]: Done 624 tasks      | elapsed:  6.5min\n",
      "[Parallel(n_jobs=-1)]: Done 661 tasks      | elapsed:  6.9min\n",
      "[Parallel(n_jobs=-1)]: Done 698 tasks      | elapsed:  7.7min\n",
      "[Parallel(n_jobs=-1)]: Done 737 tasks      | elapsed:  8.0min\n",
      "[Parallel(n_jobs=-1)]: Done 780 out of 780 | elapsed:  8.4min finished\n"
     ]
    }
   ],
   "source": [
    "# %timeit -n 1 -r 1 kernel_matrix_par = compute_kernel_matrix_par(rdf_graph, instances_id, 2, 1)\n",
    "kernel_matrix_par = compute_kernel_matrix_par(rdf_graph, instances_id, 2, 1)"
   ]
  },
  {
   "cell_type": "code",
   "execution_count": 2,
   "metadata": {},
   "outputs": [
    {
     "ename": "NameError",
     "evalue": "name 'kernel_matrix' is not defined",
     "output_type": "error",
     "traceback": [
      "\u001b[0;31m---------------------------------------------------------------------------\u001b[0m",
      "\u001b[0;31mNameError\u001b[0m                                 Traceback (most recent call last)",
      "\u001b[0;32m<ipython-input-2-05d23b47cdf4>\u001b[0m in \u001b[0;36m<module>\u001b[0;34m\u001b[0m\n\u001b[0;32m----> 1\u001b[0;31m \u001b[0mkernel_matrix\u001b[0m \u001b[0;34m==\u001b[0m \u001b[0mkernel_matrix_par\u001b[0m\u001b[0;34m\u001b[0m\u001b[0;34m\u001b[0m\u001b[0m\n\u001b[0m",
      "\u001b[0;31mNameError\u001b[0m: name 'kernel_matrix' is not defined"
     ]
    }
   ],
   "source": [
    "kernel_matrix == kernel_matrix_par"
   ]
  },
  {
   "cell_type": "code",
   "execution_count": 12,
   "metadata": {},
   "outputs": [],
   "source": [
    "X = kernel_matrix_par\n",
    "y = instances_class"
   ]
  },
  {
   "cell_type": "code",
   "execution_count": 13,
   "metadata": {},
   "outputs": [],
   "source": [
    "from sklearn.model_selection import train_test_split\n",
    "X_train, X_test, y_train, y_test = train_test_split(X, y, test_size=0.5, random_state=42)"
   ]
  },
  {
   "cell_type": "code",
   "execution_count": 14,
   "metadata": {},
   "outputs": [],
   "source": [
    "from sklearn.ensemble import RandomForestClassifier"
   ]
  },
  {
   "cell_type": "code",
   "execution_count": 15,
   "metadata": {},
   "outputs": [
    {
     "data": {
      "text/plain": [
       "RandomForestClassifier(bootstrap=True, class_weight=None, criterion='gini',\n",
       "                       max_depth=None, max_features='auto', max_leaf_nodes=None,\n",
       "                       min_impurity_decrease=0.0, min_impurity_split=None,\n",
       "                       min_samples_leaf=1, min_samples_split=2,\n",
       "                       min_weight_fraction_leaf=0.0, n_estimators=75,\n",
       "                       n_jobs=None, oob_score=False, random_state=None,\n",
       "                       verbose=0, warm_start=False)"
      ]
     },
     "execution_count": 15,
     "metadata": {},
     "output_type": "execute_result"
    }
   ],
   "source": [
    "tree_clf = RandomForestClassifier(n_estimators=75)\n",
    "tree_clf.fit(X_train, y_train)"
   ]
  },
  {
   "cell_type": "code",
   "execution_count": 16,
   "metadata": {},
   "outputs": [],
   "source": [
    "y_pred_train = tree_clf.predict(X_train)\n",
    "y_pred = tree_clf.predict(X_test)"
   ]
  },
  {
   "cell_type": "code",
   "execution_count": 17,
   "metadata": {},
   "outputs": [],
   "source": [
    "def accuracy(y_true, y_pred): return sum([x == y for x, y in zip(y_true, y_pred)]) / len(y_true)"
   ]
  },
  {
   "cell_type": "code",
   "execution_count": 18,
   "metadata": {},
   "outputs": [
    {
     "name": "stdout",
     "output_type": "stream",
     "text": [
      "Train accuracy:  1.0\n",
      "Test accuracy:  0.45\n"
     ]
    }
   ],
   "source": [
    "print('Train accuracy: ', accuracy(y_train, y_pred_train))\n",
    "print('Test accuracy: ', accuracy(y_test, y_pred))"
   ]
  },
  {
   "cell_type": "code",
   "execution_count": 19,
   "metadata": {},
   "outputs": [
    {
     "data": {
      "text/plain": [
       "array(['http://www.aifb.uni-karlsruhe.de/Forschungsgruppen/viewForschungsgruppeOWL/id3instance',\n",
       "       'http://www.aifb.uni-karlsruhe.de/Forschungsgruppen/viewForschungsgruppeOWL/id3instance',\n",
       "       'http://www.aifb.uni-karlsruhe.de/Forschungsgruppen/viewForschungsgruppeOWL/id1instance',\n",
       "       'http://www.aifb.uni-karlsruhe.de/Forschungsgruppen/viewForschungsgruppeOWL/id1instance',\n",
       "       'http://www.aifb.uni-karlsruhe.de/Forschungsgruppen/viewForschungsgruppeOWL/id2instance',\n",
       "       'http://www.aifb.uni-karlsruhe.de/Forschungsgruppen/viewForschungsgruppeOWL/id3instance',\n",
       "       'http://www.aifb.uni-karlsruhe.de/Forschungsgruppen/viewForschungsgruppeOWL/id4instance',\n",
       "       'http://www.aifb.uni-karlsruhe.de/Forschungsgruppen/viewForschungsgruppeOWL/id2instance',\n",
       "       'http://www.aifb.uni-karlsruhe.de/Forschungsgruppen/viewForschungsgruppeOWL/id4instance',\n",
       "       'http://www.aifb.uni-karlsruhe.de/Forschungsgruppen/viewForschungsgruppeOWL/id1instance',\n",
       "       'http://www.aifb.uni-karlsruhe.de/Forschungsgruppen/viewForschungsgruppeOWL/id3instance',\n",
       "       'http://www.aifb.uni-karlsruhe.de/Forschungsgruppen/viewForschungsgruppeOWL/id4instance',\n",
       "       'http://www.aifb.uni-karlsruhe.de/Forschungsgruppen/viewForschungsgruppeOWL/id4instance',\n",
       "       'http://www.aifb.uni-karlsruhe.de/Forschungsgruppen/viewForschungsgruppeOWL/id1instance',\n",
       "       'http://www.aifb.uni-karlsruhe.de/Forschungsgruppen/viewForschungsgruppeOWL/id1instance',\n",
       "       'http://www.aifb.uni-karlsruhe.de/Forschungsgruppen/viewForschungsgruppeOWL/id1instance',\n",
       "       'http://www.aifb.uni-karlsruhe.de/Forschungsgruppen/viewForschungsgruppeOWL/id1instance',\n",
       "       'http://www.aifb.uni-karlsruhe.de/Forschungsgruppen/viewForschungsgruppeOWL/id2instance',\n",
       "       'http://www.aifb.uni-karlsruhe.de/Forschungsgruppen/viewForschungsgruppeOWL/id4instance',\n",
       "       'http://www.aifb.uni-karlsruhe.de/Forschungsgruppen/viewForschungsgruppeOWL/id1instance'],\n",
       "      dtype='<U86')"
      ]
     },
     "execution_count": 19,
     "metadata": {},
     "output_type": "execute_result"
    }
   ],
   "source": [
    "y_pred"
   ]
  }
 ],
 "metadata": {
  "kernelspec": {
   "display_name": "Python 3",
   "language": "python",
   "name": "python3"
  },
  "language_info": {
   "codemirror_mode": {
    "name": "ipython",
    "version": 3
   },
   "file_extension": ".py",
   "mimetype": "text/x-python",
   "name": "python",
   "nbconvert_exporter": "python",
   "pygments_lexer": "ipython3",
   "version": "3.7.3"
  }
 },
 "nbformat": 4,
 "nbformat_minor": 2
}
