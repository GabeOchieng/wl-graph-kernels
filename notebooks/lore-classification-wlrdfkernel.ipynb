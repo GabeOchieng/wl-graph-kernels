{
 "cells": [
  {
   "cell_type": "code",
   "execution_count": 137,
   "metadata": {},
   "outputs": [],
   "source": [
    "import sys\n",
    "sys.path.insert(0, '../') "
   ]
  },
  {
   "cell_type": "code",
   "execution_count": 138,
   "metadata": {},
   "outputs": [],
   "source": [
    "import rdflib\n",
    "from wlkernel import *\n",
    "import random\n",
    "from itertools import chain\n",
    "from pathlib import Path\n",
    "from pprint import pprint\n",
    "from collections import Counter"
   ]
  },
  {
   "cell_type": "code",
   "execution_count": 139,
   "metadata": {},
   "outputs": [],
   "source": [
    "rdf_graph = rdflib.Graph().parse('../tests/resources/aifbfixed_complete.n3', format='n3')"
   ]
  },
  {
   "cell_type": "code",
   "execution_count": 140,
   "metadata": {},
   "outputs": [],
   "source": [
    "# there is only one instance that belong to the class id5instance, then we remove it\n",
    "#Counter([t[1] for t in all_instances]).most_common()  # command to verify it, use it after all_instances definition\n",
    "rdf_graph.remove( (\n",
    "    rdflib.term.URIRef('http://www.aifb.uni-karlsruhe.de/Personen/viewPersonOWL/id1959instance'),\n",
    "    rdflib.term.URIRef('http://swrc.ontoware.org/ontology#affiliation'),\n",
    "    rdflib.term.URIRef('http://www.aifb.uni-karlsruhe.de/Forschungsgruppen/viewForschungsgruppeOWL/id5instance')\n",
    "))"
   ]
  },
  {
   "cell_type": "code",
   "execution_count": 141,
   "metadata": {},
   "outputs": [
    {
     "name": "stdout",
     "output_type": "stream",
     "text": [
      "177\n"
     ]
    }
   ],
   "source": [
    "affiliation_uri = rdflib.URIRef('http://swrc.ontoware.org/ontology#affiliation')\n",
    "all_instances = [ (t[0], t[2]) for t in rdf_graph.triples( (None, affiliation_uri, None) ) ]\n",
    "assert len(all_instances) == len(set(all_instances))\n",
    "print(len(all_instances))"
   ]
  },
  {
   "cell_type": "code",
   "execution_count": 142,
   "metadata": {},
   "outputs": [],
   "source": [
    "n = 60\n",
    "random.seed(42)\n",
    "instances = random.sample(all_instances, n)\n",
    "instances_id = [x[0] for x in instances]\n",
    "instances_class = [x[1] for x in instances]\n",
    "# print('Amount of the values of the classes:\\n\\t')\n",
    "# pprint(Counter(instances_class).most_common())"
   ]
  },
  {
   "cell_type": "code",
   "execution_count": 143,
   "metadata": {},
   "outputs": [],
   "source": [
    "employs_uri = rdflib.term.URIRef('http://swrc.ontoware.org/ontology#employs')\n",
    "head_uri = rdflib.term.URIRef('http://swrc.ontoware.org/ontology#head')\n",
    "member_uri = rdflib.term.URIRef('http://swrc.ontoware.org/ontology#member')\n",
    "predicates_to_remove = [employs_uri, head_uri, member_uri, affiliation_uri]\n",
    "for predicate in predicates_to_remove:\n",
    "    rdf_graph.remove( (None, predicate, None) )"
   ]
  },
  {
   "cell_type": "code",
   "execution_count": 144,
   "metadata": {},
   "outputs": [],
   "source": [
    "instances_id = [str(x) for x in instances_id]\n",
    "instances_class = [str(x) for x in instances_class]"
   ]
  },
  {
   "cell_type": "code",
   "execution_count": 145,
   "metadata": {},
   "outputs": [],
   "source": [
    "######## number of cores: 12 | max_depth: 2 | iterations: 1 | seed: 42\n",
    "########\n",
    "#### number of instances: 5\n",
    "########\n",
    "# SEQ: 29.8 s ± 382 ms per loop (mean ± std. dev. of 7 runs, 1 loop each)\n",
    "# PAR: 10.9 s ± 272 ms per loop (mean ± std. dev. of 7 runs, 1 loop each)\n",
    "# SPEEDUP: 2.7339\n",
    "########\n",
    "#### number of instances: 10\n",
    "########\n",
    "# SEQ: 1min 6s ± 501 ms per loop (mean ± std. dev. of 7 runs, 1 loop each)\n",
    "# PAR:   28.5s ± 161 ms per loop (mean ± std. dev. of 7 runs, 1 loop each)\n",
    "# SPEEDUP: 2.3571\n",
    "########\n",
    "#### number of instances: 20\n",
    "########\n",
    "# SEQ: 4min 30s ± 0 ns per loop (mean ± std. dev. of 1 run, 1 loop each)\n",
    "# PAR: 1min 51s ± 0 ns per loop (mean ± std. dev. of 1 run, 1 loop each)\n",
    "# SEEPDUP: 2.4324\n",
    "########\n",
    "#### number of instances: 30\n",
    "########\n",
    "# SEQ: 14min 32s ± 0 ns per loop (mean ± std. dev. of 1 run, 1 loop each)\n",
    "# PAR: 5min 12s ± 0 ns per loop (mean ± std. dev. of 1 run, 1 loop each)\n",
    "# SPEEDUP: 2.7949\n",
    "########\n",
    "#### number of instances: 40\n",
    "########\n",
    "# SEQ: ???\n",
    "# PAR: 8min 7s ± 0 ns per loop (mean ± std. dev. of 1 run, 1 loop each)\n",
    "# SPEEDUP: ???\n",
    "########\n",
    "#### number of instances: 60\n",
    "########\n",
    "# SEQ: ???\n",
    "# PAR: 24min 20s ± 0 ns per loop (mean ± std. dev. of 1 run, 1 loop each)\n",
    "# SPEEDUP: ???\n",
    "########"
   ]
  },
  {
   "cell_type": "code",
   "execution_count": 146,
   "metadata": {},
   "outputs": [],
   "source": [
    "# %timeit -n 1 -r 1 kernel_matrix = compute_kernel_matrix(rdf_graph, instances_id, 2, 1)"
   ]
  },
  {
   "cell_type": "code",
   "execution_count": 147,
   "metadata": {},
   "outputs": [
    {
     "name": "stderr",
     "output_type": "stream",
     "text": [
      "[Parallel(n_jobs=-1)]: Using backend LokyBackend with 12 concurrent workers.\n",
      "[Parallel(n_jobs=-1)]: Done   1 tasks      | elapsed:    7.2s\n",
      "[Parallel(n_jobs=-1)]: Done   8 tasks      | elapsed:   24.6s\n",
      "[Parallel(n_jobs=-1)]: Done  17 tasks      | elapsed:   29.5s\n",
      "[Parallel(n_jobs=-1)]: Done  26 tasks      | elapsed:   36.2s\n",
      "[Parallel(n_jobs=-1)]: Done  37 tasks      | elapsed:   42.5s\n",
      "[Parallel(n_jobs=-1)]: Done  48 tasks      | elapsed:   49.3s\n",
      "[Parallel(n_jobs=-1)]: Done  61 tasks      | elapsed:   58.5s\n",
      "[Parallel(n_jobs=-1)]: Done  74 tasks      | elapsed:  1.1min\n",
      "[Parallel(n_jobs=-1)]: Done  89 tasks      | elapsed:  1.3min\n",
      "[Parallel(n_jobs=-1)]: Done 104 tasks      | elapsed:  1.4min\n",
      "[Parallel(n_jobs=-1)]: Done 121 tasks      | elapsed:  1.6min\n",
      "[Parallel(n_jobs=-1)]: Done 138 tasks      | elapsed:  1.8min\n",
      "[Parallel(n_jobs=-1)]: Done 157 tasks      | elapsed:  2.0min\n",
      "[Parallel(n_jobs=-1)]: Done 176 tasks      | elapsed:  2.4min\n",
      "[Parallel(n_jobs=-1)]: Done 197 tasks      | elapsed:  2.9min\n",
      "[Parallel(n_jobs=-1)]: Done 218 tasks      | elapsed:  3.4min\n",
      "[Parallel(n_jobs=-1)]: Done 241 tasks      | elapsed:  3.7min\n",
      "[Parallel(n_jobs=-1)]: Done 264 tasks      | elapsed:  3.9min\n",
      "[Parallel(n_jobs=-1)]: Done 289 tasks      | elapsed:  4.2min\n",
      "[Parallel(n_jobs=-1)]: Done 314 tasks      | elapsed:  4.5min\n",
      "[Parallel(n_jobs=-1)]: Done 341 tasks      | elapsed:  4.9min\n",
      "[Parallel(n_jobs=-1)]: Done 368 tasks      | elapsed:  5.2min\n",
      "[Parallel(n_jobs=-1)]: Done 397 tasks      | elapsed:  5.6min\n",
      "[Parallel(n_jobs=-1)]: Done 426 tasks      | elapsed:  5.9min\n",
      "[Parallel(n_jobs=-1)]: Done 457 tasks      | elapsed:  6.3min\n",
      "[Parallel(n_jobs=-1)]: Done 488 tasks      | elapsed:  6.6min\n",
      "[Parallel(n_jobs=-1)]: Done 521 tasks      | elapsed:  6.9min\n",
      "[Parallel(n_jobs=-1)]: Done 554 tasks      | elapsed:  7.4min\n",
      "[Parallel(n_jobs=-1)]: Done 589 tasks      | elapsed:  7.8min\n",
      "[Parallel(n_jobs=-1)]: Done 624 tasks      | elapsed:  8.2min\n",
      "[Parallel(n_jobs=-1)]: Done 661 tasks      | elapsed:  8.6min\n",
      "[Parallel(n_jobs=-1)]: Done 698 tasks      | elapsed:  9.1min\n",
      "[Parallel(n_jobs=-1)]: Done 737 tasks      | elapsed:  9.6min\n",
      "[Parallel(n_jobs=-1)]: Done 776 tasks      | elapsed: 10.1min\n",
      "[Parallel(n_jobs=-1)]: Done 817 tasks      | elapsed: 10.6min\n",
      "[Parallel(n_jobs=-1)]: Done 858 tasks      | elapsed: 11.1min\n",
      "[Parallel(n_jobs=-1)]: Done 901 tasks      | elapsed: 11.6min\n",
      "[Parallel(n_jobs=-1)]: Done 944 tasks      | elapsed: 12.6min\n",
      "[Parallel(n_jobs=-1)]: Done 989 tasks      | elapsed: 13.3min\n",
      "[Parallel(n_jobs=-1)]: Done 1034 tasks      | elapsed: 14.2min\n",
      "[Parallel(n_jobs=-1)]: Done 1081 tasks      | elapsed: 14.8min\n",
      "[Parallel(n_jobs=-1)]: Done 1128 tasks      | elapsed: 15.4min\n",
      "[Parallel(n_jobs=-1)]: Done 1177 tasks      | elapsed: 16.1min\n",
      "[Parallel(n_jobs=-1)]: Done 1226 tasks      | elapsed: 16.7min\n",
      "[Parallel(n_jobs=-1)]: Done 1277 tasks      | elapsed: 17.6min\n",
      "[Parallel(n_jobs=-1)]: Done 1328 tasks      | elapsed: 18.2min\n",
      "[Parallel(n_jobs=-1)]: Done 1381 tasks      | elapsed: 19.0min\n",
      "[Parallel(n_jobs=-1)]: Done 1434 tasks      | elapsed: 19.6min\n",
      "[Parallel(n_jobs=-1)]: Done 1489 tasks      | elapsed: 20.6min\n",
      "[Parallel(n_jobs=-1)]: Done 1544 tasks      | elapsed: 21.3min\n",
      "[Parallel(n_jobs=-1)]: Done 1601 tasks      | elapsed: 22.1min\n",
      "[Parallel(n_jobs=-1)]: Done 1658 tasks      | elapsed: 22.8min\n",
      "[Parallel(n_jobs=-1)]: Done 1717 tasks      | elapsed: 24.3min\n",
      "[Parallel(n_jobs=-1)]: Done 1770 out of 1770 | elapsed: 25.3min finished\n"
     ]
    }
   ],
   "source": [
    "# %timeit -n 1 -r 1 kernel_matrix_par = compute_kernel_matrix_par(rdf_graph, instances_id, 2, 1)\n",
    "kernel_matrix_par = compute_kernel_matrix_par(rdf_graph, instances_id, 2, 1)"
   ]
  },
  {
   "cell_type": "code",
   "execution_count": 148,
   "metadata": {},
   "outputs": [],
   "source": [
    "# kernel_matrix == kernel_matrix_par"
   ]
  },
  {
   "cell_type": "code",
   "execution_count": 232,
   "metadata": {},
   "outputs": [],
   "source": [
    "# import pandas as pd\n",
    "# X_df = pd.DataFrame({x: y for x, y in list(enumerate(X))})"
   ]
  },
  {
   "cell_type": "code",
   "execution_count": 265,
   "metadata": {},
   "outputs": [],
   "source": [
    "X = kernel_matrix_par\n",
    "y = instances_class"
   ]
  },
  {
   "cell_type": "code",
   "execution_count": 266,
   "metadata": {},
   "outputs": [],
   "source": [
    "from sklearn.preprocessing import StandardScaler\n",
    "sc = StandardScaler()\n",
    "X_sc = sc.fit_transform(X)\n",
    "for i in range(len(X_sc)):\n",
    "    X_sc[i][i] = 0"
   ]
  },
  {
   "cell_type": "code",
   "execution_count": 267,
   "metadata": {},
   "outputs": [],
   "source": [
    "from sklearn.model_selection import train_test_split\n",
    "X_train, X_test, y_train, y_test = train_test_split(X_sc, y, test_size=0.50, random_state=42)"
   ]
  },
  {
   "cell_type": "code",
   "execution_count": 268,
   "metadata": {},
   "outputs": [
    {
     "data": {
      "text/plain": [
       "RandomForestClassifier(bootstrap=True, class_weight=None, criterion='gini',\n",
       "                       max_depth=3, max_features='auto', max_leaf_nodes=None,\n",
       "                       min_impurity_decrease=0.0, min_impurity_split=None,\n",
       "                       min_samples_leaf=1, min_samples_split=2,\n",
       "                       min_weight_fraction_leaf=0.0, n_estimators=200,\n",
       "                       n_jobs=None, oob_score=False, random_state=None,\n",
       "                       verbose=0, warm_start=False)"
      ]
     },
     "execution_count": 268,
     "metadata": {},
     "output_type": "execute_result"
    }
   ],
   "source": [
    "from sklearn.ensemble import RandomForestClassifier\n",
    "rf_clf = RandomForestClassifier(n_estimators=200, max_depth=3)\n",
    "rf_clf.fit(X_train, y_train)"
   ]
  },
  {
   "cell_type": "code",
   "execution_count": 269,
   "metadata": {},
   "outputs": [
    {
     "data": {
      "text/plain": [
       "DecisionTreeClassifier(class_weight=None, criterion='gini', max_depth=None,\n",
       "                       max_features=None, max_leaf_nodes=None,\n",
       "                       min_impurity_decrease=0.0, min_impurity_split=None,\n",
       "                       min_samples_leaf=1, min_samples_split=2,\n",
       "                       min_weight_fraction_leaf=0.0, presort=False,\n",
       "                       random_state=None, splitter='best')"
      ]
     },
     "execution_count": 269,
     "metadata": {},
     "output_type": "execute_result"
    }
   ],
   "source": [
    "from sklearn.tree import DecisionTreeClassifier\n",
    "tree_clf = DecisionTreeClassifier()\n",
    "tree_clf.fit(X_train, y_train)"
   ]
  },
  {
   "cell_type": "code",
   "execution_count": 270,
   "metadata": {},
   "outputs": [],
   "source": [
    "y_pred_train_rf = rf_clf.predict(X_train)\n",
    "y_pred_test_rf = rf_clf.predict(X_test)"
   ]
  },
  {
   "cell_type": "code",
   "execution_count": 271,
   "metadata": {},
   "outputs": [],
   "source": [
    "y_pred_train_tree = tree_clf.predict(X_train)\n",
    "y_pred_test_tree = tree_clf.predict(X_test)"
   ]
  },
  {
   "cell_type": "code",
   "execution_count": 272,
   "metadata": {},
   "outputs": [
    {
     "name": "stdout",
     "output_type": "stream",
     "text": [
      "Random Forest - 200 trees:\n",
      "Train accuracy:  0.9\n",
      "Test accuracy:  0.5333333333333333\n",
      "Decision Tree:\n",
      "Train accuracy:  1.0\n",
      "Test accuracy:  0.6666666666666666\n"
     ]
    }
   ],
   "source": [
    "from sklearn.metrics import accuracy_score\n",
    "print('Random Forest - 200 trees:')\n",
    "print('Train accuracy: ', accuracy_score(y_train, y_pred_train_rf))\n",
    "print('Test accuracy: ', accuracy_score(y_test, y_pred_test_rf))\n",
    "print('Decision Tree:')\n",
    "print('Train accuracy: ', accuracy_score(y_train, y_pred_train_tree))\n",
    "print('Test accuracy: ', accuracy_score(y_test, y_pred_test_tree))"
   ]
  }
 ],
 "metadata": {
  "kernelspec": {
   "display_name": "Python 3",
   "language": "python",
   "name": "python3"
  },
  "language_info": {
   "codemirror_mode": {
    "name": "ipython",
    "version": 3
   },
   "file_extension": ".py",
   "mimetype": "text/x-python",
   "name": "python",
   "nbconvert_exporter": "python",
   "pygments_lexer": "ipython3",
   "version": "3.7.3"
  }
 },
 "nbformat": 4,
 "nbformat_minor": 2
}
