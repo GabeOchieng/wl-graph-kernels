{
 "cells": [
  {
   "cell_type": "code",
   "execution_count": 1,
   "metadata": {},
   "outputs": [],
   "source": [
    "import sys\n",
    "sys.path.insert(0, '../') "
   ]
  },
  {
   "cell_type": "code",
   "execution_count": 2,
   "metadata": {},
   "outputs": [],
   "source": [
    "import rdflib\n",
    "from wlkernel import *\n",
    "import random\n",
    "from itertools import chain\n",
    "from pathlib import Path\n",
    "from pprint import pprint\n",
    "from collections import Counter"
   ]
  },
  {
   "cell_type": "code",
   "execution_count": 3,
   "metadata": {},
   "outputs": [],
   "source": [
    "rdf_graph = rdflib.Graph().parse('../tests/resources/aifbfixed_complete.n3', format='n3')"
   ]
  },
  {
   "cell_type": "code",
   "execution_count": 4,
   "metadata": {},
   "outputs": [],
   "source": [
    "# there is only one instance that belong to the class id5instance, then we remove it\n",
    "#Counter([t[1] for t in all_instances]).most_common()  # command to verify it, use it after all_instances definition\n",
    "rdf_graph.remove( (\n",
    "    rdflib.term.URIRef('http://www.aifb.uni-karlsruhe.de/Personen/viewPersonOWL/id1959instance'),\n",
    "    rdflib.term.URIRef('http://swrc.ontoware.org/ontology#affiliation'),\n",
    "    rdflib.term.URIRef('http://www.aifb.uni-karlsruhe.de/Forschungsgruppen/viewForschungsgruppeOWL/id5instance')\n",
    "))"
   ]
  },
  {
   "cell_type": "code",
   "execution_count": 5,
   "metadata": {},
   "outputs": [],
   "source": [
    "affiliation_uri = rdflib.URIRef('http://swrc.ontoware.org/ontology#affiliation')\n",
    "all_instances = [ (t[0], t[2]) for t in rdf_graph.triples( (None, affiliation_uri, None) ) ]\n",
    "assert len(all_instances) == len(set(all_instances))"
   ]
  },
  {
   "cell_type": "code",
   "execution_count": 6,
   "metadata": {},
   "outputs": [],
   "source": [
    "n = 5\n",
    "random.seed(42)\n",
    "instances = random.sample(all_instances, n)\n",
    "instances_id = [x[0] for x in instances]\n",
    "instances_class = [x[1] for x in instances]\n",
    "# print('Amount of the values of the classes:\\n\\t')\n",
    "# pprint(Counter(instances_class).most_common())"
   ]
  },
  {
   "cell_type": "code",
   "execution_count": 7,
   "metadata": {},
   "outputs": [],
   "source": [
    "employs_uri = rdflib.term.URIRef('http://swrc.ontoware.org/ontology#employs')\n",
    "head_uri = rdflib.term.URIRef('http://swrc.ontoware.org/ontology#head')\n",
    "member_uri = rdflib.term.URIRef('http://swrc.ontoware.org/ontology#member')\n",
    "predicates_to_remove = [employs_uri, head_uri, member_uri, affiliation_uri]\n",
    "for predicate in predicates_to_remove:\n",
    "    rdf_graph.remove( (None, predicate, None) )"
   ]
  },
  {
   "cell_type": "code",
   "execution_count": 8,
   "metadata": {},
   "outputs": [],
   "source": [
    "instances_id = [str(x) for x in instances_id]\n",
    "instances_class = [str(x) for x in instances_class]"
   ]
  },
  {
   "cell_type": "code",
   "execution_count": null,
   "metadata": {},
   "outputs": [],
   "source": [
    "######## number of cores: 12 | max_depth: 2 | iterations: 1\n",
    "#### number of instances: 10\n",
    "# SEQ : 1min 6s ± 501 ms per loop (mean ± std. dev. of 7 runs, 1 loop each)\n",
    "# PAR : 28.5s ± 161 ms per loop (mean ± std. dev. of 7 runs, 1 loop each)\n",
    "# SPEEDUP: 2.3571\n",
    "#####"
   ]
  },
  {
   "cell_type": "code",
   "execution_count": 9,
   "metadata": {},
   "outputs": [
    {
     "name": "stdout",
     "output_type": "stream",
     "text": [
      "1min 16s ± 898 ms per loop (mean ± std. dev. of 7 runs, 1 loop each)\n"
     ]
    }
   ],
   "source": [
    "%timeit kernel_matrix = compute_kernel_matrix(rdf_graph, instances_id, 2, 1)"
   ]
  },
  {
   "cell_type": "code",
   "execution_count": 10,
   "metadata": {},
   "outputs": [
    {
     "name": "stderr",
     "output_type": "stream",
     "text": [
      "[Parallel(n_jobs=-1)]: Using backend LokyBackend with 12 concurrent workers.\n",
      "[Parallel(n_jobs=-1)]: Done   3 out of  10 | elapsed:   11.8s remaining:   27.6s\n",
      "[Parallel(n_jobs=-1)]: Done   5 out of  10 | elapsed:   12.4s remaining:   12.4s\n",
      "[Parallel(n_jobs=-1)]: Done   7 out of  10 | elapsed:   21.2s remaining:    9.1s\n",
      "[Parallel(n_jobs=-1)]: Done  10 out of  10 | elapsed:   26.1s finished\n",
      "[Parallel(n_jobs=-1)]: Using backend LokyBackend with 12 concurrent workers.\n",
      "[Parallel(n_jobs=-1)]: Done   3 out of  10 | elapsed:   12.7s remaining:   29.5s\n",
      "[Parallel(n_jobs=-1)]: Done   5 out of  10 | elapsed:   13.7s remaining:   13.7s\n",
      "[Parallel(n_jobs=-1)]: Done   7 out of  10 | elapsed:   18.9s remaining:    8.1s\n",
      "[Parallel(n_jobs=-1)]: Done  10 out of  10 | elapsed:   26.3s finished\n",
      "[Parallel(n_jobs=-1)]: Using backend LokyBackend with 12 concurrent workers.\n",
      "[Parallel(n_jobs=-1)]: Done   3 out of  10 | elapsed:   11.6s remaining:   27.1s\n",
      "[Parallel(n_jobs=-1)]: Done   5 out of  10 | elapsed:   13.5s remaining:   13.5s\n",
      "[Parallel(n_jobs=-1)]: Done   7 out of  10 | elapsed:   18.3s remaining:    7.9s\n",
      "[Parallel(n_jobs=-1)]: Done  10 out of  10 | elapsed:   25.5s finished\n",
      "[Parallel(n_jobs=-1)]: Using backend LokyBackend with 12 concurrent workers.\n",
      "[Parallel(n_jobs=-1)]: Done   3 out of  10 | elapsed:    9.6s remaining:   22.5s\n",
      "[Parallel(n_jobs=-1)]: Done   5 out of  10 | elapsed:   13.9s remaining:   13.9s\n",
      "[Parallel(n_jobs=-1)]: Done   7 out of  10 | elapsed:   19.4s remaining:    8.3s\n",
      "[Parallel(n_jobs=-1)]: Done  10 out of  10 | elapsed:   25.7s finished\n",
      "[Parallel(n_jobs=-1)]: Using backend LokyBackend with 12 concurrent workers.\n",
      "[Parallel(n_jobs=-1)]: Done   3 out of  10 | elapsed:   10.8s remaining:   25.2s\n",
      "[Parallel(n_jobs=-1)]: Done   5 out of  10 | elapsed:   13.1s remaining:   13.1s\n",
      "[Parallel(n_jobs=-1)]: Done   7 out of  10 | elapsed:   18.4s remaining:    7.9s\n",
      "[Parallel(n_jobs=-1)]: Done  10 out of  10 | elapsed:   26.0s finished\n",
      "[Parallel(n_jobs=-1)]: Using backend LokyBackend with 12 concurrent workers.\n",
      "[Parallel(n_jobs=-1)]: Done   3 out of  10 | elapsed:   11.8s remaining:   27.5s\n",
      "[Parallel(n_jobs=-1)]: Done   5 out of  10 | elapsed:   12.8s remaining:   12.8s\n",
      "[Parallel(n_jobs=-1)]: Done   7 out of  10 | elapsed:   18.6s remaining:    8.0s\n",
      "[Parallel(n_jobs=-1)]: Done  10 out of  10 | elapsed:   26.6s finished\n",
      "[Parallel(n_jobs=-1)]: Using backend LokyBackend with 12 concurrent workers.\n",
      "[Parallel(n_jobs=-1)]: Done   3 out of  10 | elapsed:    9.9s remaining:   23.2s\n",
      "[Parallel(n_jobs=-1)]: Done   5 out of  10 | elapsed:   12.1s remaining:   12.1s\n",
      "[Parallel(n_jobs=-1)]: Done   7 out of  10 | elapsed:   20.3s remaining:    8.7s\n",
      "[Parallel(n_jobs=-1)]: Done  10 out of  10 | elapsed:   25.3s finished\n",
      "[Parallel(n_jobs=-1)]: Using backend LokyBackend with 12 concurrent workers.\n",
      "[Parallel(n_jobs=-1)]: Done   3 out of  10 | elapsed:    9.3s remaining:   21.7s\n",
      "[Parallel(n_jobs=-1)]: Done   5 out of  10 | elapsed:   12.9s remaining:   12.9s\n",
      "[Parallel(n_jobs=-1)]: Done   7 out of  10 | elapsed:   21.2s remaining:    9.1s\n"
     ]
    },
    {
     "name": "stdout",
     "output_type": "stream",
     "text": [
      "26 s ± 476 ms per loop (mean ± std. dev. of 7 runs, 1 loop each)\n"
     ]
    },
    {
     "name": "stderr",
     "output_type": "stream",
     "text": [
      "[Parallel(n_jobs=-1)]: Done  10 out of  10 | elapsed:   26.6s finished\n"
     ]
    }
   ],
   "source": [
    "%timeit kernel_matrix_par = compute_kernel_matrix_par(rdf_graph, instances_id, 2, 1)"
   ]
  },
  {
   "cell_type": "code",
   "execution_count": 40,
   "metadata": {},
   "outputs": [
    {
     "ename": "NameError",
     "evalue": "name 'kernel_matrix' is not defined",
     "output_type": "error",
     "traceback": [
      "\u001b[0;31m---------------------------------------------------------------------------\u001b[0m",
      "\u001b[0;31mNameError\u001b[0m                                 Traceback (most recent call last)",
      "\u001b[0;32m<ipython-input-40-05d23b47cdf4>\u001b[0m in \u001b[0;36m<module>\u001b[0;34m\u001b[0m\n\u001b[0;32m----> 1\u001b[0;31m \u001b[0mkernel_matrix\u001b[0m \u001b[0;34m==\u001b[0m \u001b[0mkernel_matrix_par\u001b[0m\u001b[0;34m\u001b[0m\u001b[0;34m\u001b[0m\u001b[0m\n\u001b[0m",
      "\u001b[0;31mNameError\u001b[0m: name 'kernel_matrix' is not defined"
     ]
    }
   ],
   "source": [
    "kernel_matrix == kernel_matrix_par"
   ]
  },
  {
   "cell_type": "code",
   "execution_count": 42,
   "metadata": {},
   "outputs": [],
   "source": [
    "X = kernel_matrix_par\n",
    "y = instances_class"
   ]
  },
  {
   "cell_type": "code",
   "execution_count": 43,
   "metadata": {},
   "outputs": [],
   "source": [
    "from sklearn.model_selection import train_test_split\n",
    "X_train, X_test, y_train, y_test = train_test_split(X, y, test_size=0.5, random_state=42)"
   ]
  },
  {
   "cell_type": "code",
   "execution_count": 44,
   "metadata": {},
   "outputs": [],
   "source": [
    "from sklearn.ensemble import RandomForestClassifier"
   ]
  },
  {
   "cell_type": "code",
   "execution_count": 45,
   "metadata": {},
   "outputs": [
    {
     "data": {
      "text/plain": [
       "RandomForestClassifier(bootstrap=True, class_weight=None, criterion='gini',\n",
       "                       max_depth=None, max_features='auto', max_leaf_nodes=None,\n",
       "                       min_impurity_decrease=0.0, min_impurity_split=None,\n",
       "                       min_samples_leaf=1, min_samples_split=2,\n",
       "                       min_weight_fraction_leaf=0.0, n_estimators=75,\n",
       "                       n_jobs=None, oob_score=False, random_state=None,\n",
       "                       verbose=0, warm_start=False)"
      ]
     },
     "execution_count": 45,
     "metadata": {},
     "output_type": "execute_result"
    }
   ],
   "source": [
    "tree_clf = RandomForestClassifier(n_estimators=75)\n",
    "tree_clf.fit(X_train, y_train)"
   ]
  },
  {
   "cell_type": "code",
   "execution_count": 46,
   "metadata": {},
   "outputs": [],
   "source": [
    "y_pred_train = tree_clf.predict(X_train)\n",
    "y_pred = tree_clf.predict(X_test)"
   ]
  },
  {
   "cell_type": "code",
   "execution_count": 47,
   "metadata": {},
   "outputs": [],
   "source": [
    "def accuracy(y_true, y_pred): return sum([x == y for x, y in zip(y_true, y_pred)]) / len(y_true)"
   ]
  },
  {
   "cell_type": "code",
   "execution_count": 48,
   "metadata": {},
   "outputs": [
    {
     "name": "stdout",
     "output_type": "stream",
     "text": [
      "Train accuracy:  1.0\n",
      "Test accuracy:  0.8\n"
     ]
    }
   ],
   "source": [
    "print('Train accuracy: ', accuracy(y_train, y_pred_train))\n",
    "print('Test accuracy: ', accuracy(y_test, y_pred))"
   ]
  },
  {
   "cell_type": "code",
   "execution_count": 49,
   "metadata": {},
   "outputs": [
    {
     "data": {
      "text/plain": [
       "array(['http://www.aifb.uni-karlsruhe.de/Forschungsgruppen/viewForschungsgruppeOWL/id1instance',\n",
       "       'http://www.aifb.uni-karlsruhe.de/Forschungsgruppen/viewForschungsgruppeOWL/id2instance',\n",
       "       'http://www.aifb.uni-karlsruhe.de/Forschungsgruppen/viewForschungsgruppeOWL/id1instance',\n",
       "       'http://www.aifb.uni-karlsruhe.de/Forschungsgruppen/viewForschungsgruppeOWL/id2instance',\n",
       "       'http://www.aifb.uni-karlsruhe.de/Forschungsgruppen/viewForschungsgruppeOWL/id2instance'],\n",
       "      dtype='<U86')"
      ]
     },
     "execution_count": 49,
     "metadata": {},
     "output_type": "execute_result"
    }
   ],
   "source": [
    "y_pred"
   ]
  }
 ],
 "metadata": {
  "kernelspec": {
   "display_name": "Python 3",
   "language": "python",
   "name": "python3"
  },
  "language_info": {
   "codemirror_mode": {
    "name": "ipython",
    "version": 3
   },
   "file_extension": ".py",
   "mimetype": "text/x-python",
   "name": "python",
   "nbconvert_exporter": "python",
   "pygments_lexer": "ipython3",
   "version": "3.7.3"
  }
 },
 "nbformat": 4,
 "nbformat_minor": 2
}
