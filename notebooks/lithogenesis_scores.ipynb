{
 "cells": [
  {
   "cell_type": "code",
   "execution_count": 1,
   "metadata": {},
   "outputs": [],
   "source": [
    "import sys\n",
    "sys.path.insert(0, '../')"
   ]
  },
  {
   "cell_type": "code",
   "execution_count": 3,
   "metadata": {},
   "outputs": [],
   "source": [
    "from collections import Counter, OrderedDict\n",
    "import warnings\n",
    "\n",
    "import rdflib\n",
    "import numpy as np\n",
    "from pprint import pprint\n",
    "from sklearn import svm\n",
    "from sklearn.model_selection import cross_validate\n",
    "\n",
    "import wlkernel"
   ]
  },
  {
   "cell_type": "code",
   "execution_count": 4,
   "metadata": {},
   "outputs": [],
   "source": [
    "warnings.simplefilter('ignore')"
   ]
  },
  {
   "cell_type": "code",
   "execution_count": 66,
   "metadata": {},
   "outputs": [],
   "source": [
    "rdf_graph = rdflib.Graph().parse('../data/Lexicon_NamedRockUnit.nt', format='nt')"
   ]
  },
  {
   "cell_type": "code",
   "execution_count": 67,
   "metadata": {},
   "outputs": [
    {
     "name": "stdout",
     "output_type": "stream",
     "text": [
      "Most common classes with predicate equal to 'hasLithogenesis':\n",
      "[('http://data.bgs.ac.uk/id/Lexicon/LithogeneticType/FLUV', 93),\n",
      " ('http://data.bgs.ac.uk/id/Lexicon/LithogeneticType/GLACI', 53)]\n"
     ]
    }
   ],
   "source": [
    "hasLithogenesis_most_common = Counter(\n",
    "    str(o)\n",
    "    for s, p, o in rdf_graph\n",
    "    if 'hasLithogenesis' in str(p)\n",
    ").most_common(2)\n",
    "print(\"Most common classes with predicate equal to 'hasLithogenesis':\")\n",
    "pprint(hasLithogenesis_most_common)\n",
    "classes = { c for c, _ in hasLithogenesis_most_common }"
   ]
  },
  {
   "cell_type": "code",
   "execution_count": 68,
   "metadata": {},
   "outputs": [],
   "source": [
    "instances_class_map = {\n",
    "    str(s): str(o)\n",
    "    for s, p, o in rdf_graph\n",
    "    if str(o) in classes\n",
    "}\n",
    "assert len(instances_class_map) == 146\n",
    "instances = list(instances_class_map.keys())\n",
    "assert len(instances) == len(set(instances))\n",
    "y = np.array(list(instances_class_map.values()))"
   ]
  },
  {
   "cell_type": "code",
   "execution_count": 1,
   "metadata": {},
   "outputs": [
    {
     "ename": "NameError",
     "evalue": "name 'rdf_graph' is not defined",
     "output_type": "error",
     "traceback": [
      "\u001b[0;31m---------------------------------------------------------------------------\u001b[0m",
      "\u001b[0;31mNameError\u001b[0m                                 Traceback (most recent call last)",
      "\u001b[0;32m<ipython-input-1-9660501e6db1>\u001b[0m in \u001b[0;36m<module>\u001b[0;34m\u001b[0m\n\u001b[1;32m      1\u001b[0m triples = list(\n\u001b[1;32m      2\u001b[0m     \u001b[0;34m(\u001b[0m\u001b[0mstr\u001b[0m\u001b[0;34m(\u001b[0m\u001b[0ms\u001b[0m\u001b[0;34m)\u001b[0m\u001b[0;34m,\u001b[0m \u001b[0mstr\u001b[0m\u001b[0;34m(\u001b[0m\u001b[0mp\u001b[0m\u001b[0;34m)\u001b[0m\u001b[0;34m,\u001b[0m \u001b[0mstr\u001b[0m\u001b[0;34m(\u001b[0m\u001b[0mo\u001b[0m\u001b[0;34m)\u001b[0m\u001b[0;34m)\u001b[0m\u001b[0;34m\u001b[0m\u001b[0;34m\u001b[0m\u001b[0m\n\u001b[0;32m----> 3\u001b[0;31m     \u001b[0;32mfor\u001b[0m \u001b[0ms\u001b[0m\u001b[0;34m,\u001b[0m \u001b[0mp\u001b[0m\u001b[0;34m,\u001b[0m \u001b[0mo\u001b[0m \u001b[0;32min\u001b[0m \u001b[0mrdf_graph\u001b[0m\u001b[0;34m\u001b[0m\u001b[0;34m\u001b[0m\u001b[0m\n\u001b[0m\u001b[1;32m      4\u001b[0m     \u001b[0;32mif\u001b[0m \u001b[0;34m'hasLithogenesis'\u001b[0m \u001b[0;32mnot\u001b[0m \u001b[0;32min\u001b[0m \u001b[0mstr\u001b[0m\u001b[0;34m(\u001b[0m\u001b[0mp\u001b[0m\u001b[0;34m)\u001b[0m\u001b[0;34m\u001b[0m\u001b[0;34m\u001b[0m\u001b[0m\n\u001b[1;32m      5\u001b[0m )\n",
      "\u001b[0;31mNameError\u001b[0m: name 'rdf_graph' is not defined"
     ]
    }
   ],
   "source": [
    "triples = list(\n",
    "    (str(s), str(p), str(o))\n",
    "    for s, p, o in rdf_graph\n",
    "    if 'hasLithogenesis' not in str(p)\n",
    ")\n",
    "print('number of tripes: ', len(triples))"
   ]
  },
  {
   "cell_type": "code",
   "execution_count": 71,
   "metadata": {},
   "outputs": [],
   "source": [
    "RANDOM_STATE = 42\n",
    "\n",
    "depth_values = [1, 2, 3]\n",
    "iteration_values =  [0, 2, 4, 6]\n",
    "C_values = [0.001, 0.01, 0.1, 1., 10., 100.]\n",
    "\n",
    "results = OrderedDict()\n",
    "\n",
    "for d in depth_values:\n",
    "    for it in iteration_values:\n",
    "        wlrdf_graph = wlkernel.WLRDFGraph(triples, instances, max_depth=d)\n",
    "        kernel_matrix = wlkernel.wlrdf_kernel_matrix(wlrdf_graph, instances, iterations=it)\n",
    "        kernel_matrix = wlkernel.kernel_normalization(kernel_matrix)\n",
    "        \n",
    "        results[(d, it)] = [0, 0, 0]\n",
    "        for c in C_values:\n",
    "            classifier = svm.SVC(C=1.0, kernel='precomputed', class_weight='balanced', random_state=RANDOM_STATE)\n",
    "            scores = cross_validate(classifier, kernel_matrix, y, cv=10, scoring=('accuracy', 'f1_macro'))\n",
    "            \n",
    "            acc_mean = scores['test_accuracy'].mean()\n",
    "            f1_mean = scores['test_f1_macro'].mean()\n",
    "            \n",
    "            if acc_mean > results[(d, it)][0]:\n",
    "                results[(d, it)] = [acc_mean, f1_mean, c]"
   ]
  },
  {
   "cell_type": "code",
   "execution_count": 73,
   "metadata": {},
   "outputs": [
    {
     "data": {
      "text/html": [
       "<div>\n",
       "<style scoped>\n",
       "    .dataframe tbody tr th:only-of-type {\n",
       "        vertical-align: middle;\n",
       "    }\n",
       "\n",
       "    .dataframe tbody tr th {\n",
       "        vertical-align: top;\n",
       "    }\n",
       "\n",
       "    .dataframe thead th {\n",
       "        text-align: right;\n",
       "    }\n",
       "</style>\n",
       "<table border=\"1\" class=\"dataframe\">\n",
       "  <thead>\n",
       "    <tr style=\"text-align: right;\">\n",
       "      <th></th>\n",
       "      <th></th>\n",
       "      <th>accuracy</th>\n",
       "      <th>f1</th>\n",
       "      <th>C</th>\n",
       "    </tr>\n",
       "    <tr>\n",
       "      <th>depth</th>\n",
       "      <th>iterations</th>\n",
       "      <th></th>\n",
       "      <th></th>\n",
       "      <th></th>\n",
       "    </tr>\n",
       "  </thead>\n",
       "  <tbody>\n",
       "    <tr>\n",
       "      <th rowspan=\"4\" valign=\"top\">1</th>\n",
       "      <th>0</th>\n",
       "      <td>0.794643</td>\n",
       "      <td>0.766837</td>\n",
       "      <td>0.001</td>\n",
       "    </tr>\n",
       "    <tr>\n",
       "      <th>2</th>\n",
       "      <td>0.794643</td>\n",
       "      <td>0.766837</td>\n",
       "      <td>0.001</td>\n",
       "    </tr>\n",
       "    <tr>\n",
       "      <th>4</th>\n",
       "      <td>0.794643</td>\n",
       "      <td>0.766837</td>\n",
       "      <td>0.001</td>\n",
       "    </tr>\n",
       "    <tr>\n",
       "      <th>6</th>\n",
       "      <td>0.794643</td>\n",
       "      <td>0.766837</td>\n",
       "      <td>0.001</td>\n",
       "    </tr>\n",
       "    <tr>\n",
       "      <th rowspan=\"4\" valign=\"top\">2</th>\n",
       "      <th>0</th>\n",
       "      <td>0.899107</td>\n",
       "      <td>0.882310</td>\n",
       "      <td>0.001</td>\n",
       "    </tr>\n",
       "    <tr>\n",
       "      <th>2</th>\n",
       "      <td>0.857143</td>\n",
       "      <td>0.834712</td>\n",
       "      <td>0.001</td>\n",
       "    </tr>\n",
       "    <tr>\n",
       "      <th>4</th>\n",
       "      <td>0.857143</td>\n",
       "      <td>0.834712</td>\n",
       "      <td>0.001</td>\n",
       "    </tr>\n",
       "    <tr>\n",
       "      <th>6</th>\n",
       "      <td>0.857143</td>\n",
       "      <td>0.834712</td>\n",
       "      <td>0.001</td>\n",
       "    </tr>\n",
       "    <tr>\n",
       "      <th rowspan=\"4\" valign=\"top\">3</th>\n",
       "      <th>0</th>\n",
       "      <td>0.886607</td>\n",
       "      <td>0.870457</td>\n",
       "      <td>0.001</td>\n",
       "    </tr>\n",
       "    <tr>\n",
       "      <th>2</th>\n",
       "      <td>0.892857</td>\n",
       "      <td>0.876297</td>\n",
       "      <td>0.001</td>\n",
       "    </tr>\n",
       "    <tr>\n",
       "      <th>4</th>\n",
       "      <td>0.885714</td>\n",
       "      <td>0.868109</td>\n",
       "      <td>0.001</td>\n",
       "    </tr>\n",
       "    <tr>\n",
       "      <th>6</th>\n",
       "      <td>0.885714</td>\n",
       "      <td>0.868109</td>\n",
       "      <td>0.001</td>\n",
       "    </tr>\n",
       "  </tbody>\n",
       "</table>\n",
       "</div>"
      ],
      "text/plain": [
       "                  accuracy        f1      C\n",
       "depth iterations                           \n",
       "1     0           0.794643  0.766837  0.001\n",
       "      2           0.794643  0.766837  0.001\n",
       "      4           0.794643  0.766837  0.001\n",
       "      6           0.794643  0.766837  0.001\n",
       "2     0           0.899107  0.882310  0.001\n",
       "      2           0.857143  0.834712  0.001\n",
       "      4           0.857143  0.834712  0.001\n",
       "      6           0.857143  0.834712  0.001\n",
       "3     0           0.886607  0.870457  0.001\n",
       "      2           0.892857  0.876297  0.001\n",
       "      4           0.885714  0.868109  0.001\n",
       "      6           0.885714  0.868109  0.001"
      ]
     },
     "execution_count": 73,
     "metadata": {},
     "output_type": "execute_result"
    }
   ],
   "source": [
    "import pandas as pd\n",
    "\n",
    "fn = 'lithogenesis_results_with_normalization'\n",
    "\n",
    "df_res = pd.DataFrame(index=list(results.keys()))\n",
    "df_res['accuracy'] = [t[0] for t in results.values()]\n",
    "df_res['f1'] = [t[1] for t in results.values()]\n",
    "df_res['C'] = [t[2] for t in results.values()]\n",
    "df_res = df.set_index(pd.MultiIndex.from_tuples(df_res.index, names=['depth', 'iterations']))\n",
    "df_res.to_csv(f'../results/{fn}.csv')\n",
    "df_res_test = pd.read_csv(f'../results/{fn}.csv', index_col=['depth', 'iterations'])\n",
    "df_res_test.to_html(f'../results/{fn}.html')\n",
    "df_res_test"
   ]
  }
 ],
 "metadata": {
  "kernelspec": {
   "display_name": "Python 3",
   "language": "python",
   "name": "python3"
  },
  "language_info": {
   "codemirror_mode": {
    "name": "ipython",
    "version": 3
   },
   "file_extension": ".py",
   "mimetype": "text/x-python",
   "name": "python",
   "nbconvert_exporter": "python",
   "pygments_lexer": "ipython3",
   "version": "3.7.3"
  }
 },
 "nbformat": 4,
 "nbformat_minor": 2
}
