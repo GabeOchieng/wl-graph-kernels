{
 "cells": [
  {
   "cell_type": "code",
   "execution_count": 1,
   "metadata": {},
   "outputs": [],
   "source": [
    "import sys\n",
    "sys.path.insert(0, '../')"
   ]
  },
  {
   "cell_type": "code",
   "execution_count": 2,
   "metadata": {},
   "outputs": [],
   "source": [
    "from collections import Counter, OrderedDict\n",
    "import warnings\n",
    "\n",
    "import rdflib\n",
    "import numpy as np\n",
    "from pprint import pprint\n",
    "from sklearn import svm\n",
    "from sklearn.metrics import accuracy_score\n",
    "from sklearn.model_selection import train_test_split, cross_validate\n",
    "\n",
    "import wlkernel"
   ]
  },
  {
   "cell_type": "code",
   "execution_count": 3,
   "metadata": {},
   "outputs": [],
   "source": [
    "warnings.simplefilter('ignore')"
   ]
  },
  {
   "cell_type": "code",
   "execution_count": 4,
   "metadata": {},
   "outputs": [],
   "source": [
    "rdf_graph = rdflib.Graph().parse('../data/aifbfixed_complete.n3', format='n3')"
   ]
  },
  {
   "cell_type": "code",
   "execution_count": 5,
   "metadata": {},
   "outputs": [
    {
     "name": "stdout",
     "output_type": "stream",
     "text": [
      "Most common classes with predicate equal to 'affiliation':\n",
      "[('http://www.aifb.uni-karlsruhe.de/Forschungsgruppen/viewForschungsgruppeOWL/id1instance',\n",
      "  73),\n",
      " ('http://www.aifb.uni-karlsruhe.de/Forschungsgruppen/viewForschungsgruppeOWL/id3instance',\n",
      "  60),\n",
      " ('http://www.aifb.uni-karlsruhe.de/Forschungsgruppen/viewForschungsgruppeOWL/id2instance',\n",
      "  28),\n",
      " ('http://www.aifb.uni-karlsruhe.de/Forschungsgruppen/viewForschungsgruppeOWL/id4instance',\n",
      "  16),\n",
      " ('http://www.aifb.uni-karlsruhe.de/Forschungsgruppen/viewForschungsgruppeOWL/id5instance',\n",
      "  1)]\n"
     ]
    }
   ],
   "source": [
    "affiliation_most_common = Counter(\n",
    "    str(o) \n",
    "    for s, p, o in rdf_graph\n",
    "    if 'affiliation' in str(p)\n",
    ").most_common()\n",
    "print(\"Most common classes with predicate equal to 'affiliation':\")\n",
    "pprint(affiliation_most_common)"
   ]
  },
  {
   "cell_type": "code",
   "execution_count": 6,
   "metadata": {},
   "outputs": [],
   "source": [
    "instances_class_map = {\n",
    "    str(s): str(o) for s, p, o in rdf_graph \n",
    "    if 'affiliation' in str(p)\n",
    "    and 'id5instance' not in str(o)\n",
    "}\n",
    "instances = list(instances_class_map.keys())\n",
    "y = list(instances_class_map.values())"
   ]
  },
  {
   "cell_type": "code",
   "execution_count": 7,
   "metadata": {},
   "outputs": [
    {
     "name": "stdout",
     "output_type": "stream",
     "text": [
      "number of triples: 28699\n"
     ]
    }
   ],
   "source": [
    "triples = list(\n",
    "    (str(s), str(p), str(o)) for s, p, o in rdf_graph\n",
    "    if 'affiliation' not in str(p)\n",
    "    and 'employs' not in str(p)\n",
    "    and 'member' not in str(p)\n",
    "    and 'head' not in str(p)\n",
    ")\n",
    "print('number of triples:', len(triples))"
   ]
  },
  {
   "cell_type": "code",
   "execution_count": 8,
   "metadata": {},
   "outputs": [],
   "source": [
    "RANDOM_STATE = 42\n",
    "\n",
    "depth_values = [1, 2, 3]\n",
    "iteration_values =  [0, 2, 4, 6]\n",
    "C_values = [0.001, 0.01, 0.1, 1., 10., 100.]\n",
    "\n",
    "results = OrderedDict()\n",
    "\n",
    "for d in depth_values:\n",
    "    for it in iteration_values:\n",
    "        wlrdf_graph = wlkernel.WLRDFGraph(triples, instances, max_depth=d)\n",
    "        kernel_matrix = wlkernel.wlrdf_kernel_matrix(wlrdf_graph, instances, iterations=it)\n",
    "#         kernel_matrix = wlkernel.kernel_normalization(kernel_matrix)\n",
    "        \n",
    "        results[(d, it)] = [0, 0, 0]\n",
    "        for c in C_values:\n",
    "            classifier = svm.SVC(C=1.0, kernel='precomputed', class_weight='balanced', random_state=RANDOM_STATE)\n",
    "            scores = cross_validate(classifier, kernel_matrix, y, cv=10, scoring=('accuracy', 'f1_macro'))\n",
    "            \n",
    "            acc_mean = scores['test_accuracy'].mean()\n",
    "            f1_mean = scores['test_f1_macro'].mean()\n",
    "            \n",
    "            if acc_mean > results[(d, it)][0]:\n",
    "                results[(d, it)] = [acc_mean, f1_mean, c]"
   ]
  },
  {
   "cell_type": "code",
   "execution_count": 9,
   "metadata": {},
   "outputs": [
    {
     "data": {
      "text/html": [
       "<div>\n",
       "<style scoped>\n",
       "    .dataframe tbody tr th:only-of-type {\n",
       "        vertical-align: middle;\n",
       "    }\n",
       "\n",
       "    .dataframe tbody tr th {\n",
       "        vertical-align: top;\n",
       "    }\n",
       "\n",
       "    .dataframe thead th {\n",
       "        text-align: right;\n",
       "    }\n",
       "</style>\n",
       "<table border=\"1\" class=\"dataframe\">\n",
       "  <thead>\n",
       "    <tr style=\"text-align: right;\">\n",
       "      <th></th>\n",
       "      <th></th>\n",
       "      <th>accuracy</th>\n",
       "      <th>f1</th>\n",
       "      <th>C</th>\n",
       "    </tr>\n",
       "    <tr>\n",
       "      <th>depth</th>\n",
       "      <th>iterations</th>\n",
       "      <th></th>\n",
       "      <th></th>\n",
       "      <th></th>\n",
       "    </tr>\n",
       "  </thead>\n",
       "  <tbody>\n",
       "    <tr>\n",
       "      <th rowspan=\"4\" valign=\"top\">1</th>\n",
       "      <th>0</th>\n",
       "      <td>0.620494</td>\n",
       "      <td>0.524999</td>\n",
       "      <td>0.001</td>\n",
       "    </tr>\n",
       "    <tr>\n",
       "      <th>2</th>\n",
       "      <td>0.620494</td>\n",
       "      <td>0.524999</td>\n",
       "      <td>0.001</td>\n",
       "    </tr>\n",
       "    <tr>\n",
       "      <th>4</th>\n",
       "      <td>0.620494</td>\n",
       "      <td>0.524999</td>\n",
       "      <td>0.001</td>\n",
       "    </tr>\n",
       "    <tr>\n",
       "      <th>6</th>\n",
       "      <td>0.620494</td>\n",
       "      <td>0.524999</td>\n",
       "      <td>0.001</td>\n",
       "    </tr>\n",
       "    <tr>\n",
       "      <th rowspan=\"4\" valign=\"top\">2</th>\n",
       "      <th>0</th>\n",
       "      <td>0.637896</td>\n",
       "      <td>0.534047</td>\n",
       "      <td>0.001</td>\n",
       "    </tr>\n",
       "    <tr>\n",
       "      <th>2</th>\n",
       "      <td>0.790336</td>\n",
       "      <td>0.692237</td>\n",
       "      <td>0.001</td>\n",
       "    </tr>\n",
       "    <tr>\n",
       "      <th>4</th>\n",
       "      <td>0.824725</td>\n",
       "      <td>0.715229</td>\n",
       "      <td>0.001</td>\n",
       "    </tr>\n",
       "    <tr>\n",
       "      <th>6</th>\n",
       "      <td>0.830280</td>\n",
       "      <td>0.720146</td>\n",
       "      <td>0.001</td>\n",
       "    </tr>\n",
       "    <tr>\n",
       "      <th rowspan=\"4\" valign=\"top\">3</th>\n",
       "      <th>0</th>\n",
       "      <td>0.726671</td>\n",
       "      <td>0.676423</td>\n",
       "      <td>0.001</td>\n",
       "    </tr>\n",
       "    <tr>\n",
       "      <th>2</th>\n",
       "      <td>0.892884</td>\n",
       "      <td>0.858493</td>\n",
       "      <td>0.001</td>\n",
       "    </tr>\n",
       "    <tr>\n",
       "      <th>4</th>\n",
       "      <td>0.892884</td>\n",
       "      <td>0.852065</td>\n",
       "      <td>0.001</td>\n",
       "    </tr>\n",
       "    <tr>\n",
       "      <th>6</th>\n",
       "      <td>0.892884</td>\n",
       "      <td>0.852065</td>\n",
       "      <td>0.001</td>\n",
       "    </tr>\n",
       "  </tbody>\n",
       "</table>\n",
       "</div>"
      ],
      "text/plain": [
       "                  accuracy        f1      C\n",
       "depth iterations                           \n",
       "1     0           0.620494  0.524999  0.001\n",
       "      2           0.620494  0.524999  0.001\n",
       "      4           0.620494  0.524999  0.001\n",
       "      6           0.620494  0.524999  0.001\n",
       "2     0           0.637896  0.534047  0.001\n",
       "      2           0.790336  0.692237  0.001\n",
       "      4           0.824725  0.715229  0.001\n",
       "      6           0.830280  0.720146  0.001\n",
       "3     0           0.726671  0.676423  0.001\n",
       "      2           0.892884  0.858493  0.001\n",
       "      4           0.892884  0.852065  0.001\n",
       "      6           0.892884  0.852065  0.001"
      ]
     },
     "execution_count": 9,
     "metadata": {},
     "output_type": "execute_result"
    }
   ],
   "source": [
    "import pandas as pd\n",
    "\n",
    "fn = 'affiliation_results'\n",
    "\n",
    "df_res = pd.DataFrame(index=list(results.keys()))\n",
    "df_res['accuracy'] = [t[0] for t in results.values()]\n",
    "df_res['f1'] = [t[1] for t in results.values()]\n",
    "df_res['C'] = [t[2] for t in results.values()]\n",
    "df_res = df_res.set_index(pd.MultiIndex.from_tuples(df_res.index, names=['depth', 'iterations']))\n",
    "df_res.to_csv(f'./results/{fn}.csv')\n",
    "df_res_test = pd.read_csv(f'./results/{fn}.csv', index_col=['depth', 'iterations'])\n",
    "df_res_test.to_html(f'./results/{fn}.html')\n",
    "df_res_test"
   ]
  }
 ],
 "metadata": {
  "kernelspec": {
   "display_name": "Python 3",
   "language": "python",
   "name": "python3"
  },
  "language_info": {
   "codemirror_mode": {
    "name": "ipython",
    "version": 3
   },
   "file_extension": ".py",
   "mimetype": "text/x-python",
   "name": "python",
   "nbconvert_exporter": "python",
   "pygments_lexer": "ipython3",
   "version": "3.7.3"
  }
 },
 "nbformat": 4,
 "nbformat_minor": 2
}
