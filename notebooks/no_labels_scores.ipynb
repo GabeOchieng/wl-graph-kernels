{
 "cells": [
  {
   "cell_type": "code",
   "execution_count": 8,
   "metadata": {},
   "outputs": [],
   "source": [
    "import sys\n",
    "sys.path.insert(0, '../')"
   ]
  },
  {
   "cell_type": "code",
   "execution_count": 9,
   "metadata": {},
   "outputs": [],
   "source": [
    "from typing import Union\n",
    "from collections import Counter, OrderedDict\n",
    "import warnings\n",
    "\n",
    "import rdflib\n",
    "import numpy as np\n",
    "import pandas as pd\n",
    "from pprint import pprint\n",
    "from sklearn import svm\n",
    "from sklearn.model_selection import cross_validate\n",
    "\n",
    "import wlkernel"
   ]
  },
  {
   "cell_type": "code",
   "execution_count": 10,
   "metadata": {},
   "outputs": [],
   "source": [
    "warnings.simplefilter('ignore')"
   ]
  },
  {
   "cell_type": "code",
   "execution_count": 11,
   "metadata": {},
   "outputs": [],
   "source": [
    "rdf_graph = rdflib.Graph().parse('../data/aifbfixed_complete.n3', format='n3')"
   ]
  },
  {
   "cell_type": "code",
   "execution_count": 12,
   "metadata": {},
   "outputs": [],
   "source": [
    "triples = [\n",
    "    (str(subj), str(pred), str(obj))\n",
    "     for subj, pred, obj in rdf_graph\n",
    "]"
   ]
  },
  {
   "cell_type": "code",
   "execution_count": 13,
   "metadata": {},
   "outputs": [],
   "source": [
    "instances_class_map = {\n",
    "    subj: obj\n",
    "    for subj, pred, obj in triples\n",
    "    if 'affiliation' in pred\n",
    "    and 'id5instance' not in obj\n",
    "}\n",
    "instances = list(instances_class_map.keys())\n",
    "y = list(instances_class_map.values())"
   ]
  },
  {
   "cell_type": "code",
   "execution_count": 14,
   "metadata": {},
   "outputs": [],
   "source": [
    "triples = [\n",
    "    (subj, pred, obj)\n",
    "    for subj, pred, obj in triples\n",
    "    if 'affiliation' not in pred\n",
    "    and 'employs' not in pred\n",
    "    and 'member' not in pred\n",
    "    and 'head' not in pred\n",
    "]"
   ]
  },
  {
   "cell_type": "markdown",
   "metadata": {},
   "source": [
    "### Weisfeiler-Lehman RDF"
   ]
  },
  {
   "cell_type": "code",
   "execution_count": 40,
   "metadata": {},
   "outputs": [],
   "source": [
    "def bananize(g: Union[wlkernel.WLRDFGraph, wlkernel.WLGraph]):\n",
    "    'All the label in the WLRDFGraph are replaced with the same label'\n",
    "    for i in range(len(g.labels)):\n",
    "        for k in g.labels[i].keys():\n",
    "            g.labels[i][k] = 'banana'\n",
    "    return g"
   ]
  },
  {
   "cell_type": "code",
   "execution_count": null,
   "metadata": {},
   "outputs": [],
   "source": [
    "RANDOM_STATE = 42\n",
    "\n",
    "depth_values = [1, 2, 3]\n",
    "iteration_values =  [0, 2, 4, 6]\n",
    "C_values = [0.001, 0.01, 0.1, 1., 10., 100.]\n",
    "\n",
    "results = OrderedDict()\n",
    "\n",
    "for d in depth_values:\n",
    "    for it in iterfrom typing import Union\n",
    "        wlrdf_graph = wlkernel.WLRDFGraph(triples, instances, max_depth=d)\n",
    "        bananize(wlrdf_graph)\n",
    "        kernel_matrix = wlkernel.wlrdf_kernel_matrix(wlrdf_graph, instances, iterations=it)\n",
    "        kernel_matrix = wlkernel.kernel_matrix_normalization(kernel_matrix)\n",
    "        \n",
    "        results[(d, it)] = [0, 0, 0]\n",
    "        for c in C_values:\n",
    "            classifier = svm.SVC(C=c, kernel='precomputed', class_weight='balanced', random_state=RANDOM_STATE)\n",
    "            scores = cross_validate(classifier, kernel_matrix, y, cv=10, scoring=('accuracy', 'f1_macro'))\n",
    "            \n",
    "            acc_mean = scores['test_accuracy'].mean()\n",
    "            f1_mean = scores['test_f1_macro'].mean()\n",
    "            \n",
    "            if acc_mean > results[(d, it)][0]:\n",
    "                results[(d, it)] = [acc_mean, f1_mean, c]"
   ]
  },
  {
   "cell_type": "code",
   "execution_count": null,
   "metadata": {},
   "outputs": [],
   "source": [
    "fn = 'wlrdf_no_labels'\n",
    "\n",
    "df_res = pd.DataFrame(index=list(results.keys()))\n",
    "df_res['accuracy'] = [t[0] for t in results.values()]\n",
    "df_res['f1'] = [t[1] for t in results.values()]\n",
    "df_res['C'] = [t[2] for t in results.values()]\n",
    "df_res = df_res.set_index(pd.MultiIndex.from_tuples(df_res.index, names=['depth', 'iterations']))\n",
    "df_res.to_csv(f'../results/{fn}.csv')\n",
    "df_res_test = pd.read_csv(f'../results/{fn}.csv', index_col=['depth', 'iterations'])\n",
    "df_res_test.to_html(f'../results/{fn}.html')\n",
    "df_res_test"
   ]
  },
  {
   "cell_type": "markdown",
   "metadata": {},
   "source": [
    "### Weisfeiler-Lehman"
   ]
  },
  {
   "cell_type": "code",
   "execution_count": null,
   "metadata": {},
   "outputs": [],
   "source": [
    "RANDOM_STATE = 42\n",
    "\n",
    "depth_values = [1, 2, 3]\n",
    "iteration_values =  [0, 2, 4, 6]\n",
    "C_values = [0.001, 0.01, 0.1, 1., 10., 100.]\n",
    "\n",
    "results = OrderedDict()\n",
    "\n",
    "for d in depth_values:\n",
    "    for it in iteration_values:\n",
    "        wl_graphs = [bananize(\n",
    "            wlkernel.WLGraph(triples, instance, max_depth=d)\n",
    "        ) for instance in instances]\n",
    "        kernel_matrix = wlkernel.wl_kernel_matrix(wl_graphs, iterations=it)\n",
    "        kernel_matrix = wlkernel.kernel_matrix_normalization(kernel_matrix)\n",
    "        \n",
    "        results[(d, it)] = [0, 0, 0]\n",
    "        for c in C_values:\n",
    "            classifier = svm.SVC(C=c, kernel='precomputed', class_weight='balanced', random_state=RANDOM_STATE)\n",
    "            scores = cross_validate(classifier, kernel_matrix, y, cv=10, scoring=('accuracy', 'f1_macro'))\n",
    "            \n",
    "            acc_mean = scores['test_accuracy'].mean()\n",
    "            f1_mean = scores['test_f1_macro'].mean()\n",
    "            \n",
    "            if acc_mean > results[(d, it)][0]:\n",
    "                results[(d, it)] = [acc_mean, f1_mean, c]"
   ]
  },
  {
   "cell_type": "code",
   "execution_count": null,
   "metadata": {},
   "outputs": [],
   "source": [
    "fn = 'wl_no_labels'\n",
    "\n",
    "df_res = pd.DataFrame(index=list(results.keys()))\n",
    "df_res['accuracy'] = [t[0] for t in results.values()]\n",
    "df_res['f1'] = [t[1] for t in results.values()]\n",
    "df_res['C'] = [t[2] for t in results.values()]\n",
    "df_res = df_res.set_index(pd.MultiIndex.from_tuples(df_res.index, names=['depth', 'iterations']))\n",
    "df_res.to_csv(f'../results/{fn}.csv')\n",
    "df_res_test = pd.read_csv(f'../results/{fn}.csv', index_col=['depth', 'iterations'])\n",
    "df_res_test.to_html(f'../results/{fn}.html')\n",
    "df_res_test"
   ]
  }
 ],
 "metadata": {
  "kernelspec": {
   "display_name": "Python 3",
   "language": "python",
   "name": "python3"
  },
  "language_info": {
   "codemirror_mode": {
    "name": "ipython",
    "version": 3
   },
   "file_extension": ".py",
   "mimetype": "text/x-python",
   "name": "python",
   "nbconvert_exporter": "python",
   "pygments_lexer": "ipython3",
   "version": "3.7.3"
  }
 },
 "nbformat": 4,
 "nbformat_minor": 2
}
