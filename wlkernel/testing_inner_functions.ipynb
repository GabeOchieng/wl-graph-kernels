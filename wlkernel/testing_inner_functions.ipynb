{
 "cells": [
  {
   "cell_type": "code",
   "execution_count": 11,
   "metadata": {},
   "outputs": [],
   "source": [
    "import rdflib\n",
    "from wlkernel import *\n",
    "from pprint import pprint"
   ]
  },
  {
   "cell_type": "code",
   "execution_count": 12,
   "metadata": {},
   "outputs": [],
   "source": [
    "graph = rdflib.Graph().parse('./tests/example.ttl', format='turtle')"
   ]
  },
  {
   "cell_type": "code",
   "execution_count": 13,
   "metadata": {},
   "outputs": [
    {
     "name": "stdout",
     "output_type": "stream",
     "text": [
      "B1 P2 D\n",
      "A1 P2 C\n",
      "B2 P2 D\n",
      "C P3 E\n",
      "D P4 E\n",
      "E P4 B2\n",
      "A2 P2 C\n"
     ]
    }
   ],
   "source": [
    "for triple in graph:\n",
    "    print(*triple)"
   ]
  },
  {
   "cell_type": "code",
   "execution_count": 14,
   "metadata": {},
   "outputs": [],
   "source": [
    "max_depth = 3\n",
    "g_first = WLRDFGraph('B2', graph, max_depth)\n",
    "g_second = WLRDFGraph('B1', graph, max_depth)\n",
    "g_third = WLRDFGraph('A1', graph, max_depth)"
   ]
  },
  {
   "cell_type": "code",
   "execution_count": 15,
   "metadata": {},
   "outputs": [
    {
     "name": "stdout",
     "output_type": "stream",
     "text": [
      "defaultdict(<class 'list'>,\n",
      "            {0: [Node(label='B2', depth=0)],\n",
      "             1: [Node(label='E', depth=1)],\n",
      "             2: [Node(label='D', depth=2)],\n",
      "             3: [Node(label='', depth=3)]})\n",
      "defaultdict(<class 'list'>,\n",
      "            {0: [Node(label='B2', depth=0)],\n",
      "             1: [Node(label='E', depth=1)],\n",
      "             2: [Node(label='D', depth=2)],\n",
      "             3: [Node(label='', depth=3)]})\n",
      "defaultdict(<class 'list'>,\n",
      "            {0: [Node(label='B2', depth=0)],\n",
      "             1: [Node(label='E', depth=1)],\n",
      "             2: [Node(label='C', depth=2)],\n",
      "             3: [Node(label='', depth=3)]})\n"
     ]
    }
   ],
   "source": [
    "nodes_first = g_first.nodes\n",
    "nodes_second = g_second.nodes\n",
    "nodes_third = g_third.nodes\n",
    "pprint(nodes_first)\n",
    "pprint(nodes_second)\n",
    "pprint(nodes_third)"
   ]
  },
  {
   "cell_type": "code",
   "execution_count": 16,
   "metadata": {},
   "outputs": [
    {
     "data": {
      "text/plain": [
       "dict_values([[Node(label='', depth=3)], [Node(label='D', depth=2)], [Node(label='E', depth=1)], [Node(label='B2', depth=0)]])"
      ]
     },
     "execution_count": 16,
     "metadata": {},
     "output_type": "execute_result"
    }
   ],
   "source": [
    "g_first.nodes.values()"
   ]
  },
  {
   "cell_type": "code",
   "execution_count": 17,
   "metadata": {},
   "outputs": [
    {
     "data": {
      "text/plain": [
       "[Node(label='B2', depth=0),\n",
       " Node(label='B2', depth=0),\n",
       " Node(label='E', depth=1),\n",
       " Node(label='E', depth=1),\n",
       " Node(label='D', depth=2),\n",
       " Node(label='D', depth=2),\n",
       " Node(label='', depth=3),\n",
       " Node(label='', depth=3)]"
      ]
     },
     "execution_count": 17,
     "metadata": {},
     "output_type": "execute_result"
    }
   ],
   "source": [
    "sorted(\n",
    "    [x for l in g_first.nodes.values() for x in l] +\n",
    "    [x for l in g_second.nodes.values() for x in l], key = lambda n: (n.depth, n.label)\n",
    ")"
   ]
  },
  {
   "cell_type": "code",
   "execution_count": 18,
   "metadata": {},
   "outputs": [
    {
     "data": {
      "text/plain": [
       "[Node(label='C', depth=0),\n",
       " Node(label='T', depth=0),\n",
       " Node(label='34', depth=0),\n",
       " Node(label='213', depth=0),\n",
       " Node(label='A', depth=0),\n",
       " Node(label='0', depth=0)]"
      ]
     },
     "execution_count": 18,
     "metadata": {},
     "output_type": "execute_result"
    }
   ],
   "source": [
    "'input: list_of_nodes'\n",
    "'output: string'\n",
    "nodes = [Node('C', 0), Node('T', 0), Node('34', 0), Node('213', 0), Node('A', 0), Node('0', 0)]\n",
    "nodes"
   ]
  },
  {
   "cell_type": "code",
   "execution_count": 19,
   "metadata": {},
   "outputs": [
    {
     "data": {
      "text/plain": [
       "'021334ACT'"
      ]
     },
     "execution_count": 19,
     "metadata": {},
     "output_type": "execute_result"
    }
   ],
   "source": [
    "temp = sorted(nodes, key=lambda node: node.prev_label)\n",
    "''.join([node.prev_label for node in temp])"
   ]
  },
  {
   "cell_type": "code",
   "execution_count": 24,
   "metadata": {},
   "outputs": [
    {
     "name": "stdout",
     "output_type": "stream",
     "text": [
      "{'E', 'B', 'D', 'C', 'A'}\n"
     ]
    }
   ],
   "source": [
    "labels = ['A', 'B', 'C', 'D', 'E', 'A', 'C']\n",
    "uniq_labels = set(labels)\n",
    "print(uniq_labels)"
   ]
  }
 ],
 "metadata": {
  "kernelspec": {
   "display_name": "Python 3",
   "language": "python",
   "name": "python3"
  },
  "language_info": {
   "codemirror_mode": {
    "name": "ipython",
    "version": 3
   },
   "file_extension": ".py",
   "mimetype": "text/x-python",
   "name": "python",
   "nbconvert_exporter": "python",
   "pygments_lexer": "ipython3",
   "version": "3.6.7"
  }
 },
 "nbformat": 4,
 "nbformat_minor": 2
}
