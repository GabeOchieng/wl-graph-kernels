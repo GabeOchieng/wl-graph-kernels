{
 "cells": [
  {
   "cell_type": "code",
   "execution_count": 1,
   "metadata": {},
   "outputs": [],
   "source": [
    "import rdflib\n",
    "# from wlkernel import *\n",
    "from refactoring_wlkernel import *\n",
    "from pprint import pprint"
   ]
  },
  {
   "cell_type": "code",
   "execution_count": 2,
   "metadata": {},
   "outputs": [],
   "source": [
    "graph = rdflib.Graph().parse('./tests/example.ttl', format='turtle')"
   ]
  },
  {
   "cell_type": "code",
   "execution_count": 3,
   "metadata": {},
   "outputs": [
    {
     "name": "stdout",
     "output_type": "stream",
     "text": [
      "A2 P2 D\n",
      "H P6 A2\n",
      "A2 P3 E\n",
      "B1 P3 F\n",
      "B2 P2 F\n",
      "B2 P3 E\n",
      "F P5 I\n",
      "I P6 B2\n",
      "B1 P2 G\n",
      "A1 P3 D\n",
      "A1 P2 C\n",
      "G P5 I\n",
      "D P4 H\n",
      "C P4 H\n"
     ]
    }
   ],
   "source": [
    "for triple in graph:\n",
    "    print(*triple)"
   ]
  },
  {
   "cell_type": "code",
   "execution_count": 4,
   "metadata": {},
   "outputs": [],
   "source": [
    "max_depth = 4\n",
    "g_first = WLRDFGraph('A1', graph, max_depth)\n",
    "g_second = WLRDFGraph('B1', graph, max_depth)\n",
    "# g_third = WLRDFGraph('A2', graph, max_depth)"
   ]
  },
  {
   "cell_type": "code",
   "execution_count": 5,
   "metadata": {},
   "outputs": [
    {
     "data": {
      "text/plain": [
       "[Node(label='', depth=4),\n",
       " Node(label='D', depth=3),\n",
       " Node(label='C', depth=3),\n",
       " Node(label='H', depth=2),\n",
       " Node(label='A2', depth=1),\n",
       " Node(label='D', depth=0),\n",
       " Node(label='E', depth=0)]"
      ]
     },
     "execution_count": 5,
     "metadata": {},
     "output_type": "execute_result"
    }
   ],
   "source": [
    "import itertools\n",
    "[node for node in itertools.chain.from_iterable(g_first.nodes.values())]"
   ]
  },
  {
   "cell_type": "code",
   "execution_count": 6,
   "metadata": {},
   "outputs": [
    {
     "name": "stdout",
     "output_type": "stream",
     "text": [
      "defaultdict(<class 'list'>,\n",
      "            {0: [Node(label='D', depth=0), Node(label='E', depth=0)],\n",
      "             1: [Node(label='A2', depth=1)],\n",
      "             2: [Node(label='H', depth=2)],\n",
      "             3: [Node(label='D', depth=3), Node(label='C', depth=3)],\n",
      "             4: [Node(label='', depth=4)]})\n",
      "defaultdict(<class 'list'>,\n",
      "            {0: [Node(label='F', depth=0), Node(label='E', depth=0)],\n",
      "             1: [Node(label='B2', depth=1)],\n",
      "             2: [Node(label='I', depth=2)],\n",
      "             3: [Node(label='F', depth=3), Node(label='G', depth=3)],\n",
      "             4: [Node(label='', depth=4)]})\n"
     ]
    }
   ],
   "source": [
    "pprint(g_first.nodes)\n",
    "pprint(g_second.nodes)\n",
    "# pprint(g_third.nodes)"
   ]
  },
  {
   "cell_type": "code",
   "execution_count": 7,
   "metadata": {},
   "outputs": [
    {
     "name": "stdout",
     "output_type": "stream",
     "text": [
      "defaultdict(<class 'list'>,\n",
      "            {0: [Edge(source=Node(label='A2', depth=1), dest=Node(label='D', depth=0), label='P2', depth=0),\n",
      "                 Edge(source=Node(label='A2', depth=1), dest=Node(label='E', depth=0), label='P3', depth=0)],\n",
      "             1: [Edge(source=Node(label='H', depth=2), dest=Node(label='A2', depth=1), label='P6', depth=1)],\n",
      "             2: [Edge(source=Node(label='D', depth=3), dest=Node(label='H', depth=2), label='P4', depth=2),\n",
      "                 Edge(source=Node(label='C', depth=3), dest=Node(label='H', depth=2), label='P4', depth=2)],\n",
      "             3: [Edge(source=Node(label='', depth=4), dest=Node(label='D', depth=3), label='P3', depth=3),\n",
      "                 Edge(source=Node(label='', depth=4), dest=Node(label='C', depth=3), label='P2', depth=3)]})\n",
      "defaultdict(<class 'list'>,\n",
      "            {0: [Edge(source=Node(label='B2', depth=1), dest=Node(label='F', depth=0), label='P2', depth=0),\n",
      "                 Edge(source=Node(label='B2', depth=1), dest=Node(label='E', depth=0), label='P3', depth=0)],\n",
      "             1: [Edge(source=Node(label='I', depth=2), dest=Node(label='B2', depth=1), label='P6', depth=1)],\n",
      "             2: [Edge(source=Node(label='F', depth=3), dest=Node(label='I', depth=2), label='P5', depth=2),\n",
      "                 Edge(source=Node(label='G', depth=3), dest=Node(label='I', depth=2), label='P5', depth=2)],\n",
      "             3: [Edge(source=Node(label='', depth=4), dest=Node(label='F', depth=3), label='P3', depth=3),\n",
      "                 Edge(source=Node(label='', depth=4), dest=Node(label='G', depth=3), label='P2', depth=3)]})\n"
     ]
    }
   ],
   "source": [
    "pprint(g_first.edges)\n",
    "pprint(g_second.edges)\n",
    "# pprint(g_third.edges)"
   ]
  },
  {
   "cell_type": "code",
   "execution_count": 8,
   "metadata": {},
   "outputs": [
    {
     "name": "stdout",
     "output_type": "stream",
     "text": [
      "hola:  \n",
      "hola  -4\n"
     ]
    },
    {
     "ename": "AttributeError",
     "evalue": "'Node' object has no attribute 'source'",
     "output_type": "error",
     "traceback": [
      "\u001b[0;31m---------------------------------------------------------------------------\u001b[0m",
      "\u001b[0;31mAttributeError\u001b[0m                            Traceback (most recent call last)",
      "\u001b[0;32m<ipython-input-8-64822ea2e123>\u001b[0m in \u001b[0;36m<module>\u001b[0;34m\u001b[0m\n\u001b[0;32m----> 1\u001b[0;31m \u001b[0mrelabel\u001b[0m\u001b[0;34m(\u001b[0m\u001b[0mg_first\u001b[0m\u001b[0;34m,\u001b[0m \u001b[0mg_second\u001b[0m\u001b[0;34m,\u001b[0m \u001b[0mmax_depth\u001b[0m\u001b[0;34m,\u001b[0m \u001b[0;36m1\u001b[0m\u001b[0;34m)\u001b[0m\u001b[0;34m\u001b[0m\u001b[0;34m\u001b[0m\u001b[0m\n\u001b[0m",
      "\u001b[0;32m~/PycharmProjects/wl-graph-kernels/wlkernel/refactoring_wlkernel.py\u001b[0m in \u001b[0;36mrelabel\u001b[0;34m(left_graph, right_graph, max_depth, max_iteration)\u001b[0m\n\u001b[1;32m    162\u001b[0m         for element in chain(left_graph.all_nodes(), left_graph.all_edges(),\n\u001b[1;32m    163\u001b[0m                              right_graph.all_nodes(), right_graph.all_edges()):\n\u001b[0;32m--> 164\u001b[0;31m             \u001b[0;32mif\u001b[0m \u001b[0melement\u001b[0m \u001b[0;34m==\u001b[0m \u001b[0mNode\u001b[0m\u001b[0;34m(\u001b[0m\u001b[0;34m''\u001b[0m\u001b[0;34m,\u001b[0m \u001b[0;36m4\u001b[0m\u001b[0;34m)\u001b[0m\u001b[0;34m:\u001b[0m\u001b[0;34m\u001b[0m\u001b[0;34m\u001b[0m\u001b[0m\n\u001b[0m\u001b[1;32m    165\u001b[0m                 \u001b[0mprint\u001b[0m\u001b[0;34m(\u001b[0m\u001b[0;34m'hola '\u001b[0m\u001b[0;34m,\u001b[0m  \u001b[0melement\u001b[0m\u001b[0;34m)\u001b[0m\u001b[0;34m\u001b[0m\u001b[0;34m\u001b[0m\u001b[0m\n\u001b[1;32m    166\u001b[0m             \u001b[0mmultiset_label\u001b[0m \u001b[0;34m=\u001b[0m \u001b[0mmultiset_mapping\u001b[0m\u001b[0;34m[\u001b[0m\u001b[0melement\u001b[0m\u001b[0;34m]\u001b[0m\u001b[0;34m\u001b[0m\u001b[0;34m\u001b[0m\u001b[0m\n",
      "\u001b[0;32m~/PycharmProjects/wl-graph-kernels/wlkernel/refactoring_wlkernel.py\u001b[0m in \u001b[0;36m__eq__\u001b[0;34m(self, edge)\u001b[0m\n\u001b[1;32m     54\u001b[0m     \u001b[0;32mdef\u001b[0m \u001b[0m__eq__\u001b[0m\u001b[0;34m(\u001b[0m\u001b[0mself\u001b[0m\u001b[0;34m,\u001b[0m \u001b[0medge\u001b[0m\u001b[0;34m)\u001b[0m\u001b[0;34m:\u001b[0m\u001b[0;34m\u001b[0m\u001b[0;34m\u001b[0m\u001b[0m\n\u001b[1;32m     55\u001b[0m         return (\n\u001b[0;32m---> 56\u001b[0;31m                 \u001b[0mself\u001b[0m\u001b[0;34m.\u001b[0m\u001b[0msource\u001b[0m \u001b[0;34m==\u001b[0m \u001b[0medge\u001b[0m\u001b[0;34m.\u001b[0m\u001b[0msource\u001b[0m \u001b[0;32mand\u001b[0m \u001b[0mself\u001b[0m\u001b[0;34m.\u001b[0m\u001b[0mdest\u001b[0m \u001b[0;34m==\u001b[0m \u001b[0medge\u001b[0m\u001b[0;34m.\u001b[0m\u001b[0mdest\u001b[0m\u001b[0;34m\u001b[0m\u001b[0;34m\u001b[0m\u001b[0m\n\u001b[0m\u001b[1;32m     57\u001b[0m                 \u001b[0;32mand\u001b[0m \u001b[0mself\u001b[0m\u001b[0;34m.\u001b[0m\u001b[0mlabel\u001b[0m \u001b[0;34m==\u001b[0m \u001b[0medge\u001b[0m\u001b[0;34m.\u001b[0m\u001b[0mlabel\u001b[0m \u001b[0;32mand\u001b[0m \u001b[0mself\u001b[0m\u001b[0;34m.\u001b[0m\u001b[0mdepth\u001b[0m \u001b[0;34m==\u001b[0m \u001b[0medge\u001b[0m\u001b[0;34m.\u001b[0m\u001b[0mdepth\u001b[0m\u001b[0;34m\u001b[0m\u001b[0;34m\u001b[0m\u001b[0m\n\u001b[1;32m     58\u001b[0m         )\n",
      "\u001b[0;31mAttributeError\u001b[0m: 'Node' object has no attribute 'source'"
     ]
    }
   ],
   "source": [
    "relabel(g_first, g_second, max_depth, 1)"
   ]
  },
  {
   "cell_type": "code",
   "execution_count": null,
   "metadata": {},
   "outputs": [],
   "source": [
    "pprint(g_first.nodes)\n",
    "pprint(g_second.nodes)"
   ]
  },
  {
   "cell_type": "code",
   "execution_count": 10,
   "metadata": {},
   "outputs": [
    {
     "name": "stdout",
     "output_type": "stream",
     "text": [
      "defaultdict(<class 'list'>,\n",
      "            {0: [Edge(source=Node(label='22', depth=1), dest=Node(label='13', depth=0), label='8', depth=0),\n",
      "                 Edge(source=Node(label='22', depth=1), dest=Node(label='16', depth=0), label='1', depth=0)],\n",
      "             1: [Edge(source=Node(label='10', depth=2), dest=Node(label='22', depth=1), label='19', depth=1)],\n",
      "             2: [Edge(source=Node(label='6', depth=3), dest=Node(label='10', depth=2), label='3', depth=2),\n",
      "                 Edge(source=Node(label='20', depth=3), dest=Node(label='H', depth=2), label='3', depth=2)],\n",
      "             3: [Edge(source=Node(label='0', depth=4), dest=Node(label='6', depth=3), label='2', depth=3),\n",
      "                 Edge(source=Node(label='0', depth=4), dest=Node(label='20', depth=3), label='17', depth=3)]})\n",
      "\n",
      "defaultdict(<class 'list'>,\n",
      "            {0: [Edge(source=Node(label='7', depth=1), dest=Node(label='16', depth=0), label='1', depth=0),\n",
      "                 Edge(source=Node(label='7', depth=1), dest=Node(label='9', depth=0), label='12', depth=0)],\n",
      "             1: [Edge(source=Node(label='18', depth=2), dest=Node(label='7', depth=1), label='15', depth=1)],\n",
      "             2: [Edge(source=Node(label='21', depth=3), dest=Node(label='18', depth=2), label='14', depth=2),\n",
      "                 Edge(source=Node(label='11', depth=3), dest=Node(label='I', depth=2), label='14', depth=2)],\n",
      "             3: [Edge(source=Node(label='0', depth=4), dest=Node(label='21', depth=3), label='4', depth=3),\n",
      "                 Edge(source=Node(label='0', depth=4), dest=Node(label='11', depth=3), label='5', depth=3)]})\n"
     ]
    }
   ],
   "source": [
    "pprint(g_first.edges)\n",
    "print()\n",
    "pprint(g_second.edges)"
   ]
  },
  {
   "cell_type": "code",
   "execution_count": 9,
   "metadata": {},
   "outputs": [
    {
     "name": "stdout",
     "output_type": "stream",
     "text": [
      "defaultdict(<class 'list'>,\n",
      "            {0: [Node(label='EP3', depth=0), Node(label='DP2', depth=0)],\n",
      "             1: [Node(label='A2P6', depth=1)],\n",
      "             2: [Node(label='HP4', depth=2)],\n",
      "             3: [Node(label='DP3', depth=3), Node(label='CP2', depth=3)],\n",
      "             4: [Node(label='', depth=4)]})\n",
      "defaultdict(<class 'list'>,\n",
      "            {0: [Node(label='0', depth=0), Node(label='1', depth=0)],\n",
      "             1: [Node(label='1', depth=1)],\n",
      "             2: [Node(label='1', depth=2)],\n",
      "             3: [Node(label='2', depth=3), Node(label='0', depth=3)],\n",
      "             4: [Node(label='0', depth=4)]})\n"
     ]
    }
   ],
   "source": [
    "pprint(g_first.nodes)\n",
    "pprint(g_second.nodes)"
   ]
  },
  {
   "cell_type": "code",
   "execution_count": 43,
   "metadata": {},
   "outputs": [
    {
     "name": "stdout",
     "output_type": "stream",
     "text": [
      "defaultdict(<class 'list'>,\n",
      "            {0: [Node(label='7', depth=0), Node(label='6', depth=0)],\n",
      "             1: [Node(label='5', depth=1)],\n",
      "             2: [Node(label='4', depth=2)],\n",
      "             3: [Node(label='8', depth=3), Node(label='10', depth=3)],\n",
      "             4: [Node(label='2', depth=4)]})\n",
      "defaultdict(<class 'list'>,\n",
      "            {0: [Node(label='6', depth=0), Node(label='8', depth=0)],\n",
      "             1: [Node(label='4', depth=1)],\n",
      "             2: [Node(label='5', depth=2)],\n",
      "             3: [Node(label='11', depth=3), Node(label='9', depth=3)],\n",
      "             4: [Node(label='2', depth=4)]})\n"
     ]
    }
   ],
   "source": [
    "pprint(g_first.nodes)\n",
    "pprint(g_second.nodes)"
   ]
  },
  {
   "cell_type": "code",
   "execution_count": 41,
   "metadata": {},
   "outputs": [],
   "source": [
    "uniq_labels_node = defaultdict(set)\n",
    "for depth in range(max_depth + 1):\n",
    "    for node in g_first.nodes[depth]:\n",
    "        node.label += get_multiset_label(node.neighbors)\n",
    "        uniq_labels_node[depth].add(node.label)\n",
    "    for node in g_second.nodes[depth]:\n",
    "        node.label += get_multiset_label(node.neighbors)\n",
    "        uniq_labels_node[depth].add(node.label)"
   ]
  },
  {
   "cell_type": "code",
   "execution_count": 44,
   "metadata": {},
   "outputs": [
    {
     "data": {
      "text/plain": [
       "['FP2P2', 'EP3P3', 'DP2P2P2']"
      ]
     },
     "execution_count": 44,
     "metadata": {},
     "output_type": "execute_result"
    }
   ],
   "source": [
    "list(uniq_labels_node[0])"
   ]
  },
  {
   "cell_type": "code",
   "execution_count": 26,
   "metadata": {},
   "outputs": [
    {
     "name": "stdout",
     "output_type": "stream",
     "text": [
      "defaultdict(<class 'list'>,\n",
      "            {0: [Node(label='DP2', depth=0), Node(label='EP3', depth=0)],\n",
      "             1: [Node(label='A2P6', depth=1)],\n",
      "             2: [Node(label='HP4', depth=2)],\n",
      "             3: [Node(label='DP3', depth=3), Node(label='CP2', depth=3)],\n",
      "             4: [Node(label='', depth=4)]})\n",
      "defaultdict(<class 'set'>,\n",
      "            {0: {'DP2', 'FP2', 'EP3'},\n",
      "             1: {'B2P6', 'A2P6'},\n",
      "             2: {'IP5', 'HP4'},\n",
      "             3: {'DP3', 'FP3', 'CP2', 'GP2'},\n",
      "             4: {''}})\n",
      "{'DP2', 'FP2', 'EP3'}\n"
     ]
    }
   ],
   "source": [
    "import copy\n",
    "c_nodes = copy.copy(g_first.nodes)\n",
    "pprint(c_nodes)\n",
    "pprint(uniq_labels_node)\n",
    "labels_zero = uniq_labels_node[0]\n",
    "print(labels_zero)"
   ]
  },
  {
   "cell_type": "code",
   "execution_count": 14,
   "metadata": {},
   "outputs": [
    {
     "name": "stdout",
     "output_type": "stream",
     "text": [
      "DP2\n",
      "EP3\n",
      "A2P6\n",
      "HP4\n",
      "DP3\n",
      "CP2\n",
      "\n"
     ]
    }
   ],
   "source": [
    "iteration = 1\n",
    "for depth in range(max_depth + 1):\n",
    "    for node in g_first.nodes[depth]:\n",
    "        c_nodes.label = (iteration + 1) * str(len(uniq_labels_node[depth])) + \n",
    "                        "
   ]
  },
  {
   "cell_type": "code",
   "execution_count": 11,
   "metadata": {},
   "outputs": [
    {
     "data": {
      "text/plain": [
       "defaultdict(set,\n",
       "            {0: {'P2D', 'P2F', 'P3E'},\n",
       "             1: {'P6A2', 'P6B2'},\n",
       "             2: {'P4H', 'P5I'},\n",
       "             3: {'P2C', 'P2G', 'P3D', 'P3F'}})"
      ]
     },
     "execution_count": 11,
     "metadata": {},
     "output_type": "execute_result"
    }
   ],
   "source": [
    "uniq_labels_edge"
   ]
  },
  {
   "cell_type": "code",
   "execution_count": 22,
   "metadata": {},
   "outputs": [
    {
     "name": "stdout",
     "output_type": "stream",
     "text": [
      "[Node(label='', depth=4),\n",
      " Node(label='D', depth=3),\n",
      " Node(label='C', depth=3),\n",
      " Node(label='H', depth=2),\n",
      " Node(label='A2', depth=1),\n",
      " Node(label='D', depth=0),\n",
      " Node(label='E', depth=0)]\n",
      "[Node(label='', depth=4),\n",
      " Node(label='G', depth=3),\n",
      " Node(label='F', depth=3),\n",
      " Node(label='I', depth=2),\n",
      " Node(label='B2', depth=1),\n",
      " Node(label='E', depth=0),\n",
      " Node(label='F', depth=0)]\n"
     ]
    }
   ],
   "source": [
    "pprint([x for l in g_first.nodes.values() for x in l])\n",
    "pprint([x for l in g_second.nodes.values() for x in l])"
   ]
  },
  {
   "cell_type": "code",
   "execution_count": 16,
   "metadata": {},
   "outputs": [
    {
     "data": {
      "text/plain": [
       "[Node(label='D', depth=0),\n",
       " Node(label='E', depth=0),\n",
       " Node(label='E', depth=0),\n",
       " Node(label='F', depth=0),\n",
       " Node(label='A2', depth=1),\n",
       " Node(label='B2', depth=1),\n",
       " Node(label='H', depth=2),\n",
       " Node(label='I', depth=2),\n",
       " Node(label='C', depth=3),\n",
       " Node(label='D', depth=3),\n",
       " Node(label='F', depth=3),\n",
       " Node(label='G', depth=3),\n",
       " Node(label='', depth=4),\n",
       " Node(label='', depth=4)]"
      ]
     },
     "execution_count": 16,
     "metadata": {},
     "output_type": "execute_result"
    }
   ],
   "source": [
    "sorted(\n",
    "    [x for l in g_first.nodes.values() for x in l] +\n",
    "    [x for l in g_second.nodes.values() for x in l], key = lambda n: (n.depth, n.label)\n",
    ")"
   ]
  },
  {
   "cell_type": "code",
   "execution_count": 8,
   "metadata": {},
   "outputs": [
    {
     "data": {
      "text/plain": [
       "[Node(label='C', depth=0),\n",
       " Node(label='T', depth=0),\n",
       " Node(label='34', depth=0),\n",
       " Node(label='213', depth=0),\n",
       " Node(label='A', depth=0),\n",
       " Node(label='0', depth=0)]"
      ]
     },
     "execution_count": 8,
     "metadata": {},
     "output_type": "execute_result"
    }
   ],
   "source": [
    "'input: list_of_nodes'\n",
    "'output: string'\n",
    "nodes = [Node('C', 0), Node('T', 0), Node('34', 0), Node('213', 0), Node('A', 0), Node('0', 0)]\n",
    "nodes"
   ]
  },
  {
   "cell_type": "code",
   "execution_count": 19,
   "metadata": {},
   "outputs": [
    {
     "data": {
      "text/plain": [
       "'021334ACT'"
      ]
     },
     "execution_count": 19,
     "metadata": {},
     "output_type": "execute_result"
    }
   ],
   "source": [
    "temp = sorted(nodes, key=lambda node: node.prev_label)\n",
    "''.join([node.prev_label for node in temp])"
   ]
  },
  {
   "cell_type": "code",
   "execution_count": 24,
   "metadata": {},
   "outputs": [
    {
     "name": "stdout",
     "output_type": "stream",
     "text": [
      "{'E', 'B', 'D', 'C', 'A'}\n"
     ]
    }
   ],
   "source": [
    "labels = ['A', 'B', 'C', 'D', 'E', 'A', 'C']\n",
    "uniq_labels = set(labels)\n",
    "print(uniq_labels)"
   ]
  }
 ],
 "metadata": {
  "kernelspec": {
   "display_name": "Python 3",
   "language": "python",
   "name": "python3"
  },
  "language_info": {
   "codemirror_mode": {
    "name": "ipython",
    "version": 3
   },
   "file_extension": ".py",
   "mimetype": "text/x-python",
   "name": "python",
   "nbconvert_exporter": "python",
   "pygments_lexer": "ipython3",
   "version": "3.6.7"
  }
 },
 "nbformat": 4,
 "nbformat_minor": 2
}
