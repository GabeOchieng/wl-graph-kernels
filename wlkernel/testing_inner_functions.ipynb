{
 "cells": [
  {
   "cell_type": "code",
   "execution_count": 11,
   "metadata": {},
   "outputs": [],
   "source": [
    "import rdflib\n",
    "from wlkernel import *\n",
    "# from refactoring_wlkernel import *\n",
    "from pprint import pprint"
   ]
  },
  {
   "cell_type": "code",
   "execution_count": 12,
   "metadata": {},
   "outputs": [],
   "source": [
    "graph = rdflib.Graph().parse('./tests/example.ttl', format='turtle')"
   ]
  },
  {
   "cell_type": "code",
   "execution_count": 13,
   "metadata": {},
   "outputs": [
    {
     "name": "stdout",
     "output_type": "stream",
     "text": [
      "B2 P2 F\n",
      "D P4 H\n",
      "B1 P2 G\n",
      "F P5 I\n",
      "G P5 I\n",
      "A1 P2 C\n",
      "A1 P3 D\n",
      "A2 P2 D\n",
      "H P6 A2\n",
      "C P4 H\n",
      "B2 P3 E\n",
      "B1 P3 F\n",
      "I P6 B2\n",
      "A2 P3 E\n"
     ]
    }
   ],
   "source": [
    "for triple in graph:\n",
    "    print(*triple)"
   ]
  },
  {
   "cell_type": "code",
   "execution_count": 14,
   "metadata": {},
   "outputs": [],
   "source": [
    "max_depth = 4\n",
    "g_first = WLRDFGraph('A1', graph, max_depth)\n",
    "g_second = WLRDFGraph('B1', graph, max_depth)\n",
    "# g_third = WLRDFGraph('A2', graph, max_depth)"
   ]
  },
  {
   "cell_type": "code",
   "execution_count": 15,
   "metadata": {},
   "outputs": [
    {
     "data": {
      "text/plain": [
       "[Node(label='', depth=4),\n",
       " Node(label='C', depth=3),\n",
       " Node(label='D', depth=3),\n",
       " Node(label='H', depth=2),\n",
       " Node(label='A2', depth=1),\n",
       " Node(label='D', depth=0),\n",
       " Node(label='E', depth=0)]"
      ]
     },
     "execution_count": 15,
     "metadata": {},
     "output_type": "execute_result"
    }
   ],
   "source": [
    "import itertools\n",
    "[node for node in itertools.chain.from_iterable(g_first.nodes.values())]"
   ]
  },
  {
   "cell_type": "code",
   "execution_count": 16,
   "metadata": {},
   "outputs": [
    {
     "name": "stdout",
     "output_type": "stream",
     "text": [
      "defaultdict(<class 'list'>,\n",
      "            {0: [Node(label='D', depth=0), Node(label='E', depth=0)],\n",
      "             1: [Node(label='A2', depth=1)],\n",
      "             2: [Node(label='H', depth=2)],\n",
      "             3: [Node(label='C', depth=3), Node(label='D', depth=3)],\n",
      "             4: [Node(label='', depth=4)]})\n",
      "defaultdict(<class 'list'>,\n",
      "            {0: [Node(label='F', depth=0), Node(label='E', depth=0)],\n",
      "             1: [Node(label='B2', depth=1)],\n",
      "             2: [Node(label='I', depth=2)],\n",
      "             3: [Node(label='G', depth=3), Node(label='F', depth=3)],\n",
      "             4: [Node(label='', depth=4)]})\n"
     ]
    }
   ],
   "source": [
    "pprint(g_first.nodes)\n",
    "pprint(g_second.nodes)\n",
    "# pprint(g_third.nodes)"
   ]
  },
  {
   "cell_type": "code",
   "execution_count": 17,
   "metadata": {},
   "outputs": [
    {
     "name": "stdout",
     "output_type": "stream",
     "text": [
      "defaultdict(<class 'list'>,\n",
      "            {0: [Edge(source=Node(label='A2', depth=1), dest=Node(label='D', depth=0), label='P2', depth=0),\n",
      "                 Edge(source=Node(label='A2', depth=1), dest=Node(label='E', depth=0), label='P3', depth=0)],\n",
      "             1: [Edge(source=Node(label='H', depth=2), dest=Node(label='A2', depth=1), label='P6', depth=1)],\n",
      "             2: [Edge(source=Node(label='C', depth=3), dest=Node(label='H', depth=2), label='P4', depth=2),\n",
      "                 Edge(source=Node(label='D', depth=3), dest=Node(label='H', depth=2), label='P4', depth=2)],\n",
      "             3: [Edge(source=Node(label='', depth=4), dest=Node(label='C', depth=3), label='P2', depth=3),\n",
      "                 Edge(source=Node(label='', depth=4), dest=Node(label='D', depth=3), label='P3', depth=3)]})\n",
      "defaultdict(<class 'list'>,\n",
      "            {0: [Edge(source=Node(label='B2', depth=1), dest=Node(label='F', depth=0), label='P2', depth=0),\n",
      "                 Edge(source=Node(label='B2', depth=1), dest=Node(label='E', depth=0), label='P3', depth=0)],\n",
      "             1: [Edge(source=Node(label='I', depth=2), dest=Node(label='B2', depth=1), label='P6', depth=1)],\n",
      "             2: [Edge(source=Node(label='G', depth=3), dest=Node(label='I', depth=2), label='P5', depth=2),\n",
      "                 Edge(source=Node(label='F', depth=3), dest=Node(label='I', depth=2), label='P5', depth=2)],\n",
      "             3: [Edge(source=Node(label='', depth=4), dest=Node(label='G', depth=3), label='P2', depth=3),\n",
      "                 Edge(source=Node(label='', depth=4), dest=Node(label='F', depth=3), label='P3', depth=3)]})\n"
     ]
    }
   ],
   "source": [
    "pprint(g_first.edges)\n",
    "pprint(g_second.edges)\n",
    "# pprint(g_third.edges)"
   ]
  },
  {
   "cell_type": "code",
   "execution_count": 18,
   "metadata": {},
   "outputs": [],
   "source": [
    "relabel(g_first, g_second, 1)"
   ]
  },
  {
   "cell_type": "code",
   "execution_count": 19,
   "metadata": {},
   "outputs": [
    {
     "name": "stdout",
     "output_type": "stream",
     "text": [
      "defaultdict(<class 'list'>,\n",
      "            {0: [Node(label='17', depth=0), Node(label='19', depth=0)],\n",
      "             1: [Node(label='15', depth=1)],\n",
      "             2: [Node(label='4', depth=2)],\n",
      "             3: [Node(label='16', depth=3), Node(label='12', depth=3)],\n",
      "             4: [Node(label='0', depth=4)]})\n",
      "defaultdict(<class 'list'>,\n",
      "            {0: [Node(label='1', depth=0), Node(label='19', depth=0)],\n",
      "             1: [Node(label='6', depth=1)],\n",
      "             2: [Node(label='2', depth=2)],\n",
      "             3: [Node(label='7', depth=3), Node(label='9', depth=3)],\n",
      "             4: [Node(label='0', depth=4)]})\n"
     ]
    }
   ],
   "source": [
    "pprint(g_first.nodes)\n",
    "pprint(g_second.nodes)"
   ]
  },
  {
   "cell_type": "code",
   "execution_count": 20,
   "metadata": {},
   "outputs": [
    {
     "name": "stdout",
     "output_type": "stream",
     "text": [
      "defaultdict(<class 'list'>,\n",
      "            {0: [Edge(source=Node(label='15', depth=1), dest=Node(label='17', depth=0), label='5', depth=0),\n",
      "                 Edge(source=Node(label='15', depth=1), dest=Node(label='19', depth=0), label='8', depth=0)],\n",
      "             1: [Edge(source=Node(label='4', depth=2), dest=Node(label='15', depth=1), label='11', depth=1)],\n",
      "             2: [Edge(source=Node(label='16', depth=3), dest=Node(label='4', depth=2), label='20', depth=2),\n",
      "                 Edge(source=Node(label='12', depth=3), dest=Node(label='H', depth=2), label='20', depth=2)],\n",
      "             3: [Edge(source=Node(label='0', depth=4), dest=Node(label='16', depth=3), label='21', depth=3),\n",
      "                 Edge(source=Node(label='0', depth=4), dest=Node(label='12', depth=3), label='3', depth=3)]})\n",
      "\n",
      "defaultdict(<class 'list'>,\n",
      "            {0: [Edge(source=Node(label='6', depth=1), dest=Node(label='1', depth=0), label='22', depth=0),\n",
      "                 Edge(source=Node(label='6', depth=1), dest=Node(label='19', depth=0), label='8', depth=0)],\n",
      "             1: [Edge(source=Node(label='2', depth=2), dest=Node(label='6', depth=1), label='13', depth=1)],\n",
      "             2: [Edge(source=Node(label='7', depth=3), dest=Node(label='2', depth=2), label='18', depth=2),\n",
      "                 Edge(source=Node(label='9', depth=3), dest=Node(label='I', depth=2), label='18', depth=2)],\n",
      "             3: [Edge(source=Node(label='0', depth=4), dest=Node(label='7', depth=3), label='14', depth=3),\n",
      "                 Edge(source=Node(label='0', depth=4), dest=Node(label='9', depth=3), label='10', depth=3)]})\n"
     ]
    }
   ],
   "source": [
    "pprint(g_first.edges)\n",
    "print()\n",
    "pprint(g_second.edges)"
   ]
  },
  {
   "cell_type": "code",
   "execution_count": 9,
   "metadata": {},
   "outputs": [
    {
     "name": "stdout",
     "output_type": "stream",
     "text": [
      "defaultdict(<class 'list'>,\n",
      "            {0: [Node(label='EP3', depth=0), Node(label='DP2', depth=0)],\n",
      "             1: [Node(label='A2P6', depth=1)],\n",
      "             2: [Node(label='HP4', depth=2)],\n",
      "             3: [Node(label='DP3', depth=3), Node(label='CP2', depth=3)],\n",
      "             4: [Node(label='', depth=4)]})\n",
      "defaultdict(<class 'list'>,\n",
      "            {0: [Node(label='0', depth=0), Node(label='1', depth=0)],\n",
      "             1: [Node(label='1', depth=1)],\n",
      "             2: [Node(label='1', depth=2)],\n",
      "             3: [Node(label='2', depth=3), Node(label='0', depth=3)],\n",
      "             4: [Node(label='0', depth=4)]})\n"
     ]
    }
   ],
   "source": [
    "pprint(g_first.nodes)\n",
    "pprint(g_second.nodes)"
   ]
  },
  {
   "cell_type": "code",
   "execution_count": 43,
   "metadata": {},
   "outputs": [
    {
     "name": "stdout",
     "output_type": "stream",
     "text": [
      "defaultdict(<class 'list'>,\n",
      "            {0: [Node(label='7', depth=0), Node(label='6', depth=0)],\n",
      "             1: [Node(label='5', depth=1)],\n",
      "             2: [Node(label='4', depth=2)],\n",
      "             3: [Node(label='8', depth=3), Node(label='10', depth=3)],\n",
      "             4: [Node(label='2', depth=4)]})\n",
      "defaultdict(<class 'list'>,\n",
      "            {0: [Node(label='6', depth=0), Node(label='8', depth=0)],\n",
      "             1: [Node(label='4', depth=1)],\n",
      "             2: [Node(label='5', depth=2)],\n",
      "             3: [Node(label='11', depth=3), Node(label='9', depth=3)],\n",
      "             4: [Node(label='2', depth=4)]})\n"
     ]
    }
   ],
   "source": [
    "pprint(g_first.nodes)\n",
    "pprint(g_second.nodes)"
   ]
  },
  {
   "cell_type": "code",
   "execution_count": 41,
   "metadata": {},
   "outputs": [],
   "source": [
    "uniq_labels_node = defaultdict(set)\n",
    "for depth in range(max_depth + 1):\n",
    "    for node in g_first.nodes[depth]:\n",
    "        node.label += get_multiset_label(node.neighbors)\n",
    "        uniq_labels_node[depth].add(node.label)\n",
    "    for node in g_second.nodes[depth]:\n",
    "        node.label += get_multiset_label(node.neighbors)\n",
    "        uniq_labels_node[depth].add(node.label)"
   ]
  },
  {
   "cell_type": "code",
   "execution_count": 44,
   "metadata": {},
   "outputs": [
    {
     "data": {
      "text/plain": [
       "['FP2P2', 'EP3P3', 'DP2P2P2']"
      ]
     },
     "execution_count": 44,
     "metadata": {},
     "output_type": "execute_result"
    }
   ],
   "source": [
    "list(uniq_labels_node[0])"
   ]
  },
  {
   "cell_type": "code",
   "execution_count": 26,
   "metadata": {},
   "outputs": [
    {
     "name": "stdout",
     "output_type": "stream",
     "text": [
      "defaultdict(<class 'list'>,\n",
      "            {0: [Node(label='DP2', depth=0), Node(label='EP3', depth=0)],\n",
      "             1: [Node(label='A2P6', depth=1)],\n",
      "             2: [Node(label='HP4', depth=2)],\n",
      "             3: [Node(label='DP3', depth=3), Node(label='CP2', depth=3)],\n",
      "             4: [Node(label='', depth=4)]})\n",
      "defaultdict(<class 'set'>,\n",
      "            {0: {'DP2', 'FP2', 'EP3'},\n",
      "             1: {'B2P6', 'A2P6'},\n",
      "             2: {'IP5', 'HP4'},\n",
      "             3: {'DP3', 'FP3', 'CP2', 'GP2'},\n",
      "             4: {''}})\n",
      "{'DP2', 'FP2', 'EP3'}\n"
     ]
    }
   ],
   "source": [
    "import copy\n",
    "c_nodes = copy.copy(g_first.nodes)\n",
    "pprint(c_nodes)\n",
    "pprint(uniq_labels_node)\n",
    "labels_zero = uniq_labels_node[0]\n",
    "print(labels_zero)"
   ]
  },
  {
   "cell_type": "code",
   "execution_count": 14,
   "metadata": {},
   "outputs": [
    {
     "name": "stdout",
     "output_type": "stream",
     "text": [
      "DP2\n",
      "EP3\n",
      "A2P6\n",
      "HP4\n",
      "DP3\n",
      "CP2\n",
      "\n"
     ]
    }
   ],
   "source": [
    "iteration = 1\n",
    "for depth in range(max_depth + 1):\n",
    "    for node in g_first.nodes[depth]:\n",
    "        c_nodes.label = (iteration + 1) * str(len(uniq_labels_node[depth])) + \n",
    "                        "
   ]
  },
  {
   "cell_type": "code",
   "execution_count": 11,
   "metadata": {},
   "outputs": [
    {
     "data": {
      "text/plain": [
       "defaultdict(set,\n",
       "            {0: {'P2D', 'P2F', 'P3E'},\n",
       "             1: {'P6A2', 'P6B2'},\n",
       "             2: {'P4H', 'P5I'},\n",
       "             3: {'P2C', 'P2G', 'P3D', 'P3F'}})"
      ]
     },
     "execution_count": 11,
     "metadata": {},
     "output_type": "execute_result"
    }
   ],
   "source": [
    "uniq_labels_edge"
   ]
  },
  {
   "cell_type": "code",
   "execution_count": 22,
   "metadata": {},
   "outputs": [
    {
     "name": "stdout",
     "output_type": "stream",
     "text": [
      "[Node(label='', depth=4),\n",
      " Node(label='D', depth=3),\n",
      " Node(label='C', depth=3),\n",
      " Node(label='H', depth=2),\n",
      " Node(label='A2', depth=1),\n",
      " Node(label='D', depth=0),\n",
      " Node(label='E', depth=0)]\n",
      "[Node(label='', depth=4),\n",
      " Node(label='G', depth=3),\n",
      " Node(label='F', depth=3),\n",
      " Node(label='I', depth=2),\n",
      " Node(label='B2', depth=1),\n",
      " Node(label='E', depth=0),\n",
      " Node(label='F', depth=0)]\n"
     ]
    }
   ],
   "source": [
    "pprint([x for l in g_first.nodes.values() for x in l])\n",
    "pprint([x for l in g_second.nodes.values() for x in l])"
   ]
  },
  {
   "cell_type": "code",
   "execution_count": 16,
   "metadata": {},
   "outputs": [
    {
     "data": {
      "text/plain": [
       "[Node(label='D', depth=0),\n",
       " Node(label='E', depth=0),\n",
       " Node(label='E', depth=0),\n",
       " Node(label='F', depth=0),\n",
       " Node(label='A2', depth=1),\n",
       " Node(label='B2', depth=1),\n",
       " Node(label='H', depth=2),\n",
       " Node(label='I', depth=2),\n",
       " Node(label='C', depth=3),\n",
       " Node(label='D', depth=3),\n",
       " Node(label='F', depth=3),\n",
       " Node(label='G', depth=3),\n",
       " Node(label='', depth=4),\n",
       " Node(label='', depth=4)]"
      ]
     },
     "execution_count": 16,
     "metadata": {},
     "output_type": "execute_result"
    }
   ],
   "source": [
    "sorted(\n",
    "    [x for l in g_first.nodes.values() for x in l] +\n",
    "    [x for l in g_second.nodes.values() for x in l], key = lambda n: (n.depth, n.label)\n",
    ")"
   ]
  },
  {
   "cell_type": "code",
   "execution_count": 8,
   "metadata": {},
   "outputs": [
    {
     "data": {
      "text/plain": [
       "[Node(label='C', depth=0),\n",
       " Node(label='T', depth=0),\n",
       " Node(label='34', depth=0),\n",
       " Node(label='213', depth=0),\n",
       " Node(label='A', depth=0),\n",
       " Node(label='0', depth=0)]"
      ]
     },
     "execution_count": 8,
     "metadata": {},
     "output_type": "execute_result"
    }
   ],
   "source": [
    "'input: list_of_nodes'\n",
    "'output: string'\n",
    "nodes = [Node('C', 0), Node('T', 0), Node('34', 0), Node('213', 0), Node('A', 0), Node('0', 0)]\n",
    "nodes"
   ]
  },
  {
   "cell_type": "code",
   "execution_count": 19,
   "metadata": {},
   "outputs": [
    {
     "data": {
      "text/plain": [
       "'021334ACT'"
      ]
     },
     "execution_count": 19,
     "metadata": {},
     "output_type": "execute_result"
    }
   ],
   "source": [
    "temp = sorted(nodes, key=lambda node: node.prev_label)\n",
    "''.join([node.prev_label for node in temp])"
   ]
  },
  {
   "cell_type": "code",
   "execution_count": 24,
   "metadata": {},
   "outputs": [
    {
     "name": "stdout",
     "output_type": "stream",
     "text": [
      "{'E', 'B', 'D', 'C', 'A'}\n"
     ]
    }
   ],
   "source": [
    "labels = ['A', 'B', 'C', 'D', 'E', 'A', 'C']\n",
    "uniq_labels = set(labels)\n",
    "print(uniq_labels)"
   ]
  }
 ],
 "metadata": {
  "kernelspec": {
   "display_name": "Python 3",
   "language": "python",
   "name": "python3"
  },
  "language_info": {
   "codemirror_mode": {
    "name": "ipython",
    "version": 3
   },
   "file_extension": ".py",
   "mimetype": "text/x-python",
   "name": "python",
   "nbconvert_exporter": "python",
   "pygments_lexer": "ipython3",
   "version": "3.6.7"
  }
 },
 "nbformat": 4,
 "nbformat_minor": 2
}
