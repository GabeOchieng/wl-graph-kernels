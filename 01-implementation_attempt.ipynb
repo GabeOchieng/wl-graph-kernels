{
 "cells": [
  {
   "cell_type": "code",
   "execution_count": 26,
   "metadata": {},
   "outputs": [],
   "source": [
    "import rdflib\n",
    "from collections import defaultdict\n",
    "from pprint import pprint"
   ]
  },
  {
   "cell_type": "code",
   "execution_count": 27,
   "metadata": {},
   "outputs": [],
   "source": [
    "g = rdflib.Graph().parse('./data/subset_NamedRockUnit.nt', format='nt')"
   ]
  },
  {
   "cell_type": "code",
   "execution_count": 32,
   "metadata": {},
   "outputs": [],
   "source": [
    "graph_temp = rdflib.Graph().parse('./data/Lexicon_NamedRockUnit.nt', format='nt')"
   ]
  },
  {
   "cell_type": "code",
   "execution_count": 43,
   "metadata": {},
   "outputs": [
    {
     "data": {
      "text/plain": [
       "[['http://data.bgs.ac.uk/id/Lexicon/NamedRockUnit/SO',\n",
       "  'http://data.bgs.ac.uk/ref/Lexicon/hasLithologyComponent',\n",
       "  'http://data.bgs.ac.uk/id/Lexicon/LithologyComponent/SO_SANDU'],\n",
       " ['http://data.bgs.ac.uk/id/Lexicon/NamedRockUnit/BYF',\n",
       "  'http://data.bgs.ac.uk/ref/Lexicon/hasUnitClass',\n",
       "  'http://data.bgs.ac.uk/id/Lexicon/Class/LS'],\n",
       " ['http://data.bgs.ac.uk/id/Lexicon/NamedRockUnit/USTL',\n",
       "  'http://data.bgs.ac.uk/ref/Lexicon/hasPredominantAge',\n",
       "  'http://data.bgs.ac.uk/id/Geochronology/Division/CE'],\n",
       " ['http://data.bgs.ac.uk/id/Lexicon/NamedRockUnit/OKSG',\n",
       "  'http://data.bgs.ac.uk/ref/Lexicon/hasThicknessDescription',\n",
       "  'Probably to 4m'],\n",
       " ['http://data.bgs.ac.uk/id/Lexicon/NamedRockUnit/UDCS',\n",
       "  'http://www.w3.org/2004/02/skos/core#altLabel',\n",
       "  'UDCS'],\n",
       " ['http://data.bgs.ac.uk/id/Lexicon/NamedRockUnit/FDHN3',\n",
       "  'http://data.bgs.ac.uk/ref/Lexicon/hasYoungestAge',\n",
       "  'http://data.bgs.ac.uk/id/Geochronology/Division/S'],\n",
       " ['http://data.bgs.ac.uk/id/Lexicon/NamedRockUnit/SASS',\n",
       "  'http://data.bgs.ac.uk/ref/Lexicon/hasUnitClass',\n",
       "  'http://data.bgs.ac.uk/id/Lexicon/Class/LDIN'],\n",
       " ['http://data.bgs.ac.uk/id/Lexicon/NamedRockUnit/RTD4B',\n",
       "  'http://www.w3.org/2004/02/skos/core#altLabel',\n",
       "  'RTD4B'],\n",
       " ['http://data.bgs.ac.uk/id/Lexicon/NamedRockUnit/OFS',\n",
       "  'http://www.w3.org/2004/02/skos/core#inScheme',\n",
       "  'http://data.bgs.ac.uk/ref/Lexicon/NamedRockUnit'],\n",
       " ['http://data.bgs.ac.uk/id/Lexicon/NamedRockUnit/PNG',\n",
       "  'http://www.w3.org/2000/01/rdf-schema#label',\n",
       "  'Penarth Group']]"
      ]
     },
     "execution_count": 43,
     "metadata": {},
     "output_type": "execute_result"
    }
   ],
   "source": [
    "[[str(x) for x in triple] for triple in graph_temp.triples((None, None, None))][:10]"
   ]
  },
  {
   "cell_type": "code",
   "execution_count": 28,
   "metadata": {},
   "outputs": [
    {
     "name": "stdout",
     "output_type": "stream",
     "text": [
      "_:A1 _:P2 _:C\n",
      "_:B1 _:P2 _:D\n",
      "_:A2 _:P2 _:C\n",
      "_:B2 _:P2 _:D\n"
     ]
    }
   ],
   "source": [
    "for triple in g:\n",
    "    print(*triple)"
   ]
  },
  {
   "cell_type": "code",
   "execution_count": 29,
   "metadata": {},
   "outputs": [
    {
     "name": "stdout",
     "output_type": "stream",
     "text": [
      "[rdflib.term.URIRef('_:A1'),\n",
      " rdflib.term.URIRef('_:B1'),\n",
      " rdflib.term.URIRef('_:A2'),\n",
      " rdflib.term.URIRef('_:B2')]\n"
     ]
    }
   ],
   "source": [
    "def get_instances(g: rdflib.Graph(), predicate_name: str):\n",
    "    return [t[0] for t in g if str(t[1]).endswith(predicate_name)]\n",
    "all_instances = get_instances(g, 'P2')\n",
    "pprint(all_instances)"
   ]
  },
  {
   "cell_type": "code",
   "execution_count": 30,
   "metadata": {},
   "outputs": [],
   "source": [
    "depth = 2\n",
    "vertices = []\n",
    "edges = []\n",
    "search_front = []\n",
    "labels = defaultdict(dict)\n",
    "subgraph_vertices = defaultdict(lambda: defaultdict(list))\n",
    "subgraph_edges = defaultdict(lambda: defaultdict(list))\n",
    "\n",
    "# 1. Initialization\n",
    "for instance in all_instances:\n",
    "    vertices.append(instance)\n",
    "    labels[instance][depth] = 'root'\n",
    "# 2. Subgraph Extraction\n",
    "for instance in all_instances:\n",
    "    search_front.append(instance)\n",
    "    for d in range(depth - 1, -1, -1):\n",
    "        new_search_front = []\n",
    "        for r in search_front:\n",
    "            # taking all triples that have as subject r\n",
    "            triples = [(subj, pred, obj) for (subj, pred, obj) in g if subj == r]\n",
    "            for (subj, pred, obj) in triples:\n",
    "                new_search_front.append(obj)\n",
    "                if obj not in vertices:\n",
    "                    vertices.append(obj)\n",
    "                if obj not in subgraph_vertices[instance][d]:\n",
    "                    subgraph_vertices[instance][d].append(obj)\n",
    "                labels[obj][d] = obj\n",
    "                if (subj, pred, obj) not in edges:\n",
    "                    edges.append( (subj, pred, obj) )\n",
    "                if (subj, pred, obj) not in subgraph_edges[instance][d]:\n",
    "                    subgraph_edges[instance][d].append( (subj, pred, obj) )\n",
    "                labels[ (subj, pred, obj) ][d] = pred\n",
    "        search_front = new_search_front"
   ]
  },
  {
   "cell_type": "code",
   "execution_count": 31,
   "metadata": {},
   "outputs": [
    {
     "name": "stdout",
     "output_type": "stream",
     "text": [
      "vertices:\n",
      "[rdflib.term.URIRef('_:A1'),\n",
      " rdflib.term.URIRef('_:B1'),\n",
      " rdflib.term.URIRef('_:A2'),\n",
      " rdflib.term.URIRef('_:B2'),\n",
      " rdflib.term.URIRef('_:C'),\n",
      " rdflib.term.URIRef('_:D')]\n",
      "edges:\n",
      "[(rdflib.term.URIRef('_:A1'),\n",
      "  rdflib.term.URIRef('_:P2'),\n",
      "  rdflib.term.URIRef('_:C')),\n",
      " (rdflib.term.URIRef('_:B1'),\n",
      "  rdflib.term.URIRef('_:P2'),\n",
      "  rdflib.term.URIRef('_:D')),\n",
      " (rdflib.term.URIRef('_:A2'),\n",
      "  rdflib.term.URIRef('_:P2'),\n",
      "  rdflib.term.URIRef('_:C')),\n",
      " (rdflib.term.URIRef('_:B2'),\n",
      "  rdflib.term.URIRef('_:P2'),\n",
      "  rdflib.term.URIRef('_:D'))]\n",
      "labels:\n",
      "defaultdict(<class 'dict'>,\n",
      "            {rdflib.term.URIRef('_:A1'): {2: 'root'},\n",
      "             rdflib.term.URIRef('_:A2'): {2: 'root'},\n",
      "             rdflib.term.URIRef('_:B1'): {2: 'root'},\n",
      "             rdflib.term.URIRef('_:B2'): {2: 'root'},\n",
      "             rdflib.term.URIRef('_:C'): {1: rdflib.term.URIRef('_:C')},\n",
      "             rdflib.term.URIRef('_:D'): {1: rdflib.term.URIRef('_:D')},\n",
      "             (rdflib.term.URIRef('_:A1'), rdflib.term.URIRef('_:P2'), rdflib.term.URIRef('_:C')): {1: rdflib.term.URIRef('_:P2')},\n",
      "             (rdflib.term.URIRef('_:A2'), rdflib.term.URIRef('_:P2'), rdflib.term.URIRef('_:C')): {1: rdflib.term.URIRef('_:P2')},\n",
      "             (rdflib.term.URIRef('_:B1'), rdflib.term.URIRef('_:P2'), rdflib.term.URIRef('_:D')): {1: rdflib.term.URIRef('_:P2')},\n",
      "             (rdflib.term.URIRef('_:B2'), rdflib.term.URIRef('_:P2'), rdflib.term.URIRef('_:D')): {1: rdflib.term.URIRef('_:P2')}})\n",
      "subgraph_vertices:\n",
      "defaultdict(<function <lambda> at 0x7f6a885b2bf8>,\n",
      "            {rdflib.term.URIRef('_:A1'): defaultdict(<class 'list'>,\n",
      "                                                     {1: [rdflib.term.URIRef('_:C')]}),\n",
      "             rdflib.term.URIRef('_:A2'): defaultdict(<class 'list'>,\n",
      "                                                     {1: [rdflib.term.URIRef('_:C')]}),\n",
      "             rdflib.term.URIRef('_:B1'): defaultdict(<class 'list'>,\n",
      "                                                     {1: [rdflib.term.URIRef('_:D')]}),\n",
      "             rdflib.term.URIRef('_:B2'): defaultdict(<class 'list'>,\n",
      "                                                     {1: [rdflib.term.URIRef('_:D')]})})\n",
      "subgraph_edges:\n",
      "defaultdict(<function <lambda> at 0x7f6a885b2378>,\n",
      "            {rdflib.term.URIRef('_:A1'): defaultdict(<class 'list'>,\n",
      "                                                     {1: [(rdflib.term.URIRef('_:A1'),\n",
      "                                                           rdflib.term.URIRef('_:P2'),\n",
      "                                                           rdflib.term.URIRef('_:C'))]}),\n",
      "             rdflib.term.URIRef('_:A2'): defaultdict(<class 'list'>,\n",
      "                                                     {1: [(rdflib.term.URIRef('_:A2'),\n",
      "                                                           rdflib.term.URIRef('_:P2'),\n",
      "                                                           rdflib.term.URIRef('_:C'))]}),\n",
      "             rdflib.term.URIRef('_:B1'): defaultdict(<class 'list'>,\n",
      "                                                     {1: [(rdflib.term.URIRef('_:B1'),\n",
      "                                                           rdflib.term.URIRef('_:P2'),\n",
      "                                                           rdflib.term.URIRef('_:D'))]}),\n",
      "             rdflib.term.URIRef('_:B2'): defaultdict(<class 'list'>,\n",
      "                                                     {1: [(rdflib.term.URIRef('_:B2'),\n",
      "                                                           rdflib.term.URIRef('_:P2'),\n",
      "                                                           rdflib.term.URIRef('_:D'))]})})\n"
     ]
    }
   ],
   "source": [
    "print('vertices:')\n",
    "pprint(vertices)\n",
    "print('edges:')\n",
    "pprint(edges)\n",
    "print('labels:')\n",
    "pprint(labels)\n",
    "print('subgraph_vertices:')\n",
    "pprint(subgraph_vertices)\n",
    "print('subgraph_edges:')\n",
    "pprint(subgraph_edges)"
   ]
  },
  {
   "cell_type": "code",
   "execution_count": 48,
   "metadata": {},
   "outputs": [
    {
     "name": "stdout",
     "output_type": "stream",
     "text": [
      "V:\n",
      "[rdflib.term.URIRef('_:B1'),\n",
      " rdflib.term.URIRef('_:A2'),\n",
      " rdflib.term.URIRef('_:A1'),\n",
      " rdflib.term.URIRef('_:B2'),\n",
      " rdflib.term.URIRef('_:D'),\n",
      " rdflib.term.URIRef('_:C')]\n",
      "E:\n",
      "[(rdflib.term.URIRef('_:B1'),\n",
      "  rdflib.term.URIRef('_:P2'),\n",
      "  rdflib.term.URIRef('_:D')),\n",
      " (rdflib.term.URIRef('_:A2'),\n",
      "  rdflib.term.URIRef('_:P2'),\n",
      "  rdflib.term.URIRef('_:C')),\n",
      " (rdflib.term.URIRef('_:A1'),\n",
      "  rdflib.term.URIRef('_:P2'),\n",
      "  rdflib.term.URIRef('_:C')),\n",
      " (rdflib.term.URIRef('_:B2'),\n",
      "  rdflib.term.URIRef('_:P2'),\n",
      "  rdflib.term.URIRef('_:D'))]\n",
      "V_sub:\n",
      "{rdflib.term.URIRef('_:C'): 1, rdflib.term.URIRef('_:D'): 1}\n",
      "E_sub:\n",
      "{(rdflib.term.URIRef('_:A1'), rdflib.term.URIRef('_:P2'), rdflib.term.URIRef('_:C')): 1,\n",
      " (rdflib.term.URIRef('_:A2'), rdflib.term.URIRef('_:P2'), rdflib.term.URIRef('_:C')): 1,\n",
      " (rdflib.term.URIRef('_:B1'), rdflib.term.URIRef('_:P2'), rdflib.term.URIRef('_:D')): 1,\n",
      " (rdflib.term.URIRef('_:B2'), rdflib.term.URIRef('_:P2'), rdflib.term.URIRef('_:D')): 1}\n",
      "labels:\n",
      "defaultdict(<class 'list'>,\n",
      "            {rdflib.term.URIRef('_:C'): [1, 1],\n",
      "             rdflib.term.URIRef('_:D'): [1, 1],\n",
      "             (rdflib.term.URIRef('_:A1'), 1): 'e',\n",
      "             (rdflib.term.URIRef('_:A1'), rdflib.term.URIRef('_:P2'), rdflib.term.URIRef('_:C')): [1],\n",
      "             (rdflib.term.URIRef('_:A2'), 1): 'e',\n",
      "             (rdflib.term.URIRef('_:A2'), rdflib.term.URIRef('_:P2'), rdflib.term.URIRef('_:C')): [1],\n",
      "             (rdflib.term.URIRef('_:B1'), 1): 'e',\n",
      "             (rdflib.term.URIRef('_:B1'), rdflib.term.URIRef('_:P2'), rdflib.term.URIRef('_:D')): [1],\n",
      "             (rdflib.term.URIRef('_:B2'), 1): 'e',\n",
      "             (rdflib.term.URIRef('_:B2'), rdflib.term.URIRef('_:P2'), rdflib.term.URIRef('_:D')): [1]})\n"
     ]
    }
   ],
   "source": [
    "V = []\n",
    "E = []\n",
    "depth = 1\n",
    "labels = dict(dict())\n",
    "search_front = []\n",
    "V_sub = dict()\n",
    "E_sub = dict()\n",
    "\n",
    "\n",
    "# 1. Initialization\n",
    "for i in instances:\n",
    "    V.append(i)\n",
    "    labels[i][depth] = 'e'\n",
    "# 2. Subgraph Extraction\n",
    "for i in instances:\n",
    "    search_front.append(i)\n",
    "    for i in range(depth - 1, -1, -1):\n",
    "        new_search_front = []\n",
    "        for r in search_front:\n",
    "            triples = [(s, p, o) for (s, p, o) in g if s == r]\n",
    "            for (s, p, o) in triples:\n",
    "                new_search_front.append(o)\n",
    "                if o not in V:\n",
    "                    V.append(o)\n",
    "                labels[o].append(depth)\n",
    "                if o not in V_sub.keys():\n",
    "                    V_sub[o] = depth\n",
    "                if (s, p, o) not in E:\n",
    "                    E.append((s, p, o))\n",
    "                labels[(s, p, o)].append(depth)\n",
    "                if (s, p, o) not in E_sub:\n",
    "                    E_sub[(s, p, o)] = depth\n",
    "        search_front = new_search_front\n",
    "\n",
    "\n",
    "print('V:')\n",
    "pprint(V)\n",
    "print('E:')\n",
    "pprint(E)\n",
    "print('V_sub:')\n",
    "pprint(V_sub)\n",
    "print('E_sub:')\n",
    "pprint(E_sub)\n",
    "print('labels:')\n",
    "pprint(labels)"
   ]
  }
 ],
 "metadata": {
  "kernelspec": {
   "display_name": "Python 3",
   "language": "python",
   "name": "python3"
  },
  "language_info": {
   "codemirror_mode": {
    "name": "ipython",
    "version": 3
   },
   "file_extension": ".py",
   "mimetype": "text/x-python",
   "name": "python",
   "nbconvert_exporter": "python",
   "pygments_lexer": "ipython3",
   "version": "3.6.7"
  }
 },
 "nbformat": 4,
 "nbformat_minor": 2
}
