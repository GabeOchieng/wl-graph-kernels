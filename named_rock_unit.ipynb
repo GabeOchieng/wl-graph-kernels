{
 "cells": [
  {
   "cell_type": "code",
   "execution_count": 5,
   "metadata": {},
   "outputs": [],
   "source": [
    "import rdflib\n",
    "from collections import Counter"
   ]
  },
  {
   "cell_type": "code",
   "execution_count": 6,
   "metadata": {},
   "outputs": [
    {
     "data": {
      "text/plain": [
       "314113"
      ]
     },
     "execution_count": 6,
     "metadata": {},
     "output_type": "execute_result"
    }
   ],
   "source": [
    "g = rdflib.Graph().parse('Lexicon_NamedRockUnit.nt', format='n3')\n",
    "len(g)"
   ]
  },
  {
   "cell_type": "code",
   "execution_count": 20,
   "metadata": {},
   "outputs": [
    {
     "data": {
      "text/plain": [
       "{rdflib.term.URIRef('http://data.bgs.ac.uk/id/Lexicon/LithogeneticType/FLUV'),\n",
       " rdflib.term.URIRef('http://data.bgs.ac.uk/id/Lexicon/LithogeneticType/GLACI')}"
      ]
     },
     "execution_count": 20,
     "metadata": {},
     "output_type": "execute_result"
    }
   ],
   "source": [
    "hasLithogenesis_triples = [(s, p, o) for (s, p, o) in g if str(p).endswith('hasLithogenesis')]\n",
    "labels = {\n",
    "    label for (label, count) in Counter(o for (s, p, o) in hasLithogenesis_triples).most_common(2)\n",
    "}\n",
    "labels"
   ]
  },
  {
   "cell_type": "code",
   "execution_count": 30,
   "metadata": {},
   "outputs": [
    {
     "data": {
      "text/plain": [
       "146"
      ]
     },
     "execution_count": 30,
     "metadata": {},
     "output_type": "execute_result"
    }
   ],
   "source": [
    "instances = {s for (s, p, o) in g if str(p).endswith('hasLithogenesis') and o in labels}\n",
    "len(instances)"
   ]
  },
  {
   "cell_type": "code",
   "execution_count": null,
   "metadata": {},
   "outputs": [],
   "source": []
  }
 ],
 "metadata": {
  "kernelspec": {
   "display_name": "Python 3",
   "language": "python",
   "name": "python3"
  },
  "language_info": {
   "codemirror_mode": {
    "name": "ipython",
    "version": 3
   },
   "file_extension": ".py",
   "mimetype": "text/x-python",
   "name": "python",
   "nbconvert_exporter": "python",
   "pygments_lexer": "ipython3",
   "version": "3.6.7"
  }
 },
 "nbformat": 4,
 "nbformat_minor": 2
}
