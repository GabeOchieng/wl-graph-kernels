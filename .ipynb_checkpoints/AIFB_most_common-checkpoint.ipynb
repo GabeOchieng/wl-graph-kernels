{
 "cells": [
  {
   "cell_type": "markdown",
   "metadata": {},
   "source": [
    "## 'AIFB'"
   ]
  },
  {
   "cell_type": "code",
   "execution_count": 9,
   "metadata": {},
   "outputs": [],
   "source": [
    "import pandas as pd\n",
    "import rdflib\n",
    "from path import Path\n",
    "import inspect\n",
    "from IPython.display import display\n",
    "from pprint import pprint"
   ]
  },
  {
   "cell_type": "code",
   "execution_count": 10,
   "metadata": {},
   "outputs": [],
   "source": [
    "PROJECT_DIR = Path(inspect.getsourcefile(lambda: 0)).abspath().parent\n",
    "DATA_DIR = PROJECT_DIR / 'data'"
   ]
  },
  {
   "cell_type": "code",
   "execution_count": 11,
   "metadata": {},
   "outputs": [],
   "source": [
    "fn_aifb = DATA_DIR / 'aifbfixed_complete.n3'"
   ]
  },
  {
   "cell_type": "code",
   "execution_count": 12,
   "metadata": {},
   "outputs": [],
   "source": [
    "g = rdflib.Graph().parse(fn_aifb, format='n3')"
   ]
  },
  {
   "cell_type": "code",
   "execution_count": 13,
   "metadata": {},
   "outputs": [],
   "source": [
    "df = pd.DataFrame(columns = ['s', 'p', 'o'])\n",
    "df['s'] = [str(x) for x in g.subjects()]\n",
    "df['p'] = [str(x) for x in g.predicates()]\n",
    "df['o'] = [str(x) for x in g.objects()]"
   ]
  },
  {
   "cell_type": "code",
   "execution_count": 14,
   "metadata": {},
   "outputs": [
    {
     "data": {
      "text/plain": [
       "(29226, 3)"
      ]
     },
     "execution_count": 14,
     "metadata": {},
     "output_type": "execute_result"
    }
   ],
   "source": [
    "df.shape"
   ]
  },
  {
   "cell_type": "code",
   "execution_count": 15,
   "metadata": {},
   "outputs": [
    {
     "data": {
      "text/plain": [
       "178"
      ]
     },
     "metadata": {},
     "output_type": "display_data"
    },
    {
     "data": {
      "text/plain": [
       "http://swrc.ontoware.org/ontology#affiliation    178\n",
       "Name: p, dtype: int64"
      ]
     },
     "metadata": {},
     "output_type": "display_data"
    },
    {
     "data": {
      "text/plain": [
       "http://www.aifb.uni-karlsruhe.de/Forschungsgruppen/viewForschungsgruppeOWL/id1instance    73\n",
       "http://www.aifb.uni-karlsruhe.de/Forschungsgruppen/viewForschungsgruppeOWL/id3instance    60\n",
       "http://www.aifb.uni-karlsruhe.de/Forschungsgruppen/viewForschungsgruppeOWL/id2instance    28\n",
       "http://www.aifb.uni-karlsruhe.de/Forschungsgruppen/viewForschungsgruppeOWL/id4instance    16\n",
       "http://www.aifb.uni-karlsruhe.de/Forschungsgruppen/viewForschungsgruppeOWL/id5instance     1\n",
       "Name: o, dtype: int64"
      ]
     },
     "metadata": {},
     "output_type": "display_data"
    }
   ],
   "source": [
    "# searching all the triples that contains 'affiliation' property\n",
    "crit_aff = df['p'].str.contains('#affiliation')\n",
    "display(df['s'].loc[crit_aff].nunique())\n",
    "display(df['p'].loc[crit_aff].value_counts())\n",
    "display(df['o'].loc[crit_aff].value_counts())"
   ]
  },
  {
   "cell_type": "code",
   "execution_count": 16,
   "metadata": {},
   "outputs": [
    {
     "data": {
      "text/plain": [
       "http://www.aifb.uni-karlsruhe.de/Forschungsgruppen/viewForschungsgruppeOWL/id3instance    951\n",
       "http://www.aifb.uni-karlsruhe.de/Forschungsgruppen/viewForschungsgruppeOWL/id1instance    210\n",
       "http://www.aifb.uni-karlsruhe.de/Forschungsgruppen/viewForschungsgruppeOWL/id2instance    165\n",
       "http://www.aifb.uni-karlsruhe.de/Forschungsgruppen/viewForschungsgruppeOWL/id4instance     65\n",
       "http://www.aifb.uni-karlsruhe.de/Forschungsgruppen/viewForschungsgruppeOWL/id5instance      4\n",
       "Name: s, dtype: int64"
      ]
     },
     "metadata": {},
     "output_type": "display_data"
    },
    {
     "data": {
      "text/plain": [
       "http://swrc.ontoware.org/ontology#publishes        1217\n",
       "http://swrc.ontoware.org/ontology#carriesOut         79\n",
       "http://swrc.ontoware.org/ontology#member             74\n",
       "http://swrc.ontoware.org/ontology#name                5\n",
       "http://swrc.ontoware.org/ontology#head                5\n",
       "http://swrc.ontoware.org/ontology#employs             5\n",
       "http://www.w3.org/1999/02/22-rdf-syntax-ns#type       5\n",
       "http://swrc.ontoware.org/ontology#homepage            5\n",
       "Name: p, dtype: int64"
      ]
     },
     "metadata": {},
     "output_type": "display_data"
    },
    {
     "data": {
      "text/plain": [
       "http://swrc.ontoware.org/ontology#ResearchGroup                                     5\n",
       "http://www.aifb.uni-karlsruhe.de/Projekte/viewProjektOWL/id19instance               3\n",
       "http://www.aifb.uni-karlsruhe.de/Publikationen/viewPublikationOWL/id63instance      2\n",
       "http://www.aifb.uni-karlsruhe.de/Publikationen/viewPublikationOWL/id986instance     2\n",
       "http://www.aifb.uni-karlsruhe.de/Projekte/viewProjektOWL/id38instance               2\n",
       "http://www.aifb.uni-karlsruhe.de/Publikationen/viewPublikationOWL/id1289instance    2\n",
       "http://www.aifb.uni-karlsruhe.de/Publikationen/viewPublikationOWL/id232instance     2\n",
       "http://www.aifb.uni-karlsruhe.de/Publikationen/viewPublikationOWL/id1034instance    2\n",
       "http://www.aifb.uni-karlsruhe.de/Publikationen/viewPublikationOWL/id236instance     2\n",
       "http://www.aifb.uni-karlsruhe.de/Publikationen/viewPublikationOWL/id588instance     2\n",
       "http://www.aifb.uni-karlsruhe.de/Projekte/viewProjektOWL/id63instance               2\n",
       "http://www.aifb.uni-karlsruhe.de/Projekte/viewProjektOWL/id31instance               2\n",
       "http://www.aifb.uni-karlsruhe.de/Publikationen/viewPublikationOWL/id1078instance    2\n",
       "http://www.aifb.uni-karlsruhe.de/Publikationen/viewPublikationOWL/id987instance     2\n",
       "http://www.aifb.uni-karlsruhe.de/Publikationen/viewPublikationOWL/id1274instance    2\n",
       "http://www.aifb.uni-karlsruhe.de/Publikationen/viewPublikationOWL/id406instance     1\n",
       "http://www.aifb.uni-karlsruhe.de/Publikationen/viewPublikationOWL/id483instance     1\n",
       "http://www.aifb.uni-karlsruhe.de/Publikationen/viewPublikationOWL/id326instance     1\n",
       "http://www.aifb.uni-karlsruhe.de/Publikationen/viewPublikationOWL/id865instance     1\n",
       "http://www.aifb.uni-karlsruhe.de/Publikationen/viewPublikationOWL/id249instance     1\n",
       "http://www.aifb.uni-karlsruhe.de/Publikationen/viewPublikationOWL/id444instance     1\n",
       "http://www.aifb.uni-karlsruhe.de/Publikationen/viewPublikationOWL/id860instance     1\n",
       "http://www.aifb.uni-karlsruhe.de/Projekte/viewProjektOWL/id77instance               1\n",
       "http://www.aifb.uni-karlsruhe.de/Publikationen/viewPublikationOWL/id122instance     1\n",
       "http://www.aifb.uni-karlsruhe.de/Publikationen/viewPublikationOWL/id706instance     1\n",
       "http://www.aifb.uni-karlsruhe.de/Publikationen/viewPublikationOWL/id240instance     1\n",
       "http://www.aifb.uni-karlsruhe.de/Publikationen/viewPublikationOWL/id1237instance    1\n",
       "http://www.aifb.uni-karlsruhe.de/Publikationen/viewPublikationOWL/id787instance     1\n",
       "http://www.aifb.uni-karlsruhe.de/Publikationen/viewPublikationOWL/id673instance     1\n",
       "http://www.aifb.uni-karlsruhe.de/Publikationen/viewPublikationOWL/id752instance     1\n",
       "                                                                                   ..\n",
       "http://www.aifb.uni-karlsruhe.de/Projekte/viewProjektOWL/id10instance               1\n",
       "http://www.aifb.uni-karlsruhe.de/Publikationen/viewPublikationOWL/id871instance     1\n",
       "http://www.aifb.uni-karlsruhe.de/Publikationen/viewPublikationOWL/id818instance     1\n",
       "http://www.aifb.uni-karlsruhe.de/Publikationen/viewPublikationOWL/id927instance     1\n",
       "http://www.aifb.uni-karlsruhe.de/Publikationen/viewPublikationOWL/id1238instance    1\n",
       "http://www.aifb.uni-karlsruhe.de/Publikationen/viewPublikationOWL/id734instance     1\n",
       "http://www.aifb.uni-karlsruhe.de/Publikationen/viewPublikationOWL/id740instance     1\n",
       "http://www.aifb.uni-karlsruhe.de/Personen/viewPersonOWL/id2080instance              1\n",
       "http://www.aifb.uni-karlsruhe.de/Personen/viewPersonOWL/id65instance                1\n",
       "http://www.aifb.uni-karlsruhe.de/Publikationen/viewPublikationOWL/id40instance      1\n",
       "http://www.aifb.uni-karlsruhe.de/Publikationen/viewPublikationOWL/id1174instance    1\n",
       "http://www.aifb.uni-karlsruhe.de/Publikationen/viewPublikationOWL/id1152instance    1\n",
       "http://www.aifb.uni-karlsruhe.de/Personen/viewPersonOWL/id2121instance              1\n",
       "http://www.aifb.uni-karlsruhe.de/Publikationen/viewPublikationOWL/id449instance     1\n",
       "http://www.aifb.uni-karlsruhe.de/Publikationen/viewPublikationOWL/id559instance     1\n",
       "http://www.aifb.uni-karlsruhe.de/Publikationen/viewPublikationOWL/id1318instance    1\n",
       "http://www.aifb.uni-karlsruhe.de/Publikationen/viewPublikationOWL/id683instance     1\n",
       "http://www.aifb.uni-karlsruhe.de/Publikationen/viewPublikationOWL/id905instance     1\n",
       "http://www.aifb.uni-karlsruhe.de/Publikationen/viewPublikationOWL/id880instance     1\n",
       "http://www.aifb.uni-karlsruhe.de/Publikationen/viewPublikationOWL/id658instance     1\n",
       "http://www.aifb.uni-karlsruhe.de/Publikationen/viewPublikationOWL/id842instance     1\n",
       "http://www.aifb.uni-karlsruhe.de/Publikationen/viewPublikationOWL/id779instance     1\n",
       "http://www.aifb.uni-karlsruhe.de/Publikationen/viewPublikationOWL/id698instance     1\n",
       "http://www.aifb.uni-karlsruhe.de/Publikationen/viewPublikationOWL/id801instance     1\n",
       "http://www.aifb.uni-karlsruhe.de/Publikationen/viewPublikationOWL/id707instance     1\n",
       "http://www.aifb.uni-karlsruhe.de/Publikationen/viewPublikationOWL/id566instance     1\n",
       "http://www.aifb.uni-karlsruhe.de/Personen/viewPersonOWL/id2120instance              1\n",
       "http://www.aifb.uni-karlsruhe.de/Publikationen/viewPublikationOWL/id442instance     1\n",
       "http://www.aifb.uni-karlsruhe.de/Projekte/viewProjektOWL/id36instance               1\n",
       "http://www.aifb.uni-karlsruhe.de/Personen/viewPersonOWL/id2105instance              1\n",
       "Name: o, Length: 1376, dtype: int64"
      ]
     },
     "metadata": {},
     "output_type": "display_data"
    }
   ],
   "source": [
    "# searching all the triples that contains 'viewForschungsgruppeOWL/id[1-5]instance', i.e. all\n",
    "#the objects found in the previous cell.\n",
    "crit_isInstance = df['s'].str.contains(r'viewForschungsgruppeOWL/id[1-5]instance')\n",
    "display(df['s'].loc[crit_isInstance].value_counts())\n",
    "display(df['p'].loc[crit_isInstance].value_counts())\n",
    "display(df['o'].loc[crit_isInstance].value_counts())"
   ]
  }
 ],
 "metadata": {
  "kernelspec": {
   "display_name": "Python 3",
   "language": "python",
   "name": "python3"
  },
  "language_info": {
   "codemirror_mode": {
    "name": "ipython",
    "version": 3
   },
   "file_extension": ".py",
   "mimetype": "text/x-python",
   "name": "python",
   "nbconvert_exporter": "python",
   "pygments_lexer": "ipython3",
   "version": "3.6.7"
  }
 },
 "nbformat": 4,
 "nbformat_minor": 2
}
