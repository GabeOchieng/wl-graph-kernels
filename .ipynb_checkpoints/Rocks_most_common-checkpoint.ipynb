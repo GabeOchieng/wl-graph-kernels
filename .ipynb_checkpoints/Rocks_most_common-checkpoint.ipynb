{
 "cells": [
  {
   "cell_type": "markdown",
   "metadata": {},
   "source": [
    "## 'Named Rock Unit'"
   ]
  },
  {
   "cell_type": "code",
   "execution_count": 42,
   "metadata": {},
   "outputs": [],
   "source": [
    "import rdflib\n",
    "from pathlib import Path\n",
    "import inspect"
   ]
  },
  {
   "cell_type": "code",
   "execution_count": 26,
   "metadata": {},
   "outputs": [],
   "source": [
    "PROJECT_DIR = Path(inspect.getsourcefile(lambda: 0)).absolute().parent\n",
    "DATA_DIR = PROJECT_DIR / 'data'\n",
    "fn = str(DATA_DIR / 'Lexicon_NamedRockUnit.nt')"
   ]
  },
  {
   "cell_type": "code",
   "execution_count": 28,
   "metadata": {},
   "outputs": [],
   "source": [
    "g = rdflib.Graph().parse(fn, format='nt')"
   ]
  },
  {
   "cell_type": "code",
   "execution_count": 41,
   "metadata": {},
   "outputs": [
    {
     "name": "stdout",
     "output_type": "stream",
     "text": [
      "{rdflib.term.URIRef('http://data.bgs.ac.uk/id/Lexicon/LithogeneticType/FLUV'),\n",
      " rdflib.term.URIRef('http://data.bgs.ac.uk/id/Lexicon/LithogeneticType/GLACI')}\n"
     ]
    }
   ],
   "source": [
    "hasLithogenesis_triples = [(s, p, o) for (s, p, o) in g if str(p).endswith('hasLithogenesis')]\n",
    "labels = {\n",
    "    label for (label, count) in Counter(o for (s, p, o) in hasLithogenesis_triples).most_common(2)\n",
    "}\n",
    "labels"
   ]
  },
  {
   "cell_type": "code",
   "execution_count": 40,
   "metadata": {},
   "outputs": [
    {
     "name": "stdout",
     "output_type": "stream",
     "text": [
      "number of instances:  146\n"
     ]
    }
   ],
   "source": [
    "instances = {s for (s, p, o) in g if str(p).endswith('hasLithogenesis') and o in labels}\n",
    "print('number of instances: ', len(instances))\n",
    "assert len(set(instances)) == len(instances)"
   ]
  },
  {
   "cell_type": "code",
   "execution_count": 47,
   "metadata": {},
   "outputs": [
    {
     "data": {
      "text/plain": [
       "[((rdflib.term.URIRef('http://data.bgs.ac.uk/id/Lexicon/NamedRockUnit/BKFD'),\n",
       "   rdflib.term.URIRef('http://data.bgs.ac.uk/ref/Lexicon/hasSpatialScopeOfDefinition'),\n",
       "   rdflib.term.URIRef('http://data.bgs.ac.uk/id/Lexicon/SpatialScope/NotApplicable')),\n",
       "  1),\n",
       " ((rdflib.term.URIRef('http://data.bgs.ac.uk/id/Lexicon/NamedRockUnit/BISG'),\n",
       "   rdflib.term.URIRef('http://data.bgs.ac.uk/ref/Lexicon/hasSpatialScopeOfDefinition'),\n",
       "   rdflib.term.URIRef('http://data.bgs.ac.uk/id/Lexicon/SpatialScope/LOCAL')),\n",
       "  1)]"
      ]
     },
     "execution_count": 47,
     "metadata": {},
     "output_type": "execute_result"
    }
   ],
   "source": [
    "instances_triples = {(s, p, o) for (s, p, o) in g if s in instances}\n",
    "Counter(instances_triples).most_common(2)"
   ]
  }
 ],
 "metadata": {
  "kernelspec": {
   "display_name": "Python 3",
   "language": "python",
   "name": "python3"
  },
  "language_info": {
   "codemirror_mode": {
    "name": "ipython",
    "version": 3
   },
   "file_extension": ".py",
   "mimetype": "text/x-python",
   "name": "python",
   "nbconvert_exporter": "python",
   "pygments_lexer": "ipython3",
   "version": "3.6.7"
  }
 },
 "nbformat": 4,
 "nbformat_minor": 2
}
