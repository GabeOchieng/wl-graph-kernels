{
 "cells": [
  {
   "cell_type": "markdown",
   "metadata": {},
   "source": [
    "## 'AIFB'"
   ]
  },
  {
   "cell_type": "code",
   "execution_count": 2,
   "metadata": {},
   "outputs": [],
   "source": [
    "import pandas as pd\n",
    "import rdflib\n",
    "from path import Path\n",
    "import inspect\n",
    "from IPython.display import display\n",
    "from pprint import pprint"
   ]
  },
  {
   "cell_type": "code",
   "execution_count": 3,
   "metadata": {},
   "outputs": [],
   "source": [
    "PROJECT_DIR = Path(inspect.getsourcefile(lambda: 0)).abspath().parent\n",
    "DATA_DIR = PROJECT_DIR / 'data'"
   ]
  },
  {
   "cell_type": "code",
   "execution_count": 4,
   "metadata": {},
   "outputs": [],
   "source": [
    "fn_aifb = DATA_DIR / 'aifbfixed_complete.n3'"
   ]
  },
  {
   "cell_type": "code",
   "execution_count": 5,
   "metadata": {},
   "outputs": [],
   "source": [
    "g = rdflib.Graph().parse(fn_aifb, format='n3')"
   ]
  },
  {
   "cell_type": "code",
   "execution_count": 6,
   "metadata": {},
   "outputs": [],
   "source": [
    "df = pd.DataFrame(columns = ['s', 'p', 'o'])\n",
    "df['s'] = [str(x) for x in g.subjects()]\n",
    "df['p'] = [str(x) for x in g.predicates()]\n",
    "df['o'] = [str(x) for x in g.objects()]"
   ]
  },
  {
   "cell_type": "code",
   "execution_count": 7,
   "metadata": {},
   "outputs": [
    {
     "data": {
      "text/plain": [
       "(29226, 3)"
      ]
     },
     "execution_count": 7,
     "metadata": {},
     "output_type": "execute_result"
    }
   ],
   "source": [
    "df.shape"
   ]
  },
  {
   "cell_type": "code",
   "execution_count": 23,
   "metadata": {},
   "outputs": [
    {
     "data": {
      "text/plain": [
       "178"
      ]
     },
     "metadata": {},
     "output_type": "display_data"
    },
    {
     "ename": "IndexingError",
     "evalue": "Unalignable boolean Series provided as indexer (index of the boolean Series and of the indexed object do not match",
     "output_type": "error",
     "traceback": [
      "\u001b[0;31m---------------------------------------------------------------------------\u001b[0m",
      "\u001b[0;31mIndexingError\u001b[0m                             Traceback (most recent call last)",
      "\u001b[0;32m<ipython-input-23-afd78e356c2b>\u001b[0m in \u001b[0;36m<module>\u001b[0;34m\u001b[0m\n\u001b[1;32m      3\u001b[0m \u001b[0mdisplay\u001b[0m\u001b[0;34m(\u001b[0m\u001b[0mdf\u001b[0m\u001b[0;34m[\u001b[0m\u001b[0;34m's'\u001b[0m\u001b[0;34m]\u001b[0m\u001b[0;34m.\u001b[0m\u001b[0mloc\u001b[0m\u001b[0;34m[\u001b[0m\u001b[0mcrit_aff\u001b[0m\u001b[0;34m]\u001b[0m\u001b[0;34m.\u001b[0m\u001b[0mnunique\u001b[0m\u001b[0;34m(\u001b[0m\u001b[0;34m)\u001b[0m\u001b[0;34m)\u001b[0m\u001b[0;34m\u001b[0m\u001b[0;34m\u001b[0m\u001b[0m\n\u001b[1;32m      4\u001b[0m \u001b[0mcrit_temp\u001b[0m \u001b[0;34m=\u001b[0m \u001b[0mdf\u001b[0m\u001b[0;34m[\u001b[0m\u001b[0;34m's'\u001b[0m\u001b[0;34m]\u001b[0m\u001b[0;34m.\u001b[0m\u001b[0mloc\u001b[0m\u001b[0;34m[\u001b[0m\u001b[0mcrit_aff\u001b[0m\u001b[0;34m]\u001b[0m\u001b[0;34m.\u001b[0m\u001b[0mstr\u001b[0m\u001b[0;34m.\u001b[0m\u001b[0mcontains\u001b[0m\u001b[0;34m(\u001b[0m\u001b[0;34m'Project'\u001b[0m\u001b[0;34m)\u001b[0m\u001b[0;34m\u001b[0m\u001b[0;34m\u001b[0m\u001b[0m\n\u001b[0;32m----> 5\u001b[0;31m \u001b[0mdisplay\u001b[0m\u001b[0;34m(\u001b[0m\u001b[0mdf\u001b[0m\u001b[0;34m[\u001b[0m\u001b[0;34m's'\u001b[0m\u001b[0;34m]\u001b[0m\u001b[0;34m.\u001b[0m\u001b[0mloc\u001b[0m\u001b[0;34m[\u001b[0m\u001b[0mcrit_temp\u001b[0m\u001b[0;34m]\u001b[0m\u001b[0;34m)\u001b[0m\u001b[0;34m\u001b[0m\u001b[0;34m\u001b[0m\u001b[0m\n\u001b[0m\u001b[1;32m      6\u001b[0m \u001b[0mdisplay\u001b[0m\u001b[0;34m(\u001b[0m\u001b[0mdf\u001b[0m\u001b[0;34m[\u001b[0m\u001b[0;34m'p'\u001b[0m\u001b[0;34m]\u001b[0m\u001b[0;34m.\u001b[0m\u001b[0mloc\u001b[0m\u001b[0;34m[\u001b[0m\u001b[0mcrit_aff\u001b[0m\u001b[0;34m]\u001b[0m\u001b[0;34m.\u001b[0m\u001b[0mvalue_counts\u001b[0m\u001b[0;34m(\u001b[0m\u001b[0;34m)\u001b[0m\u001b[0;34m)\u001b[0m\u001b[0;34m\u001b[0m\u001b[0;34m\u001b[0m\u001b[0m\n\u001b[1;32m      7\u001b[0m \u001b[0mdisplay\u001b[0m\u001b[0;34m(\u001b[0m\u001b[0mdf\u001b[0m\u001b[0;34m[\u001b[0m\u001b[0;34m'o'\u001b[0m\u001b[0;34m]\u001b[0m\u001b[0;34m.\u001b[0m\u001b[0mloc\u001b[0m\u001b[0;34m[\u001b[0m\u001b[0mcrit_aff\u001b[0m\u001b[0;34m]\u001b[0m\u001b[0;34m.\u001b[0m\u001b[0mvalue_counts\u001b[0m\u001b[0;34m(\u001b[0m\u001b[0;34m)\u001b[0m\u001b[0;34m)\u001b[0m\u001b[0;34m\u001b[0m\u001b[0;34m\u001b[0m\u001b[0m\n",
      "\u001b[0;32m~/miniconda3/envs/juice/lib/python3.6/site-packages/pandas/core/indexing.py\u001b[0m in \u001b[0;36m__getitem__\u001b[0;34m(self, key)\u001b[0m\n\u001b[1;32m   1476\u001b[0m \u001b[0;34m\u001b[0m\u001b[0m\n\u001b[1;32m   1477\u001b[0m             \u001b[0mmaybe_callable\u001b[0m \u001b[0;34m=\u001b[0m \u001b[0mcom\u001b[0m\u001b[0;34m.\u001b[0m\u001b[0m_apply_if_callable\u001b[0m\u001b[0;34m(\u001b[0m\u001b[0mkey\u001b[0m\u001b[0;34m,\u001b[0m \u001b[0mself\u001b[0m\u001b[0;34m.\u001b[0m\u001b[0mobj\u001b[0m\u001b[0;34m)\u001b[0m\u001b[0;34m\u001b[0m\u001b[0;34m\u001b[0m\u001b[0m\n\u001b[0;32m-> 1478\u001b[0;31m             \u001b[0;32mreturn\u001b[0m \u001b[0mself\u001b[0m\u001b[0;34m.\u001b[0m\u001b[0m_getitem_axis\u001b[0m\u001b[0;34m(\u001b[0m\u001b[0mmaybe_callable\u001b[0m\u001b[0;34m,\u001b[0m \u001b[0maxis\u001b[0m\u001b[0;34m=\u001b[0m\u001b[0maxis\u001b[0m\u001b[0;34m)\u001b[0m\u001b[0;34m\u001b[0m\u001b[0;34m\u001b[0m\u001b[0m\n\u001b[0m\u001b[1;32m   1479\u001b[0m \u001b[0;34m\u001b[0m\u001b[0m\n\u001b[1;32m   1480\u001b[0m     \u001b[0;32mdef\u001b[0m \u001b[0m_is_scalar_access\u001b[0m\u001b[0;34m(\u001b[0m\u001b[0mself\u001b[0m\u001b[0;34m,\u001b[0m \u001b[0mkey\u001b[0m\u001b[0;34m)\u001b[0m\u001b[0;34m:\u001b[0m\u001b[0;34m\u001b[0m\u001b[0;34m\u001b[0m\u001b[0m\n",
      "\u001b[0;32m~/miniconda3/envs/juice/lib/python3.6/site-packages/pandas/core/indexing.py\u001b[0m in \u001b[0;36m_getitem_axis\u001b[0;34m(self, key, axis)\u001b[0m\n\u001b[1;32m   1866\u001b[0m             \u001b[0;32mreturn\u001b[0m \u001b[0mself\u001b[0m\u001b[0;34m.\u001b[0m\u001b[0m_get_slice_axis\u001b[0m\u001b[0;34m(\u001b[0m\u001b[0mkey\u001b[0m\u001b[0;34m,\u001b[0m \u001b[0maxis\u001b[0m\u001b[0;34m=\u001b[0m\u001b[0maxis\u001b[0m\u001b[0;34m)\u001b[0m\u001b[0;34m\u001b[0m\u001b[0;34m\u001b[0m\u001b[0m\n\u001b[1;32m   1867\u001b[0m         \u001b[0;32melif\u001b[0m \u001b[0mcom\u001b[0m\u001b[0;34m.\u001b[0m\u001b[0mis_bool_indexer\u001b[0m\u001b[0;34m(\u001b[0m\u001b[0mkey\u001b[0m\u001b[0;34m)\u001b[0m\u001b[0;34m:\u001b[0m\u001b[0;34m\u001b[0m\u001b[0;34m\u001b[0m\u001b[0m\n\u001b[0;32m-> 1868\u001b[0;31m             \u001b[0;32mreturn\u001b[0m \u001b[0mself\u001b[0m\u001b[0;34m.\u001b[0m\u001b[0m_getbool_axis\u001b[0m\u001b[0;34m(\u001b[0m\u001b[0mkey\u001b[0m\u001b[0;34m,\u001b[0m \u001b[0maxis\u001b[0m\u001b[0;34m=\u001b[0m\u001b[0maxis\u001b[0m\u001b[0;34m)\u001b[0m\u001b[0;34m\u001b[0m\u001b[0;34m\u001b[0m\u001b[0m\n\u001b[0m\u001b[1;32m   1869\u001b[0m         \u001b[0;32melif\u001b[0m \u001b[0mis_list_like_indexer\u001b[0m\u001b[0;34m(\u001b[0m\u001b[0mkey\u001b[0m\u001b[0;34m)\u001b[0m\u001b[0;34m:\u001b[0m\u001b[0;34m\u001b[0m\u001b[0;34m\u001b[0m\u001b[0m\n\u001b[1;32m   1870\u001b[0m \u001b[0;34m\u001b[0m\u001b[0m\n",
      "\u001b[0;32m~/miniconda3/envs/juice/lib/python3.6/site-packages/pandas/core/indexing.py\u001b[0m in \u001b[0;36m_getbool_axis\u001b[0;34m(self, key, axis)\u001b[0m\n\u001b[1;32m   1491\u001b[0m             \u001b[0maxis\u001b[0m \u001b[0;34m=\u001b[0m \u001b[0mself\u001b[0m\u001b[0;34m.\u001b[0m\u001b[0maxis\u001b[0m \u001b[0;32mor\u001b[0m \u001b[0;36m0\u001b[0m\u001b[0;34m\u001b[0m\u001b[0;34m\u001b[0m\u001b[0m\n\u001b[1;32m   1492\u001b[0m         \u001b[0mlabels\u001b[0m \u001b[0;34m=\u001b[0m \u001b[0mself\u001b[0m\u001b[0;34m.\u001b[0m\u001b[0mobj\u001b[0m\u001b[0;34m.\u001b[0m\u001b[0m_get_axis\u001b[0m\u001b[0;34m(\u001b[0m\u001b[0maxis\u001b[0m\u001b[0;34m)\u001b[0m\u001b[0;34m\u001b[0m\u001b[0;34m\u001b[0m\u001b[0m\n\u001b[0;32m-> 1493\u001b[0;31m         \u001b[0mkey\u001b[0m \u001b[0;34m=\u001b[0m \u001b[0mcheck_bool_indexer\u001b[0m\u001b[0;34m(\u001b[0m\u001b[0mlabels\u001b[0m\u001b[0;34m,\u001b[0m \u001b[0mkey\u001b[0m\u001b[0;34m)\u001b[0m\u001b[0;34m\u001b[0m\u001b[0;34m\u001b[0m\u001b[0m\n\u001b[0m\u001b[1;32m   1494\u001b[0m         \u001b[0minds\u001b[0m\u001b[0;34m,\u001b[0m \u001b[0;34m=\u001b[0m \u001b[0mkey\u001b[0m\u001b[0;34m.\u001b[0m\u001b[0mnonzero\u001b[0m\u001b[0;34m(\u001b[0m\u001b[0;34m)\u001b[0m\u001b[0;34m\u001b[0m\u001b[0;34m\u001b[0m\u001b[0m\n\u001b[1;32m   1495\u001b[0m         \u001b[0;32mtry\u001b[0m\u001b[0;34m:\u001b[0m\u001b[0;34m\u001b[0m\u001b[0;34m\u001b[0m\u001b[0m\n",
      "\u001b[0;32m~/miniconda3/envs/juice/lib/python3.6/site-packages/pandas/core/indexing.py\u001b[0m in \u001b[0;36mcheck_bool_indexer\u001b[0;34m(ax, key)\u001b[0m\n\u001b[1;32m   2354\u001b[0m         \u001b[0mmask\u001b[0m \u001b[0;34m=\u001b[0m \u001b[0misna\u001b[0m\u001b[0;34m(\u001b[0m\u001b[0mresult\u001b[0m\u001b[0;34m.\u001b[0m\u001b[0m_values\u001b[0m\u001b[0;34m)\u001b[0m\u001b[0;34m\u001b[0m\u001b[0;34m\u001b[0m\u001b[0m\n\u001b[1;32m   2355\u001b[0m         \u001b[0;32mif\u001b[0m \u001b[0mmask\u001b[0m\u001b[0;34m.\u001b[0m\u001b[0many\u001b[0m\u001b[0;34m(\u001b[0m\u001b[0;34m)\u001b[0m\u001b[0;34m:\u001b[0m\u001b[0;34m\u001b[0m\u001b[0;34m\u001b[0m\u001b[0m\n\u001b[0;32m-> 2356\u001b[0;31m             raise IndexingError('Unalignable boolean Series provided as '\n\u001b[0m\u001b[1;32m   2357\u001b[0m                                 \u001b[0;34m'indexer (index of the boolean Series and of '\u001b[0m\u001b[0;34m\u001b[0m\u001b[0;34m\u001b[0m\u001b[0m\n\u001b[1;32m   2358\u001b[0m                                 'the indexed object do not match')\n",
      "\u001b[0;31mIndexingError\u001b[0m: Unalignable boolean Series provided as indexer (index of the boolean Series and of the indexed object do not match"
     ]
    }
   ],
   "source": [
    "# searching all the triples that contains 'affiliation' property\n",
    "crit_aff = df['p'].str.contains('#affiliation')\n",
    "display(df['s'].loc[crit_aff].nunique())\n",
    "crit_temp = df['s'].loc[crit_aff].str.contains('Project')\n",
    "display(df['s'].loc[crit_temp])\n",
    "display(df['p'].loc[crit_aff].value_counts())\n",
    "display(df['o'].loc[crit_aff].value_counts())"
   ]
  },
  {
   "cell_type": "code",
   "execution_count": 15,
   "metadata": {},
   "outputs": [
    {
     "data": {
      "text/plain": [
       "http://www.aifb.uni-karlsruhe.de/Forschungsgruppen/viewForschungsgruppeOWL/id1instance    2\n",
       "http://www.aifb.uni-karlsruhe.de/Forschungsgruppen/viewForschungsgruppeOWL/id3instance    2\n",
       "http://www.aifb.uni-karlsruhe.de/Forschungsgruppen/viewForschungsgruppeOWL/id2instance    1\n",
       "Name: s, dtype: int64"
      ]
     },
     "metadata": {},
     "output_type": "display_data"
    },
    {
     "data": {
      "text/plain": [
       "http://swrc.ontoware.org/ontology#employs    5\n",
       "Name: p, dtype: int64"
      ]
     },
     "metadata": {},
     "output_type": "display_data"
    },
    {
     "data": {
      "text/plain": [
       "http://www.aifb.uni-karlsruhe.de/Personen/viewPersonOWL/id52instance      1\n",
       "http://www.aifb.uni-karlsruhe.de/Personen/viewPersonOWL/id64instance      1\n",
       "http://www.aifb.uni-karlsruhe.de/Personen/viewPersonOWL/id2145instance    1\n",
       "http://www.aifb.uni-karlsruhe.de/Personen/viewPersonOWL/id2080instance    1\n",
       "http://www.aifb.uni-karlsruhe.de/Personen/viewPersonOWL/id24instance      1\n",
       "Name: o, dtype: int64"
      ]
     },
     "metadata": {},
     "output_type": "display_data"
    }
   ],
   "source": [
    "# searching all the triples that contains 'affiliation' property\n",
    "crit_mem = df['p'].str.contains('#employs')\n",
    "display(df['s'].loc[crit_mem].value_counts())\n",
    "display(df['p'].loc[crit_mem].value_counts())\n",
    "display(df['o'].loc[crit_mem].value_counts())"
   ]
  },
  {
   "cell_type": "code",
   "execution_count": 27,
   "metadata": {},
   "outputs": [],
   "source": [
    "instances = df['s'].loc[crit_aff].values.tolist()"
   ]
  },
  {
   "cell_type": "code",
   "execution_count": 28,
   "metadata": {},
   "outputs": [],
   "source": [
    "crit_isInstances = [False] * df.shape[0]\n",
    "for i in range(df.shape[0]):\n",
    "    if df['s'][i] in instances:\n",
    "        crit_isInstances = True"
   ]
  },
  {
   "cell_type": "code",
   "execution_count": 29,
   "metadata": {},
   "outputs": [
    {
     "data": {
      "text/plain": [
       "http://www.aifb.uni-karlsruhe.de/Forschungsgruppen/viewForschungsgruppeOWL/id3instance    951\n",
       "http://www.aifb.uni-karlsruhe.de/Forschungsgruppen/viewForschungsgruppeOWL/id1instance    210\n",
       "http://www.aifb.uni-karlsruhe.de/Forschungsgruppen/viewForschungsgruppeOWL/id2instance    165\n",
       "http://www.aifb.uni-karlsruhe.de/Forschungsgruppen/viewForschungsgruppeOWL/id4instance     65\n",
       "http://www.aifb.uni-karlsruhe.de/Forschungsgruppen/viewForschungsgruppeOWL/id5instance      4\n",
       "Name: s, dtype: int64"
      ]
     },
     "metadata": {},
     "output_type": "display_data"
    },
    {
     "data": {
      "text/plain": [
       "http://swrc.ontoware.org/ontology#publishes        1217\n",
       "http://swrc.ontoware.org/ontology#carriesOut         79\n",
       "http://swrc.ontoware.org/ontology#member             74\n",
       "http://swrc.ontoware.org/ontology#employs             5\n",
       "http://swrc.ontoware.org/ontology#head                5\n",
       "http://www.w3.org/1999/02/22-rdf-syntax-ns#type       5\n",
       "http://swrc.ontoware.org/ontology#homepage            5\n",
       "http://swrc.ontoware.org/ontology#name                5\n",
       "Name: p, dtype: int64"
      ]
     },
     "metadata": {},
     "output_type": "display_data"
    },
    {
     "data": {
      "text/plain": [
       "http://swrc.ontoware.org/ontology#ResearchGroup                                     5\n",
       "http://www.aifb.uni-karlsruhe.de/Projekte/viewProjektOWL/id19instance               3\n",
       "http://www.aifb.uni-karlsruhe.de/Publikationen/viewPublikationOWL/id1034instance    2\n",
       "http://www.aifb.uni-karlsruhe.de/Publikationen/viewPublikationOWL/id1289instance    2\n",
       "http://www.aifb.uni-karlsruhe.de/Publikationen/viewPublikationOWL/id588instance     2\n",
       "http://www.aifb.uni-karlsruhe.de/Publikationen/viewPublikationOWL/id232instance     2\n",
       "http://www.aifb.uni-karlsruhe.de/Publikationen/viewPublikationOWL/id63instance      2\n",
       "http://www.aifb.uni-karlsruhe.de/Publikationen/viewPublikationOWL/id1078instance    2\n",
       "http://www.aifb.uni-karlsruhe.de/Publikationen/viewPublikationOWL/id236instance     2\n",
       "http://www.aifb.uni-karlsruhe.de/Publikationen/viewPublikationOWL/id1274instance    2\n",
       "http://www.aifb.uni-karlsruhe.de/Publikationen/viewPublikationOWL/id986instance     2\n",
       "http://www.aifb.uni-karlsruhe.de/Publikationen/viewPublikationOWL/id987instance     2\n",
       "http://www.aifb.uni-karlsruhe.de/Projekte/viewProjektOWL/id38instance               2\n",
       "http://www.aifb.uni-karlsruhe.de/Projekte/viewProjektOWL/id31instance               2\n",
       "http://www.aifb.uni-karlsruhe.de/Projekte/viewProjektOWL/id63instance               2\n",
       "http://www.aifb.uni-karlsruhe.de/Publikationen/viewPublikationOWL/id1239instance    1\n",
       "http://www.aifb.uni-karlsruhe.de/Publikationen/viewPublikationOWL/id308instance     1\n",
       "http://www.aifb.uni-karlsruhe.de/Publikationen/viewPublikationOWL/id368instance     1\n",
       "http://www.aifb.uni-karlsruhe.de/Publikationen/viewPublikationOWL/id1056instance    1\n",
       "http://www.aifb.uni-karlsruhe.de/Publikationen/viewPublikationOWL/id601instance     1\n",
       "http://www.aifb.uni-karlsruhe.de/Publikationen/viewPublikationOWL/id489instance     1\n",
       "http://www.aifb.uni-karlsruhe.de/Publikationen/viewPublikationOWL/id553instance     1\n",
       "http://www.aifb.uni-karlsruhe.de/Publikationen/viewPublikationOWL/id1065instance    1\n",
       "http://www.aifb.uni-karlsruhe.de/Publikationen/viewPublikationOWL/id687instance     1\n",
       "http://www.aifb.uni-karlsruhe.de/Publikationen/viewPublikationOWL/id446instance     1\n",
       "http://www.aifb.uni-karlsruhe.de/Publikationen/viewPublikationOWL/id970instance     1\n",
       "http://www.aifb.uni-karlsruhe.de/Publikationen/viewPublikationOWL/id422instance     1\n",
       "http://www.aifb.uni-karlsruhe.de/Publikationen/viewPublikationOWL/id237instance     1\n",
       "http://www.aifb.uni-karlsruhe.de/Publikationen/viewPublikationOWL/id518instance     1\n",
       "http://www.aifb.uni-karlsruhe.de/Publikationen/viewPublikationOWL/id942instance     1\n",
       "                                                                                   ..\n",
       "http://www.aifb.uni-karlsruhe.de/Forschungsgruppen/UsabilityEng                     1\n",
       "http://www.aifb.uni-karlsruhe.de/Publikationen/viewPublikationOWL/id1215instance    1\n",
       "http://www.aifb.uni-karlsruhe.de/Publikationen/viewPublikationOWL/id431instance     1\n",
       "http://www.aifb.uni-karlsruhe.de/Publikationen/viewPublikationOWL/id1152instance    1\n",
       "http://www.aifb.uni-karlsruhe.de/Publikationen/viewPublikationOWL/id861instance     1\n",
       "http://www.aifb.uni-karlsruhe.de/Publikationen/viewPublikationOWL/id1050instance    1\n",
       "http://www.aifb.uni-karlsruhe.de/Publikationen/viewPublikationOWL/id794instance     1\n",
       "http://www.aifb.uni-karlsruhe.de/Publikationen/viewPublikationOWL/id674instance     1\n",
       "http://www.aifb.uni-karlsruhe.de/Publikationen/viewPublikationOWL/id806instance     1\n",
       "http://www.aifb.uni-karlsruhe.de/Publikationen/viewPublikationOWL/id1244instance    1\n",
       "http://www.aifb.uni-karlsruhe.de/Publikationen/viewPublikationOWL/id931instance     1\n",
       "http://www.aifb.uni-karlsruhe.de/Publikationen/viewPublikationOWL/id401instance     1\n",
       "http://www.aifb.uni-karlsruhe.de/Publikationen/viewPublikationOWL/id1238instance    1\n",
       "http://www.aifb.uni-karlsruhe.de/Publikationen/viewPublikationOWL/id1201instance    1\n",
       "http://www.aifb.uni-karlsruhe.de/Publikationen/viewPublikationOWL/id530instance     1\n",
       "http://www.aifb.uni-karlsruhe.de/Publikationen/viewPublikationOWL/id1186instance    1\n",
       "http://www.aifb.uni-karlsruhe.de/Publikationen/viewPublikationOWL/id870instance     1\n",
       "http://www.aifb.uni-karlsruhe.de/Publikationen/viewPublikationOWL/id714instance     1\n",
       "http://www.aifb.uni-karlsruhe.de/Publikationen/viewPublikationOWL/id152instance     1\n",
       "http://www.aifb.uni-karlsruhe.de/Publikationen/viewPublikationOWL/id981instance     1\n",
       "http://www.aifb.uni-karlsruhe.de/Publikationen/viewPublikationOWL/id1207instance    1\n",
       "http://www.aifb.uni-karlsruhe.de/Publikationen/viewPublikationOWL/id964instance     1\n",
       "http://www.aifb.uni-karlsruhe.de/Publikationen/viewPublikationOWL/id907instance     1\n",
       "http://www.aifb.uni-karlsruhe.de/Publikationen/viewPublikationOWL/id559instance     1\n",
       "http://www.aifb.uni-karlsruhe.de/Publikationen/viewPublikationOWL/id523instance     1\n",
       "http://www.aifb.uni-karlsruhe.de/Publikationen/viewPublikationOWL/id577instance     1\n",
       "http://www.aifb.uni-karlsruhe.de/Publikationen/viewPublikationOWL/id496instance     1\n",
       "http://www.aifb.uni-karlsruhe.de/Publikationen/viewPublikationOWL/id947instance     1\n",
       "http://www.aifb.uni-karlsruhe.de/Publikationen/viewPublikationOWL/id1134instance    1\n",
       "http://www.aifb.uni-karlsruhe.de/Publikationen/viewPublikationOWL/id1097instance    1\n",
       "Name: o, Length: 1376, dtype: int64"
      ]
     },
     "metadata": {},
     "output_type": "display_data"
    }
   ],
   "source": [
    "display(df['s'].loc[crit_isInstance].value_counts())\n",
    "display(df['p'].loc[crit_isInstance].value_counts())\n",
    "display(df['o'].loc[crit_isInstance].value_counts())"
   ]
  }
 ],
 "metadata": {
  "kernelspec": {
   "display_name": "Python 3",
   "language": "python",
   "name": "python3"
  },
  "language_info": {
   "codemirror_mode": {
    "name": "ipython",
    "version": 3
   },
   "file_extension": ".py",
   "mimetype": "text/x-python",
   "name": "python",
   "nbconvert_exporter": "python",
   "pygments_lexer": "ipython3",
   "version": "3.6.7"
  }
 },
 "nbformat": 4,
 "nbformat_minor": 2
}
